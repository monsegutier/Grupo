{
  "cells": [
    {
      "cell_type": "markdown",
      "metadata": {
        "colab_type": "text",
        "id": "view-in-github"
      },
      "source": [
        "<a href=\"https://colab.research.google.com/github/monsegutier/Grupo/blob/main/ChurnV3_desbalanceo.ipynb\" target=\"_parent\"><img src=\"https://colab.research.google.com/assets/colab-badge.svg\" alt=\"Open In Colab\"/></a>"
      ]
    },
    {
      "cell_type": "code",
      "execution_count": 1,
      "metadata": {
        "id": "8r5pjEf0g70I"
      },
      "outputs": [],
      "source": [
        "# Importación de librerías\n",
        "import pandas as pd\n",
        "import numpy as np\n",
        "import matplotlib.pyplot as plt\n",
        "import seaborn as sns"
      ]
    },
    {
      "cell_type": "code",
      "execution_count": 2,
      "metadata": {
        "id": "g7Qjx5tJhigC"
      },
      "outputs": [],
      "source": [
        "# Cargar el conjunto de datos\n",
        "# url del dataset\n",
        "url= \"https://github.com/monsegutier/Grupo/raw/main/Mineria%20de%20Datos/02%20Customer%20Churn-Dataset.xlsx\"\n",
        "# df = pd.read_excel('/content/02 Customer Churn-Dataset.xlsx')\n",
        "df = pd.read_excel(url)"
      ]
    },
    {
      "cell_type": "code",
      "execution_count": 3,
      "metadata": {
        "colab": {
          "base_uri": "https://localhost:8080/"
        },
        "id": "323fyjcBhyig",
        "outputId": "0c136d8c-90ec-4e13-cee1-5c692a598d7f"
      },
      "outputs": [
        {
          "name": "stdout",
          "output_type": "stream",
          "text": [
            "   customerID  gender  SeniorCitizen Partner Dependents  tenure PhoneService  \\\n",
            "0  7590-VHVEG  Female              0     Yes         No       1           No   \n",
            "1  5575-GNVDE    Male              0      No         No      34          Yes   \n",
            "2  3668-QPYBK    Male              0      No         No       2          Yes   \n",
            "3  7795-CFOCW    Male              0      No         No      45           No   \n",
            "4  9237-HQITU  Female              0      No         No       2          Yes   \n",
            "\n",
            "      MultipleLines InternetService OnlineSecurity  ... StreamingTV  \\\n",
            "0  No phone service             DSL             No  ...          No   \n",
            "1                No             DSL            Yes  ...          No   \n",
            "2                No             DSL            Yes  ...          No   \n",
            "3  No phone service             DSL            Yes  ...          No   \n",
            "4                No     Fiber optic             No  ...          No   \n",
            "\n",
            "  StreamingMovies        Contract PaperlessBilling              PaymentMethod  \\\n",
            "0              No  Month-to-month              Yes           Electronic check   \n",
            "1              No        One year               No               Mailed check   \n",
            "2              No  Month-to-month              Yes               Mailed check   \n",
            "3              No        One year               No  Bank transfer (automatic)   \n",
            "4              No  Month-to-month              Yes           Electronic check   \n",
            "\n",
            "  MonthlyCharges TotalCharges numAdminTickets  numTechTickets Churn  \n",
            "0          29.85        29.85               0               0    No  \n",
            "1          56.95       1889.5               0               0    No  \n",
            "2          53.85       108.15               0               0   Yes  \n",
            "3          42.30      1840.75               0               3    No  \n",
            "4          70.70       151.65               0               0   Yes  \n",
            "\n",
            "[5 rows x 23 columns]\n"
          ]
        }
      ],
      "source": [
        "# Mostrar las primeras filas del conjunto de datos\n",
        "print(df.head())\n"
      ]
    },
    {
      "cell_type": "code",
      "execution_count": 4,
      "metadata": {
        "colab": {
          "base_uri": "https://localhost:8080/"
        },
        "id": "5MgPveASh5tN",
        "outputId": "418d4ba0-6dad-41a4-f2f5-dd3526dd4689"
      },
      "outputs": [
        {
          "name": "stdout",
          "output_type": "stream",
          "text": [
            "Filas: 7043\n",
            "Columnas: 23\n"
          ]
        }
      ],
      "source": [
        "# Verificar el tamaño del conjunto de datos\n",
        "print(\"Filas:\", df.shape[0])\n",
        "print(\"Columnas:\", df.shape[1])"
      ]
    },
    {
      "cell_type": "code",
      "execution_count": 5,
      "metadata": {
        "colab": {
          "base_uri": "https://localhost:8080/"
        },
        "id": "CiJfPHRrh4OD",
        "outputId": "d006139b-46af-459b-a8fe-124e1eeb7079"
      },
      "outputs": [
        {
          "name": "stdout",
          "output_type": "stream",
          "text": [
            "       SeniorCitizen       tenure  MonthlyCharges  numAdminTickets  \\\n",
            "count    7043.000000  7043.000000     7043.000000      7043.000000   \n",
            "mean        0.162147    32.371149       64.761692         0.515689   \n",
            "std         0.368612    24.559481       30.090047         1.275299   \n",
            "min         0.000000     0.000000       18.250000         0.000000   \n",
            "25%         0.000000     9.000000       35.500000         0.000000   \n",
            "50%         0.000000    29.000000       70.350000         0.000000   \n",
            "75%         0.000000    55.000000       89.850000         0.000000   \n",
            "max         1.000000    72.000000      118.750000         5.000000   \n",
            "\n",
            "       numTechTickets  \n",
            "count     7043.000000  \n",
            "mean         0.419566  \n",
            "std          1.250117  \n",
            "min          0.000000  \n",
            "25%          0.000000  \n",
            "50%          0.000000  \n",
            "75%          0.000000  \n",
            "max          9.000000  \n"
          ]
        }
      ],
      "source": [
        "# Resumen estadístico del conjunto de datos\n",
        "print(df.describe())"
      ]
    },
    {
      "cell_type": "code",
      "execution_count": 6,
      "metadata": {
        "colab": {
          "base_uri": "https://localhost:8080/"
        },
        "id": "FL_JcwGciK-_",
        "outputId": "09cd8d71-1b45-4d37-b78d-5337099cd634"
      },
      "outputs": [
        {
          "name": "stdout",
          "output_type": "stream",
          "text": [
            "customerID          0\n",
            "gender              0\n",
            "SeniorCitizen       0\n",
            "Partner             0\n",
            "Dependents          0\n",
            "tenure              0\n",
            "PhoneService        0\n",
            "MultipleLines       0\n",
            "InternetService     0\n",
            "OnlineSecurity      0\n",
            "OnlineBackup        0\n",
            "DeviceProtection    0\n",
            "TechSupport         0\n",
            "StreamingTV         0\n",
            "StreamingMovies     0\n",
            "Contract            0\n",
            "PaperlessBilling    0\n",
            "PaymentMethod       0\n",
            "MonthlyCharges      0\n",
            "TotalCharges        0\n",
            "numAdminTickets     0\n",
            "numTechTickets      0\n",
            "Churn               0\n",
            "dtype: int64\n"
          ]
        }
      ],
      "source": [
        "# Verificar valores nulos\n",
        "print(df.isnull().sum())"
      ]
    },
    {
      "cell_type": "code",
      "execution_count": 7,
      "metadata": {
        "colab": {
          "base_uri": "https://localhost:8080/"
        },
        "id": "ExndYAFyjJEo",
        "outputId": "a82236d1-d2f0-44e4-b8bf-057fcf93cc93"
      },
      "outputs": [
        {
          "name": "stdout",
          "output_type": "stream",
          "text": [
            "Tipos de datos de las columnas:\n",
            "customerID           object\n",
            "gender               object\n",
            "SeniorCitizen         int64\n",
            "Partner              object\n",
            "Dependents           object\n",
            "tenure                int64\n",
            "PhoneService         object\n",
            "MultipleLines        object\n",
            "InternetService      object\n",
            "OnlineSecurity       object\n",
            "OnlineBackup         object\n",
            "DeviceProtection     object\n",
            "TechSupport          object\n",
            "StreamingTV          object\n",
            "StreamingMovies      object\n",
            "Contract             object\n",
            "PaperlessBilling     object\n",
            "PaymentMethod        object\n",
            "MonthlyCharges      float64\n",
            "TotalCharges         object\n",
            "numAdminTickets       int64\n",
            "numTechTickets        int64\n",
            "Churn                object\n",
            "dtype: object\n"
          ]
        }
      ],
      "source": [
        "# Ver los tipos de datos de las columnas\n",
        "print(\"Tipos de datos de las columnas:\")\n",
        "print(df.dtypes)"
      ]
    },
    {
      "cell_type": "code",
      "execution_count": 8,
      "metadata": {
        "colab": {
          "base_uri": "https://localhost:8080/",
          "height": 472
        },
        "id": "LwXfWFRginr2",
        "outputId": "a958203c-bb16-4c87-f204-5996d9dbc10d"
      },
      "outputs": [
        {
          "data": {
            "image/png": "[encoded data removed]",
            "text/plain": [
              "<Figure size 640x480 with 1 Axes>"
            ]
          },
          "metadata": {},
          "output_type": "display_data"
        }
      ],
      "source": [
        "# Visualizar la distribución de la variable objetivo (Churn)\n",
        "sns.countplot(x='Churn', data=df)\n",
        "plt.title('Distribución de Churn')\n",
        "plt.show()\n"
      ]
    },
    {
      "cell_type": "code",
      "execution_count": 9,
      "metadata": {
        "colab": {
          "base_uri": "https://localhost:8080/"
        },
        "id": "14xmL4ariyue",
        "outputId": "af0efbb2-b3a7-42ee-939d-2d8da846a00e"
      },
      "outputs": [
        {
          "name": "stdout",
          "output_type": "stream",
          "text": [
            "Recuento de cada clase:\n",
            "Churn\n",
            "No     5174\n",
            "Yes    1869\n",
            "Name: count, dtype: int64\n"
          ]
        }
      ],
      "source": [
        "# Verificar el desbalanceo de clases\n",
        "class_counts = df['Churn'].value_counts()\n",
        "print(\"Recuento de cada clase:\")\n",
        "print(class_counts)"
      ]
    },
    {
      "cell_type": "code",
      "execution_count": 10,
      "metadata": {
        "id": "v8B_Lrs8jlVJ"
      },
      "outputs": [],
      "source": [
        "# Borramos columna customerID\n",
        "df.drop('customerID', axis=1, inplace=True)"
      ]
    },
    {
      "cell_type": "markdown",
      "metadata": {
        "id": "pNH9hJbHl05C"
      },
      "source": [
        "Balanceo"
      ]
    },
    {
      "cell_type": "code",
      "execution_count": 11,
      "metadata": {
        "id": "s1ykBnyImpC4"
      },
      "outputs": [],
      "source": [
        "from imblearn.over_sampling import SMOTE\n",
        "from sklearn.compose import ColumnTransformer\n"
      ]
    },
    {
      "cell_type": "code",
      "execution_count": 12,
      "metadata": {
        "id": "THaF678nnCOV"
      },
      "outputs": [],
      "source": [
        "from sklearn.preprocessing import LabelEncoder\n",
        "# Definir la variable objetivo\n",
        "target = 'Churn'"
      ]
    },
    {
      "cell_type": "code",
      "execution_count": 13,
      "metadata": {
        "id": "XeRos-utnJkg"
      },
      "outputs": [],
      "source": [
        "# Separar características y variable objetivo\n",
        "X = df.drop(target, axis=1)  # X contiene todas las características\n",
        "y = df[target]  # y contiene la variable objetivo\n"
      ]
    },
    {
      "cell_type": "code",
      "execution_count": 14,
      "metadata": {
        "id": "cTuc2LhNnREV"
      },
      "outputs": [],
      "source": [
        "# Separar variables numéricas y categóricas\n",
        "numerical_columns = ['tenure', 'MonthlyCharges', 'TotalCharges', 'numAdminTickets', 'numTechTickets']\n",
        "categorical_columns = ['gender', 'Partner', 'Dependents', 'PhoneService', 'MultipleLines', 'InternetService', 'OnlineSecurity', 'OnlineBackup', 'DeviceProtection', 'TechSupport', 'StreamingTV', 'StreamingMovies', 'Contract', 'PaperlessBilling', 'PaymentMethod']\n",
        "\n"
      ]
    },
    {
      "cell_type": "code",
      "execution_count": 15,
      "metadata": {
        "id": "UV4zSAeJnV7Q"
      },
      "outputs": [],
      "source": [
        "# Crear un objeto LabelEncoder para cada variable categórica\n",
        "encoders = {col: LabelEncoder() for col in categorical_columns}\n",
        "\n",
        "# Codificar cada columna categórica\n",
        "X_encoded = X.copy()\n",
        "for col in categorical_columns:\n",
        "    X_encoded[col] = encoders[col].fit_transform(X[col])"
      ]
    },
    {
      "cell_type": "code",
      "execution_count": 16,
      "metadata": {
        "colab": {
          "base_uri": "https://localhost:8080/"
        },
        "id": "kFNzXutKoEx4",
        "outputId": "bcaf4014-e6d4-4dfe-86c9-ffaf231944f8"
      },
      "outputs": [
        {
          "name": "stdout",
          "output_type": "stream",
          "text": [
            "La columna TotalCharges tiene valores vacíos.\n"
          ]
        }
      ],
      "source": [
        "import numpy as np\n",
        "\n",
        "# Verificar qué columnas numéricas tienen valores vacíos\n",
        "for col in numerical_columns:\n",
        "    if X_encoded[col].isin([' ']).sum() > 0:\n",
        "        print(f\"La columna {col} tiene valores vacíos.\")"
      ]
    },
    {
      "cell_type": "code",
      "execution_count": 17,
      "metadata": {
        "id": "a3O08G39oaOT"
      },
      "outputs": [],
      "source": [
        "# Reemplazar los valores vacíos en la columna 'TotalCharges' por 0\n",
        "X_encoded['TotalCharges'] = X_encoded['TotalCharges'].replace(' ', 0)"
      ]
    },
    {
      "cell_type": "code",
      "execution_count": 18,
      "metadata": {
        "id": "_JIks2K3nc2L"
      },
      "outputs": [],
      "source": [
        "from imblearn.over_sampling import SMOTE\n",
        "smote = SMOTE(random_state=42)\n",
        "X_resampled, y_resampled = smote.fit_resample(X_encoded.values, y)"
      ]
    },
    {
      "cell_type": "code",
      "execution_count": 19,
      "metadata": {
        "colab": {
          "base_uri": "https://localhost:8080/"
        },
        "id": "TetfQv1UpB_G",
        "outputId": "f32e01b7-84fa-4182-88fe-373287d40106"
      },
      "outputs": [
        {
          "name": "stdout",
          "output_type": "stream",
          "text": [
            "Después de aplicar SMOTE:\n",
            "Churn\n",
            "No     5174\n",
            "Yes    5174\n",
            "Name: count, dtype: int64\n"
          ]
        }
      ],
      "source": [
        "print(\"Después de aplicar SMOTE:\")\n",
        "print(pd.Series(y_resampled).value_counts())\n"
      ]
    },
    {
      "cell_type": "code",
      "execution_count": 20,
      "metadata": {
        "colab": {
          "base_uri": "https://localhost:8080/"
        },
        "id": "C3lmxeP7pdSG",
        "outputId": "099665ea-62f9-4921-c1f2-6cca62fc6160"
      },
      "outputs": [
        {
          "name": "stdout",
          "output_type": "stream",
          "text": [
            "Requirement already satisfied: pycaret in /usr/local/lib/python3.10/dist-packages (3.3.2)\n",
            "Requirement already satisfied: ipython>=5.5.0 in /usr/local/lib/python3.10/dist-packages (from pycaret) (7.34.0)\n",
            "Requirement already satisfied: ipywidgets>=7.6.5 in /usr/local/lib/python3.10/dist-packages (from pycaret) (7.7.1)\n",
            "Requirement already satisfied: tqdm>=4.62.0 in /usr/local/lib/python3.10/dist-packages (from pycaret) (4.66.2)\n",
            "Requirement already satisfied: numpy<1.27,>=1.21 in /usr/local/lib/python3.10/dist-packages (from pycaret) (1.25.2)\n",
            "Requirement already satisfied: pandas<2.2.0 in /usr/local/lib/python3.10/dist-packages (from pycaret) (2.0.3)\n",
            "Requirement already satisfied: jinja2>=3 in /usr/local/lib/python3.10/dist-packages (from pycaret) (3.1.3)\n",
            "Requirement already satisfied: scipy<=1.11.4,>=1.6.1 in /usr/local/lib/python3.10/dist-packages (from pycaret) (1.11.4)\n",
            "Requirement already satisfied: joblib<1.4,>=1.2.0 in /usr/local/lib/python3.10/dist-packages (from pycaret) (1.3.2)\n",
            "Requirement already satisfied: scikit-learn>1.4.0 in /usr/local/lib/python3.10/dist-packages (from pycaret) (1.4.2)\n",
            "Requirement already satisfied: pyod>=1.1.3 in /usr/local/lib/python3.10/dist-packages (from pycaret) (1.1.3)\n",
            "Requirement already satisfied: imbalanced-learn>=0.12.0 in /usr/local/lib/python3.10/dist-packages (from pycaret) (0.12.2)\n",
            "Requirement already satisfied: category-encoders>=2.4.0 in /usr/local/lib/python3.10/dist-packages (from pycaret) (2.6.3)\n",
            "Requirement already satisfied: lightgbm>=3.0.0 in /usr/local/lib/python3.10/dist-packages (from pycaret) (4.1.0)\n",
            "Requirement already satisfied: numba>=0.55.0 in /usr/local/lib/python3.10/dist-packages (from pycaret) (0.58.1)\n",
            "Requirement already satisfied: requests>=2.27.1 in /usr/local/lib/python3.10/dist-packages (from pycaret) (2.31.0)\n",
            "Requirement already satisfied: psutil>=5.9.0 in /usr/local/lib/python3.10/dist-packages (from pycaret) (5.9.5)\n",
            "Requirement already satisfied: markupsafe>=2.0.1 in /usr/local/lib/python3.10/dist-packages (from pycaret) (2.1.5)\n",
            "Requirement already satisfied: importlib-metadata>=4.12.0 in /usr/local/lib/python3.10/dist-packages (from pycaret) (7.1.0)\n",
            "Requirement already satisfied: nbformat>=4.2.0 in /usr/local/lib/python3.10/dist-packages (from pycaret) (5.10.4)\n",
            "Requirement already satisfied: cloudpickle in /usr/local/lib/python3.10/dist-packages (from pycaret) (2.2.1)\n",
            "Requirement already satisfied: deprecation>=2.1.0 in /usr/local/lib/python3.10/dist-packages (from pycaret) (2.1.0)\n",
            "Requirement already satisfied: xxhash in /usr/local/lib/python3.10/dist-packages (from pycaret) (3.4.1)\n",
            "Requirement already satisfied: matplotlib<3.8.0 in /usr/local/lib/python3.10/dist-packages (from pycaret) (3.7.1)\n",
            "Requirement already satisfied: scikit-plot>=0.3.7 in /usr/local/lib/python3.10/dist-packages (from pycaret) (0.3.7)\n",
            "Requirement already satisfied: yellowbrick>=1.4 in /usr/local/lib/python3.10/dist-packages (from pycaret) (1.5)\n",
            "Requirement already satisfied: plotly>=5.14.0 in /usr/local/lib/python3.10/dist-packages (from pycaret) (5.15.0)\n",
            "Requirement already satisfied: kaleido>=0.2.1 in /usr/local/lib/python3.10/dist-packages (from pycaret) (0.2.1)\n",
            "Requirement already satisfied: schemdraw==0.15 in /usr/local/lib/python3.10/dist-packages (from pycaret) (0.15)\n",
            "Requirement already satisfied: plotly-resampler>=0.8.3.1 in /usr/local/lib/python3.10/dist-packages (from pycaret) (0.10.0)\n",
            "Requirement already satisfied: statsmodels>=0.12.1 in /usr/local/lib/python3.10/dist-packages (from pycaret) (0.14.2)\n",
            "Requirement already satisfied: sktime==0.26.0 in /usr/local/lib/python3.10/dist-packages (from pycaret) (0.26.0)\n",
            "Requirement already satisfied: tbats>=1.1.3 in /usr/local/lib/python3.10/dist-packages (from pycaret) (1.1.3)\n",
            "Requirement already satisfied: pmdarima>=2.0.4 in /usr/local/lib/python3.10/dist-packages (from pycaret) (2.0.4)\n",
            "Requirement already satisfied: wurlitzer in /usr/local/lib/python3.10/dist-packages (from pycaret) (3.1.0)\n",
            "Requirement already satisfied: packaging in /usr/local/lib/python3.10/dist-packages (from sktime==0.26.0->pycaret) (24.0)\n",
            "Requirement already satisfied: scikit-base<0.8.0 in /usr/local/lib/python3.10/dist-packages (from sktime==0.26.0->pycaret) (0.7.7)\n",
            "Requirement already satisfied: patsy>=0.5.1 in /usr/local/lib/python3.10/dist-packages (from category-encoders>=2.4.0->pycaret) (0.5.6)\n",
            "Requirement already satisfied: threadpoolctl>=2.0.0 in /usr/local/lib/python3.10/dist-packages (from imbalanced-learn>=0.12.0->pycaret) (3.4.0)\n",
            "Requirement already satisfied: zipp>=0.5 in /usr/local/lib/python3.10/dist-packages (from importlib-metadata>=4.12.0->pycaret) (3.18.1)\n",
            "Requirement already satisfied: setuptools>=18.5 in /usr/local/lib/python3.10/dist-packages (from ipython>=5.5.0->pycaret) (67.7.2)\n",
            "Requirement already satisfied: jedi>=0.16 in /usr/local/lib/python3.10/dist-packages (from ipython>=5.5.0->pycaret) (0.19.1)\n",
            "Requirement already satisfied: decorator in /usr/local/lib/python3.10/dist-packages (from ipython>=5.5.0->pycaret) (4.4.2)\n",
            "Requirement already satisfied: pickleshare in /usr/local/lib/python3.10/dist-packages (from ipython>=5.5.0->pycaret) (0.7.5)\n",
            "Requirement already satisfied: traitlets>=4.2 in /usr/local/lib/python3.10/dist-packages (from ipython>=5.5.0->pycaret) (5.7.1)\n",
            "Requirement already satisfied: prompt-toolkit!=3.0.0,!=3.0.1,<3.1.0,>=2.0.0 in /usr/local/lib/python3.10/dist-packages (from ipython>=5.5.0->pycaret) (3.0.43)\n",
            "Requirement already satisfied: pygments in /usr/local/lib/python3.10/dist-packages (from ipython>=5.5.0->pycaret) (2.16.1)\n",
            "Requirement already satisfied: backcall in /usr/local/lib/python3.10/dist-packages (from ipython>=5.5.0->pycaret) (0.2.0)\n",
            "Requirement already satisfied: matplotlib-inline in /usr/local/lib/python3.10/dist-packages (from ipython>=5.5.0->pycaret) (0.1.7)\n",
            "Requirement already satisfied: pexpect>4.3 in /usr/local/lib/python3.10/dist-packages (from ipython>=5.5.0->pycaret) (4.9.0)\n",
            "Requirement already satisfied: ipykernel>=4.5.1 in /usr/local/lib/python3.10/dist-packages (from ipywidgets>=7.6.5->pycaret) (5.5.6)\n",
            "Requirement already satisfied: ipython-genutils~=0.2.0 in /usr/local/lib/python3.10/dist-packages (from ipywidgets>=7.6.5->pycaret) (0.2.0)\n",
            "Requirement already satisfied: widgetsnbextension~=3.6.0 in /usr/local/lib/python3.10/dist-packages (from ipywidgets>=7.6.5->pycaret) (3.6.6)\n",
            "Requirement already satisfied: jupyterlab-widgets>=1.0.0 in /usr/local/lib/python3.10/dist-packages (from ipywidgets>=7.6.5->pycaret) (3.0.10)\n",
            "Requirement already satisfied: contourpy>=1.0.1 in /usr/local/lib/python3.10/dist-packages (from matplotlib<3.8.0->pycaret) (1.2.1)\n",
            "Requirement already satisfied: cycler>=0.10 in /usr/local/lib/python3.10/dist-packages (from matplotlib<3.8.0->pycaret) (0.12.1)\n",
            "Requirement already satisfied: fonttools>=4.22.0 in /usr/local/lib/python3.10/dist-packages (from matplotlib<3.8.0->pycaret) (4.51.0)\n",
            "Requirement already satisfied: kiwisolver>=1.0.1 in /usr/local/lib/python3.10/dist-packages (from matplotlib<3.8.0->pycaret) (1.4.5)\n",
            "Requirement already satisfied: pillow>=6.2.0 in /usr/local/lib/python3.10/dist-packages (from matplotlib<3.8.0->pycaret) (9.4.0)\n",
            "Requirement already satisfied: pyparsing>=2.3.1 in /usr/local/lib/python3.10/dist-packages (from matplotlib<3.8.0->pycaret) (3.1.2)\n",
            "Requirement already satisfied: python-dateutil>=2.7 in /usr/local/lib/python3.10/dist-packages (from matplotlib<3.8.0->pycaret) (2.8.2)\n",
            "Requirement already satisfied: fastjsonschema>=2.15 in /usr/local/lib/python3.10/dist-packages (from nbformat>=4.2.0->pycaret) (2.19.1)\n",
            "Requirement already satisfied: jsonschema>=2.6 in /usr/local/lib/python3.10/dist-packages (from nbformat>=4.2.0->pycaret) (4.19.2)\n",
            "Requirement already satisfied: jupyter-core!=5.0.*,>=4.12 in /usr/local/lib/python3.10/dist-packages (from nbformat>=4.2.0->pycaret) (5.7.2)\n",
            "Requirement already satisfied: llvmlite<0.42,>=0.41.0dev0 in /usr/local/lib/python3.10/dist-packages (from numba>=0.55.0->pycaret) (0.41.1)\n",
            "Requirement already satisfied: pytz>=2020.1 in /usr/local/lib/python3.10/dist-packages (from pandas<2.2.0->pycaret) (2023.4)\n",
            "Requirement already satisfied: tzdata>=2022.1 in /usr/local/lib/python3.10/dist-packages (from pandas<2.2.0->pycaret) (2024.1)\n",
            "Requirement already satisfied: tenacity>=6.2.0 in /usr/local/lib/python3.10/dist-packages (from plotly>=5.14.0->pycaret) (8.2.3)\n",
            "Requirement already satisfied: dash>=2.9.0 in /usr/local/lib/python3.10/dist-packages (from plotly-resampler>=0.8.3.1->pycaret) (2.16.1)\n",
            "Requirement already satisfied: orjson<4.0.0,>=3.8.0 in /usr/local/lib/python3.10/dist-packages (from plotly-resampler>=0.8.3.1->pycaret) (3.10.1)\n",
            "Requirement already satisfied: tsdownsample>=0.1.3 in /usr/local/lib/python3.10/dist-packages (from plotly-resampler>=0.8.3.1->pycaret) (0.1.3)\n",
            "Requirement already satisfied: Cython!=0.29.18,!=0.29.31,>=0.29 in /usr/local/lib/python3.10/dist-packages (from pmdarima>=2.0.4->pycaret) (3.0.10)\n",
            "Requirement already satisfied: urllib3 in /usr/local/lib/python3.10/dist-packages (from pmdarima>=2.0.4->pycaret) (2.0.7)\n",
            "Requirement already satisfied: six in /usr/local/lib/python3.10/dist-packages (from pyod>=1.1.3->pycaret) (1.16.0)\n",
            "Requirement already satisfied: charset-normalizer<4,>=2 in /usr/local/lib/python3.10/dist-packages (from requests>=2.27.1->pycaret) (3.3.2)\n",
            "Requirement already satisfied: idna<4,>=2.5 in /usr/local/lib/python3.10/dist-packages (from requests>=2.27.1->pycaret) (3.7)\n",
            "Requirement already satisfied: certifi>=2017.4.17 in /usr/local/lib/python3.10/dist-packages (from requests>=2.27.1->pycaret) (2024.2.2)\n",
            "Requirement already satisfied: Flask<3.1,>=1.0.4 in /usr/local/lib/python3.10/dist-packages (from dash>=2.9.0->plotly-resampler>=0.8.3.1->pycaret) (2.2.5)\n",
            "Requirement already satisfied: Werkzeug<3.1 in /usr/local/lib/python3.10/dist-packages (from dash>=2.9.0->plotly-resampler>=0.8.3.1->pycaret) (3.0.2)\n",
            "Requirement already satisfied: dash-html-components==2.0.0 in /usr/local/lib/python3.10/dist-packages (from dash>=2.9.0->plotly-resampler>=0.8.3.1->pycaret) (2.0.0)\n",
            "Requirement already satisfied: dash-core-components==2.0.0 in /usr/local/lib/python3.10/dist-packages (from dash>=2.9.0->plotly-resampler>=0.8.3.1->pycaret) (2.0.0)\n",
            "Requirement already satisfied: dash-table==5.0.0 in /usr/local/lib/python3.10/dist-packages (from dash>=2.9.0->plotly-resampler>=0.8.3.1->pycaret) (5.0.0)\n",
            "Requirement already satisfied: typing-extensions>=4.1.1 in /usr/local/lib/python3.10/dist-packages (from dash>=2.9.0->plotly-resampler>=0.8.3.1->pycaret) (4.11.0)\n",
            "Requirement already satisfied: retrying in /usr/local/lib/python3.10/dist-packages (from dash>=2.9.0->plotly-resampler>=0.8.3.1->pycaret) (1.3.4)\n",
            "Requirement already satisfied: nest-asyncio in /usr/local/lib/python3.10/dist-packages (from dash>=2.9.0->plotly-resampler>=0.8.3.1->pycaret) (1.6.0)\n",
            "Requirement already satisfied: jupyter-client in /usr/local/lib/python3.10/dist-packages (from ipykernel>=4.5.1->ipywidgets>=7.6.5->pycaret) (6.1.12)\n",
            "Requirement already satisfied: tornado>=4.2 in /usr/local/lib/python3.10/dist-packages (from ipykernel>=4.5.1->ipywidgets>=7.6.5->pycaret) (6.3.3)\n",
            "Requirement already satisfied: parso<0.9.0,>=0.8.3 in /usr/local/lib/python3.10/dist-packages (from jedi>=0.16->ipython>=5.5.0->pycaret) (0.8.4)\n",
            "Requirement already satisfied: attrs>=22.2.0 in /usr/local/lib/python3.10/dist-packages (from jsonschema>=2.6->nbformat>=4.2.0->pycaret) (23.2.0)\n",
            "Requirement already satisfied: jsonschema-specifications>=2023.03.6 in /usr/local/lib/python3.10/dist-packages (from jsonschema>=2.6->nbformat>=4.2.0->pycaret) (2023.12.1)\n",
            "Requirement already satisfied: referencing>=0.28.4 in /usr/local/lib/python3.10/dist-packages (from jsonschema>=2.6->nbformat>=4.2.0->pycaret) (0.35.0)\n",
            "Requirement already satisfied: rpds-py>=0.7.1 in /usr/local/lib/python3.10/dist-packages (from jsonschema>=2.6->nbformat>=4.2.0->pycaret) (0.18.0)\n",
            "Requirement already satisfied: platformdirs>=2.5 in /usr/local/lib/python3.10/dist-packages (from jupyter-core!=5.0.*,>=4.12->nbformat>=4.2.0->pycaret) (4.2.1)\n",
            "Requirement already satisfied: ptyprocess>=0.5 in /usr/local/lib/python3.10/dist-packages (from pexpect>4.3->ipython>=5.5.0->pycaret) (0.7.0)\n",
            "Requirement already satisfied: wcwidth in /usr/local/lib/python3.10/dist-packages (from prompt-toolkit!=3.0.0,!=3.0.1,<3.1.0,>=2.0.0->ipython>=5.5.0->pycaret) (0.2.13)\n",
            "Requirement already satisfied: notebook>=4.4.1 in /usr/local/lib/python3.10/dist-packages (from widgetsnbextension~=3.6.0->ipywidgets>=7.6.5->pycaret) (6.5.5)\n",
            "Requirement already satisfied: itsdangerous>=2.0 in /usr/local/lib/python3.10/dist-packages (from Flask<3.1,>=1.0.4->dash>=2.9.0->plotly-resampler>=0.8.3.1->pycaret) (2.2.0)\n",
            "Requirement already satisfied: click>=8.0 in /usr/local/lib/python3.10/dist-packages (from Flask<3.1,>=1.0.4->dash>=2.9.0->plotly-resampler>=0.8.3.1->pycaret) (8.1.7)\n",
            "Requirement already satisfied: pyzmq<25,>=17 in /usr/local/lib/python3.10/dist-packages (from notebook>=4.4.1->widgetsnbextension~=3.6.0->ipywidgets>=7.6.5->pycaret) (24.0.1)\n",
            "Requirement already satisfied: argon2-cffi in /usr/local/lib/python3.10/dist-packages (from notebook>=4.4.1->widgetsnbextension~=3.6.0->ipywidgets>=7.6.5->pycaret) (23.1.0)\n",
            "Requirement already satisfied: nbconvert>=5 in /usr/local/lib/python3.10/dist-packages (from notebook>=4.4.1->widgetsnbextension~=3.6.0->ipywidgets>=7.6.5->pycaret) (6.5.4)\n",
            "Requirement already satisfied: Send2Trash>=1.8.0 in /usr/local/lib/python3.10/dist-packages (from notebook>=4.4.1->widgetsnbextension~=3.6.0->ipywidgets>=7.6.5->pycaret) (1.8.3)\n",
            "Requirement already satisfied: terminado>=0.8.3 in /usr/local/lib/python3.10/dist-packages (from notebook>=4.4.1->widgetsnbextension~=3.6.0->ipywidgets>=7.6.5->pycaret) (0.18.1)\n",
            "Requirement already satisfied: prometheus-client in /usr/local/lib/python3.10/dist-packages (from notebook>=4.4.1->widgetsnbextension~=3.6.0->ipywidgets>=7.6.5->pycaret) (0.20.0)\n",
            "Requirement already satisfied: nbclassic>=0.4.7 in /usr/local/lib/python3.10/dist-packages (from notebook>=4.4.1->widgetsnbextension~=3.6.0->ipywidgets>=7.6.5->pycaret) (1.0.0)\n",
            "Requirement already satisfied: jupyter-server>=1.8 in /usr/local/lib/python3.10/dist-packages (from nbclassic>=0.4.7->notebook>=4.4.1->widgetsnbextension~=3.6.0->ipywidgets>=7.6.5->pycaret) (1.24.0)\n",
            "Requirement already satisfied: notebook-shim>=0.2.3 in /usr/local/lib/python3.10/dist-packages (from nbclassic>=0.4.7->notebook>=4.4.1->widgetsnbextension~=3.6.0->ipywidgets>=7.6.5->pycaret) (0.2.4)\n",
            "Requirement already satisfied: lxml in /usr/local/lib/python3.10/dist-packages (from nbconvert>=5->notebook>=4.4.1->widgetsnbextension~=3.6.0->ipywidgets>=7.6.5->pycaret) (4.9.4)\n",
            "Requirement already satisfied: beautifulsoup4 in /usr/local/lib/python3.10/dist-packages (from nbconvert>=5->notebook>=4.4.1->widgetsnbextension~=3.6.0->ipywidgets>=7.6.5->pycaret) (4.12.3)\n",
            "Requirement already satisfied: bleach in /usr/local/lib/python3.10/dist-packages (from nbconvert>=5->notebook>=4.4.1->widgetsnbextension~=3.6.0->ipywidgets>=7.6.5->pycaret) (6.1.0)\n",
            "Requirement already satisfied: defusedxml in /usr/local/lib/python3.10/dist-packages (from nbconvert>=5->notebook>=4.4.1->widgetsnbextension~=3.6.0->ipywidgets>=7.6.5->pycaret) (0.7.1)\n",
            "Requirement already satisfied: entrypoints>=0.2.2 in /usr/local/lib/python3.10/dist-packages (from nbconvert>=5->notebook>=4.4.1->widgetsnbextension~=3.6.0->ipywidgets>=7.6.5->pycaret) (0.4)\n",
            "Requirement already satisfied: jupyterlab-pygments in /usr/local/lib/python3.10/dist-packages (from nbconvert>=5->notebook>=4.4.1->widgetsnbextension~=3.6.0->ipywidgets>=7.6.5->pycaret) (0.3.0)\n",
            "Requirement already satisfied: mistune<2,>=0.8.1 in /usr/local/lib/python3.10/dist-packages (from nbconvert>=5->notebook>=4.4.1->widgetsnbextension~=3.6.0->ipywidgets>=7.6.5->pycaret) (0.8.4)\n",
            "Requirement already satisfied: nbclient>=0.5.0 in /usr/local/lib/python3.10/dist-packages (from nbconvert>=5->notebook>=4.4.1->widgetsnbextension~=3.6.0->ipywidgets>=7.6.5->pycaret) (0.10.0)\n",
            "Requirement already satisfied: pandocfilters>=1.4.1 in /usr/local/lib/python3.10/dist-packages (from nbconvert>=5->notebook>=4.4.1->widgetsnbextension~=3.6.0->ipywidgets>=7.6.5->pycaret) (1.5.1)\n",
            "Requirement already satisfied: tinycss2 in /usr/local/lib/python3.10/dist-packages (from nbconvert>=5->notebook>=4.4.1->widgetsnbextension~=3.6.0->ipywidgets>=7.6.5->pycaret) (1.3.0)\n",
            "Requirement already satisfied: argon2-cffi-bindings in /usr/local/lib/python3.10/dist-packages (from argon2-cffi->notebook>=4.4.1->widgetsnbextension~=3.6.0->ipywidgets>=7.6.5->pycaret) (21.2.0)\n",
            "Requirement already satisfied: anyio<4,>=3.1.0 in /usr/local/lib/python3.10/dist-packages (from jupyter-server>=1.8->nbclassic>=0.4.7->notebook>=4.4.1->widgetsnbextension~=3.6.0->ipywidgets>=7.6.5->pycaret) (3.7.1)\n",
            "Requirement already satisfied: websocket-client in /usr/local/lib/python3.10/dist-packages (from jupyter-server>=1.8->nbclassic>=0.4.7->notebook>=4.4.1->widgetsnbextension~=3.6.0->ipywidgets>=7.6.5->pycaret) (1.8.0)\n",
            "Requirement already satisfied: cffi>=1.0.1 in /usr/local/lib/python3.10/dist-packages (from argon2-cffi-bindings->argon2-cffi->notebook>=4.4.1->widgetsnbextension~=3.6.0->ipywidgets>=7.6.5->pycaret) (1.16.0)\n",
            "Requirement already satisfied: soupsieve>1.2 in /usr/local/lib/python3.10/dist-packages (from beautifulsoup4->nbconvert>=5->notebook>=4.4.1->widgetsnbextension~=3.6.0->ipywidgets>=7.6.5->pycaret) (2.5)\n",
            "Requirement already satisfied: webencodings in /usr/local/lib/python3.10/dist-packages (from bleach->nbconvert>=5->notebook>=4.4.1->widgetsnbextension~=3.6.0->ipywidgets>=7.6.5->pycaret) (0.5.1)\n",
            "Requirement already satisfied: sniffio>=1.1 in /usr/local/lib/python3.10/dist-packages (from anyio<4,>=3.1.0->jupyter-server>=1.8->nbclassic>=0.4.7->notebook>=4.4.1->widgetsnbextension~=3.6.0->ipywidgets>=7.6.5->pycaret) (1.3.1)\n",
            "Requirement already satisfied: exceptiongroup in /usr/local/lib/python3.10/dist-packages (from anyio<4,>=3.1.0->jupyter-server>=1.8->nbclassic>=0.4.7->notebook>=4.4.1->widgetsnbextension~=3.6.0->ipywidgets>=7.6.5->pycaret) (1.2.1)\n",
            "Requirement already satisfied: pycparser in /usr/local/lib/python3.10/dist-packages (from cffi>=1.0.1->argon2-cffi-bindings->argon2-cffi->notebook>=4.4.1->widgetsnbextension~=3.6.0->ipywidgets>=7.6.5->pycaret) (2.22)\n"
          ]
        }
      ],
      "source": [
        "!pip install pycaret"
      ]
    },
    {
      "cell_type": "code",
      "execution_count": 21,
      "metadata": {
        "colab": {
          "base_uri": "https://localhost:8080/"
        },
        "id": "WLywBhGwqdtj",
        "outputId": "3e17365b-c75f-43b4-f8f1-8822e1c2d0cf"
      },
      "outputs": [
        {
          "name": "stdout",
          "output_type": "stream",
          "text": [
            "Collecting mlflow\n",
            "  Downloading mlflow-2.12.1-py3-none-any.whl (20.2 MB)\n",
            "\u001b[2K     \u001b[90m━━━━━━━━━━━━━━━━━━━━━━━━━━━━━━━━━━━━━━━━\u001b[0m \u001b[32m20.2/20.2 MB\u001b[0m \u001b[31m16.2 MB/s\u001b[0m eta \u001b[36m0:00:00\u001b[0m\n",
            "\u001b[?25hRequirement already satisfied: Flask<4 in /usr/local/lib/python3.10/dist-packages (from mlflow) (2.2.5)\n",
            "Collecting alembic!=1.10.0,<2 (from mlflow)\n",
            "  Downloading alembic-1.13.1-py3-none-any.whl (233 kB)\n",
            "\u001b[2K     \u001b[90m━━━━━━━━━━━━━━━━━━━━━━━━━━━━━━━━━━━━━━━━\u001b[0m \u001b[32m233.4/233.4 kB\u001b[0m \u001b[31m18.2 MB/s\u001b[0m eta \u001b[36m0:00:00\u001b[0m\n",
            "\u001b[?25hRequirement already satisfied: click<9,>=7.0 in /usr/local/lib/python3.10/dist-packages (from mlflow) (8.1.7)\n",
            "Requirement already satisfied: cloudpickle<4 in /usr/local/lib/python3.10/dist-packages (from mlflow) (2.2.1)\n",
            "Collecting docker<8,>=4.0.0 (from mlflow)\n",
            "  Downloading docker-7.0.0-py3-none-any.whl (147 kB)\n",
            "\u001b[2K     \u001b[90m━━━━━━━━━━━━━━━━━━━━━━━━━━━━━━━━━━━━━━━━\u001b[0m \u001b[32m147.6/147.6 kB\u001b[0m \u001b[31m12.1 MB/s\u001b[0m eta \u001b[36m0:00:00\u001b[0m\n",
            "\u001b[?25hRequirement already satisfied: entrypoints<1 in /usr/local/lib/python3.10/dist-packages (from mlflow) (0.4)\n",
            "Collecting gitpython<4,>=3.1.9 (from mlflow)\n",
            "  Downloading GitPython-3.1.43-py3-none-any.whl (207 kB)\n",
            "\u001b[2K     \u001b[90m━━━━━━━━━━━━━━━━━━━━━━━━━━━━━━━━━━━━━━━━\u001b[0m \u001b[32m207.3/207.3 kB\u001b[0m \u001b[31m17.7 MB/s\u001b[0m eta \u001b[36m0:00:00\u001b[0m\n",
            "\u001b[?25hCollecting graphene<4 (from mlflow)\n",
            "  Downloading graphene-3.3-py2.py3-none-any.whl (128 kB)\n",
            "\u001b[2K     \u001b[90m━━━━━━━━━━━━━━━━━━━━━━━━━━━━━━━━━━━━━━━━\u001b[0m \u001b[32m128.2/128.2 kB\u001b[0m \u001b[31m11.3 MB/s\u001b[0m eta \u001b[36m0:00:00\u001b[0m\n",
            "\u001b[?25hRequirement already satisfied: importlib-metadata!=4.7.0,<8,>=3.7.0 in /usr/local/lib/python3.10/dist-packages (from mlflow) (7.1.0)\n",
            "Requirement already satisfied: markdown<4,>=3.3 in /usr/local/lib/python3.10/dist-packages (from mlflow) (3.6)\n",
            "Requirement already satisfied: matplotlib<4 in /usr/local/lib/python3.10/dist-packages (from mlflow) (3.7.1)\n",
            "Requirement already satisfied: numpy<2 in /usr/local/lib/python3.10/dist-packages (from mlflow) (1.25.2)\n",
            "Requirement already satisfied: packaging<25 in /usr/local/lib/python3.10/dist-packages (from mlflow) (24.0)\n",
            "Requirement already satisfied: pandas<3 in /usr/local/lib/python3.10/dist-packages (from mlflow) (2.0.3)\n",
            "Requirement already satisfied: protobuf<6,>=3.12.0 in /usr/local/lib/python3.10/dist-packages (from mlflow) (3.20.3)\n",
            "Requirement already satisfied: pyarrow<16,>=4.0.0 in /usr/local/lib/python3.10/dist-packages (from mlflow) (14.0.2)\n",
            "Requirement already satisfied: pytz<2025 in /usr/local/lib/python3.10/dist-packages (from mlflow) (2023.4)\n",
            "Requirement already satisfied: pyyaml<7,>=5.1 in /usr/local/lib/python3.10/dist-packages (from mlflow) (6.0.1)\n",
            "Collecting querystring-parser<2 (from mlflow)\n",
            "  Downloading querystring_parser-1.2.4-py2.py3-none-any.whl (7.9 kB)\n",
            "Requirement already satisfied: requests<3,>=2.17.3 in /usr/local/lib/python3.10/dist-packages (from mlflow) (2.31.0)\n",
            "Requirement already satisfied: scikit-learn<2 in /usr/local/lib/python3.10/dist-packages (from mlflow) (1.4.2)\n",
            "Requirement already satisfied: scipy<2 in /usr/local/lib/python3.10/dist-packages (from mlflow) (1.11.4)\n",
            "Requirement already satisfied: sqlalchemy<3,>=1.4.0 in /usr/local/lib/python3.10/dist-packages (from mlflow) (2.0.29)\n",
            "Requirement already satisfied: sqlparse<1,>=0.4.0 in /usr/local/lib/python3.10/dist-packages (from mlflow) (0.5.0)\n",
            "Requirement already satisfied: Jinja2<4,>=2.11 in /usr/local/lib/python3.10/dist-packages (from mlflow) (3.1.3)\n",
            "Collecting gunicorn<22 (from mlflow)\n",
            "  Downloading gunicorn-21.2.0-py3-none-any.whl (80 kB)\n",
            "\u001b[2K     \u001b[90m━━━━━━━━━━━━━━━━━━━━━━━━━━━━━━━━━━━━━━━━\u001b[0m \u001b[32m80.2/80.2 kB\u001b[0m \u001b[31m6.4 MB/s\u001b[0m eta \u001b[36m0:00:00\u001b[0m\n",
            "\u001b[?25hCollecting Mako (from alembic!=1.10.0,<2->mlflow)\n",
            "  Downloading Mako-1.3.3-py3-none-any.whl (78 kB)\n",
            "\u001b[2K     \u001b[90m━━━━━━━━━━━━━━━━━━━━━━━━━━━━━━━━━━━━━━━━\u001b[0m \u001b[32m78.8/78.8 kB\u001b[0m \u001b[31m8.0 MB/s\u001b[0m eta \u001b[36m0:00:00\u001b[0m\n",
            "\u001b[?25hRequirement already satisfied: typing-extensions>=4 in /usr/local/lib/python3.10/dist-packages (from alembic!=1.10.0,<2->mlflow) (4.11.0)\n",
            "Requirement already satisfied: urllib3>=1.26.0 in /usr/local/lib/python3.10/dist-packages (from docker<8,>=4.0.0->mlflow) (2.0.7)\n",
            "Requirement already satisfied: Werkzeug>=2.2.2 in /usr/local/lib/python3.10/dist-packages (from Flask<4->mlflow) (3.0.2)\n",
            "Requirement already satisfied: itsdangerous>=2.0 in /usr/local/lib/python3.10/dist-packages (from Flask<4->mlflow) (2.2.0)\n",
            "Collecting gitdb<5,>=4.0.1 (from gitpython<4,>=3.1.9->mlflow)\n",
            "  Downloading gitdb-4.0.11-py3-none-any.whl (62 kB)\n",
            "\u001b[2K     \u001b[90m━━━━━━━━━━━━━━━━━━━━━━━━━━━━━━━━━━━━━━━━\u001b[0m \u001b[32m62.7/62.7 kB\u001b[0m \u001b[31m5.8 MB/s\u001b[0m eta \u001b[36m0:00:00\u001b[0m\n",
            "\u001b[?25hCollecting graphql-core<3.3,>=3.1 (from graphene<4->mlflow)\n",
            "  Downloading graphql_core-3.2.3-py3-none-any.whl (202 kB)\n",
            "\u001b[2K     \u001b[90m━━━━━━━━━━━━━━━━━━━━━━━━━━━━━━━━━━━━━━━━\u001b[0m \u001b[32m202.9/202.9 kB\u001b[0m \u001b[31m7.0 MB/s\u001b[0m eta \u001b[36m0:00:00\u001b[0m\n",
            "\u001b[?25hCollecting graphql-relay<3.3,>=3.1 (from graphene<4->mlflow)\n",
            "  Downloading graphql_relay-3.2.0-py3-none-any.whl (16 kB)\n",
            "Collecting aniso8601<10,>=8 (from graphene<4->mlflow)\n",
            "  Downloading aniso8601-9.0.1-py2.py3-none-any.whl (52 kB)\n",
            "\u001b[2K     \u001b[90m━━━━━━━━━━━━━━━━━━━━━━━━━━━━━━━━━━━━━━━━\u001b[0m \u001b[32m52.8/52.8 kB\u001b[0m \u001b[31m2.8 MB/s\u001b[0m eta \u001b[36m0:00:00\u001b[0m\n",
            "\u001b[?25hRequirement already satisfied: zipp>=0.5 in /usr/local/lib/python3.10/dist-packages (from importlib-metadata!=4.7.0,<8,>=3.7.0->mlflow) (3.18.1)\n",
            "Requirement already satisfied: MarkupSafe>=2.0 in /usr/local/lib/python3.10/dist-packages (from Jinja2<4,>=2.11->mlflow) (2.1.5)\n",
            "Requirement already satisfied: contourpy>=1.0.1 in /usr/local/lib/python3.10/dist-packages (from matplotlib<4->mlflow) (1.2.1)\n",
            "Requirement already satisfied: cycler>=0.10 in /usr/local/lib/python3.10/dist-packages (from matplotlib<4->mlflow) (0.12.1)\n",
            "Requirement already satisfied: fonttools>=4.22.0 in /usr/local/lib/python3.10/dist-packages (from matplotlib<4->mlflow) (4.51.0)\n",
            "Requirement already satisfied: kiwisolver>=1.0.1 in /usr/local/lib/python3.10/dist-packages (from matplotlib<4->mlflow) (1.4.5)\n",
            "Requirement already satisfied: pillow>=6.2.0 in /usr/local/lib/python3.10/dist-packages (from matplotlib<4->mlflow) (9.4.0)\n",
            "Requirement already satisfied: pyparsing>=2.3.1 in /usr/local/lib/python3.10/dist-packages (from matplotlib<4->mlflow) (3.1.2)\n",
            "Requirement already satisfied: python-dateutil>=2.7 in /usr/local/lib/python3.10/dist-packages (from matplotlib<4->mlflow) (2.8.2)\n",
            "Requirement already satisfied: tzdata>=2022.1 in /usr/local/lib/python3.10/dist-packages (from pandas<3->mlflow) (2024.1)\n",
            "Requirement already satisfied: six in /usr/local/lib/python3.10/dist-packages (from querystring-parser<2->mlflow) (1.16.0)\n",
            "Requirement already satisfied: charset-normalizer<4,>=2 in /usr/local/lib/python3.10/dist-packages (from requests<3,>=2.17.3->mlflow) (3.3.2)\n",
            "Requirement already satisfied: idna<4,>=2.5 in /usr/local/lib/python3.10/dist-packages (from requests<3,>=2.17.3->mlflow) (3.7)\n",
            "Requirement already satisfied: certifi>=2017.4.17 in /usr/local/lib/python3.10/dist-packages (from requests<3,>=2.17.3->mlflow) (2024.2.2)\n",
            "Requirement already satisfied: joblib>=1.2.0 in /usr/local/lib/python3.10/dist-packages (from scikit-learn<2->mlflow) (1.3.2)\n",
            "Requirement already satisfied: threadpoolctl>=2.0.0 in /usr/local/lib/python3.10/dist-packages (from scikit-learn<2->mlflow) (3.4.0)\n",
            "Requirement already satisfied: greenlet!=0.4.17 in /usr/local/lib/python3.10/dist-packages (from sqlalchemy<3,>=1.4.0->mlflow) (3.0.3)\n",
            "Collecting smmap<6,>=3.0.1 (from gitdb<5,>=4.0.1->gitpython<4,>=3.1.9->mlflow)\n",
            "  Downloading smmap-5.0.1-py3-none-any.whl (24 kB)\n",
            "Installing collected packages: aniso8601, smmap, querystring-parser, Mako, gunicorn, graphql-core, graphql-relay, gitdb, docker, alembic, graphene, gitpython, mlflow\n",
            "Successfully installed Mako-1.3.3 alembic-1.13.1 aniso8601-9.0.1 docker-7.0.0 gitdb-4.0.11 gitpython-3.1.43 graphene-3.3 graphql-core-3.2.3 graphql-relay-3.2.0 gunicorn-21.2.0 mlflow-2.12.1 querystring-parser-1.2.4 smmap-5.0.1\n"
          ]
        }
      ],
      "source": [
        "pip install mlflow"
      ]
    },
    {
      "cell_type": "code",
      "execution_count": 22,
      "metadata": {
        "colab": {
          "base_uri": "https://localhost:8080/"
        },
        "id": "kEZub6CgqxXj",
        "outputId": "13cc6ba4-3e4b-4d67-83d8-e61faf32ab50"
      },
      "outputs": [
        {
          "name": "stdout",
          "output_type": "stream",
          "text": [
            "Dimensiones del DataFrame 'ros_dataset': (10348, 22)\n"
          ]
        }
      ],
      "source": [
        "ros_dataset = pd.DataFrame(X_resampled, columns=X_encoded.columns)\n",
        "ros_dataset['Churn'] = y_resampled\n",
        "\n",
        "# Verificar la forma del DataFrame\n",
        "print(\"Dimensiones del DataFrame 'ros_dataset':\", ros_dataset.shape)"
      ]
    },
    {
      "cell_type": "markdown",
      "metadata": {
        "id": "e-21JNeBq9GB"
      },
      "source": [
        "\n",
        "Este código crea un nuevo DataFrame llamado ros_dataset que combina las características aumentadas obtenidas después de aplicar SMOTE con su respectiva codificación de la variable objetivo 'Churn'."
      ]
    },
    {
      "cell_type": "code",
      "execution_count": 24,
      "metadata": {
        "colab": {
          "base_uri": "https://localhost:8080/",
          "height": 819
        },
        "id": "q5sjfYF8q-GN",
        "outputId": "862d75f5-527e-4c73-9b6e-bba23ba6b9ef"
      },
      "outputs": [
        {
          "data": {
            "text/html": [
              "<style type=\"text/css\">\n",
              "#T_1a772_row9_col1, #T_1a772_row13_col1, #T_1a772_row15_col1 {\n",
              "  background-color: lightgreen;\n",
              "}\n",
              "</style>\n",
              "<table id=\"T_1a772\" class=\"dataframe\">\n",
              "  <thead>\n",
              "    <tr>\n",
              "      <th class=\"blank level0\" >&nbsp;</th>\n",
              "      <th id=\"T_1a772_level0_col0\" class=\"col_heading level0 col0\" >Description</th>\n",
              "      <th id=\"T_1a772_level0_col1\" class=\"col_heading level0 col1\" >Value</th>\n",
              "    </tr>\n",
              "  </thead>\n",
              "  <tbody>\n",
              "    <tr>\n",
              "      <th id=\"T_1a772_level0_row0\" class=\"row_heading level0 row0\" >0</th>\n",
              "      <td id=\"T_1a772_row0_col0\" class=\"data row0 col0\" >Session id</td>\n",
              "      <td id=\"T_1a772_row0_col1\" class=\"data row0 col1\" >123</td>\n",
              "    </tr>\n",
              "    <tr>\n",
              "      <th id=\"T_1a772_level0_row1\" class=\"row_heading level0 row1\" >1</th>\n",
              "      <td id=\"T_1a772_row1_col0\" class=\"data row1 col0\" >Target</td>\n",
              "      <td id=\"T_1a772_row1_col1\" class=\"data row1 col1\" >Churn</td>\n",
              "    </tr>\n",
              "    <tr>\n",
              "      <th id=\"T_1a772_level0_row2\" class=\"row_heading level0 row2\" >2</th>\n",
              "      <td id=\"T_1a772_row2_col0\" class=\"data row2 col0\" >Target type</td>\n",
              "      <td id=\"T_1a772_row2_col1\" class=\"data row2 col1\" >Binary</td>\n",
              "    </tr>\n",
              "    <tr>\n",
              "      <th id=\"T_1a772_level0_row3\" class=\"row_heading level0 row3\" >3</th>\n",
              "      <td id=\"T_1a772_row3_col0\" class=\"data row3 col0\" >Target mapping</td>\n",
              "      <td id=\"T_1a772_row3_col1\" class=\"data row3 col1\" >No: 0, Yes: 1</td>\n",
              "    </tr>\n",
              "    <tr>\n",
              "      <th id=\"T_1a772_level0_row4\" class=\"row_heading level0 row4\" >4</th>\n",
              "      <td id=\"T_1a772_row4_col0\" class=\"data row4 col0\" >Original data shape</td>\n",
              "      <td id=\"T_1a772_row4_col1\" class=\"data row4 col1\" >(10348, 22)</td>\n",
              "    </tr>\n",
              "    <tr>\n",
              "      <th id=\"T_1a772_level0_row5\" class=\"row_heading level0 row5\" >5</th>\n",
              "      <td id=\"T_1a772_row5_col0\" class=\"data row5 col0\" >Transformed data shape</td>\n",
              "      <td id=\"T_1a772_row5_col1\" class=\"data row5 col1\" >(10348, 22)</td>\n",
              "    </tr>\n",
              "    <tr>\n",
              "      <th id=\"T_1a772_level0_row6\" class=\"row_heading level0 row6\" >6</th>\n",
              "      <td id=\"T_1a772_row6_col0\" class=\"data row6 col0\" >Transformed train set shape</td>\n",
              "      <td id=\"T_1a772_row6_col1\" class=\"data row6 col1\" >(8278, 22)</td>\n",
              "    </tr>\n",
              "    <tr>\n",
              "      <th id=\"T_1a772_level0_row7\" class=\"row_heading level0 row7\" >7</th>\n",
              "      <td id=\"T_1a772_row7_col0\" class=\"data row7 col0\" >Transformed test set shape</td>\n",
              "      <td id=\"T_1a772_row7_col1\" class=\"data row7 col1\" >(2070, 22)</td>\n",
              "    </tr>\n",
              "    <tr>\n",
              "      <th id=\"T_1a772_level0_row8\" class=\"row_heading level0 row8\" >8</th>\n",
              "      <td id=\"T_1a772_row8_col0\" class=\"data row8 col0\" >Numeric features</td>\n",
              "      <td id=\"T_1a772_row8_col1\" class=\"data row8 col1\" >21</td>\n",
              "    </tr>\n",
              "    <tr>\n",
              "      <th id=\"T_1a772_level0_row9\" class=\"row_heading level0 row9\" >9</th>\n",
              "      <td id=\"T_1a772_row9_col0\" class=\"data row9 col0\" >Preprocess</td>\n",
              "      <td id=\"T_1a772_row9_col1\" class=\"data row9 col1\" >True</td>\n",
              "    </tr>\n",
              "    <tr>\n",
              "      <th id=\"T_1a772_level0_row10\" class=\"row_heading level0 row10\" >10</th>\n",
              "      <td id=\"T_1a772_row10_col0\" class=\"data row10 col0\" >Imputation type</td>\n",
              "      <td id=\"T_1a772_row10_col1\" class=\"data row10 col1\" >simple</td>\n",
              "    </tr>\n",
              "    <tr>\n",
              "      <th id=\"T_1a772_level0_row11\" class=\"row_heading level0 row11\" >11</th>\n",
              "      <td id=\"T_1a772_row11_col0\" class=\"data row11 col0\" >Numeric imputation</td>\n",
              "      <td id=\"T_1a772_row11_col1\" class=\"data row11 col1\" >mean</td>\n",
              "    </tr>\n",
              "    <tr>\n",
              "      <th id=\"T_1a772_level0_row12\" class=\"row_heading level0 row12\" >12</th>\n",
              "      <td id=\"T_1a772_row12_col0\" class=\"data row12 col0\" >Categorical imputation</td>\n",
              "      <td id=\"T_1a772_row12_col1\" class=\"data row12 col1\" >mode</td>\n",
              "    </tr>\n",
              "    <tr>\n",
              "      <th id=\"T_1a772_level0_row13\" class=\"row_heading level0 row13\" >13</th>\n",
              "      <td id=\"T_1a772_row13_col0\" class=\"data row13 col0\" >Fix imbalance</td>\n",
              "      <td id=\"T_1a772_row13_col1\" class=\"data row13 col1\" >True</td>\n",
              "    </tr>\n",
              "    <tr>\n",
              "      <th id=\"T_1a772_level0_row14\" class=\"row_heading level0 row14\" >14</th>\n",
              "      <td id=\"T_1a772_row14_col0\" class=\"data row14 col0\" >Fix imbalance method</td>\n",
              "      <td id=\"T_1a772_row14_col1\" class=\"data row14 col1\" >SMOTE</td>\n",
              "    </tr>\n",
              "    <tr>\n",
              "      <th id=\"T_1a772_level0_row15\" class=\"row_heading level0 row15\" >15</th>\n",
              "      <td id=\"T_1a772_row15_col0\" class=\"data row15 col0\" >Normalize</td>\n",
              "      <td id=\"T_1a772_row15_col1\" class=\"data row15 col1\" >True</td>\n",
              "    </tr>\n",
              "    <tr>\n",
              "      <th id=\"T_1a772_level0_row16\" class=\"row_heading level0 row16\" >16</th>\n",
              "      <td id=\"T_1a772_row16_col0\" class=\"data row16 col0\" >Normalize method</td>\n",
              "      <td id=\"T_1a772_row16_col1\" class=\"data row16 col1\" >zscore</td>\n",
              "    </tr>\n",
              "    <tr>\n",
              "      <th id=\"T_1a772_level0_row17\" class=\"row_heading level0 row17\" >17</th>\n",
              "      <td id=\"T_1a772_row17_col0\" class=\"data row17 col0\" >Fold Generator</td>\n",
              "      <td id=\"T_1a772_row17_col1\" class=\"data row17 col1\" >StratifiedKFold</td>\n",
              "    </tr>\n",
              "    <tr>\n",
              "      <th id=\"T_1a772_level0_row18\" class=\"row_heading level0 row18\" >18</th>\n",
              "      <td id=\"T_1a772_row18_col0\" class=\"data row18 col0\" >Fold Number</td>\n",
              "      <td id=\"T_1a772_row18_col1\" class=\"data row18 col1\" >5</td>\n",
              "    </tr>\n",
              "    <tr>\n",
              "      <th id=\"T_1a772_level0_row19\" class=\"row_heading level0 row19\" >19</th>\n",
              "      <td id=\"T_1a772_row19_col0\" class=\"data row19 col0\" >CPU Jobs</td>\n",
              "      <td id=\"T_1a772_row19_col1\" class=\"data row19 col1\" >-1</td>\n",
              "    </tr>\n",
              "    <tr>\n",
              "      <th id=\"T_1a772_level0_row20\" class=\"row_heading level0 row20\" >20</th>\n",
              "      <td id=\"T_1a772_row20_col0\" class=\"data row20 col0\" >Use GPU</td>\n",
              "      <td id=\"T_1a772_row20_col1\" class=\"data row20 col1\" >False</td>\n",
              "    </tr>\n",
              "    <tr>\n",
              "      <th id=\"T_1a772_level0_row21\" class=\"row_heading level0 row21\" >21</th>\n",
              "      <td id=\"T_1a772_row21_col0\" class=\"data row21 col0\" >Log Experiment</td>\n",
              "      <td id=\"T_1a772_row21_col1\" class=\"data row21 col1\" >MlflowLogger</td>\n",
              "    </tr>\n",
              "    <tr>\n",
              "      <th id=\"T_1a772_level0_row22\" class=\"row_heading level0 row22\" >22</th>\n",
              "      <td id=\"T_1a772_row22_col0\" class=\"data row22 col0\" >Experiment Name</td>\n",
              "      <td id=\"T_1a772_row22_col1\" class=\"data row22 col1\" >Churn</td>\n",
              "    </tr>\n",
              "    <tr>\n",
              "      <th id=\"T_1a772_level0_row23\" class=\"row_heading level0 row23\" >23</th>\n",
              "      <td id=\"T_1a772_row23_col0\" class=\"data row23 col0\" >USI</td>\n",
              "      <td id=\"T_1a772_row23_col1\" class=\"data row23 col1\" >94b8</td>\n",
              "    </tr>\n",
              "  </tbody>\n",
              "</table>\n"
            ],
            "text/plain": [
              "<pandas.io.formats.style.Styler at 0x7968fd7bc2b0>"
            ]
          },
          "metadata": {},
          "output_type": "display_data"
        },
        {
          "name": "stderr",
          "output_type": "stream",
          "text": [
            "2024/04/30 23:03:17 INFO mlflow.tracking.fluent: Experiment with name 'Churn' does not exist. Creating a new experiment.\n"
          ]
        }
      ],
      "source": [
        "from pycaret.classification import *\n",
        "\n",
        "# Configurar el entorno de PyCaret para clasificación VC=5, Split0.8, Balanceo\n",
        "clf = setup(data=ros_dataset, target='Churn', session_id=123, log_experiment=True,\n",
        "            experiment_name='Churn', fix_imbalance=True, normalize=True,\n",
        "            normalize_method='zscore', train_size=0.8, fold=5)\n"
      ]
    },
    {
      "cell_type": "code",
      "execution_count": 25,
      "metadata": {
        "colab": {
          "base_uri": "https://localhost:8080/",
          "height": 520,
          "referenced_widgets": [
            "27e45f5a317048d0babeb1e4913f578a",
            "37a843fa1f5f41e6a0c6649a536315a5",
            "f88f26de08f84fa1a618bb201b8377cc",
            "a484894643f84d508e5c1d28fec46f8d",
            "b16af99f91f94ce7bcb7a5a88c9db2dc",
            "aae93c3d41b54d049a119b6f483b6255",
            "34cf4c662e8b440299707cd80de1cc49",
            "1cecbb592d5242139133f7819e6ae3c6",
            "278d2467236e4976a023810389656c59",
            "a2527565dec24d5b9b9f98473339255a",
            "ae2c434e0dcb4494af35ec0283066bd1"
          ]
        },
        "id": "Wqvhmhr1rL4Q",
        "outputId": "9264576e-47a3-4568-b93d-862050e46ba4"
      },
      "outputs": [
        {
          "data": {
            "text/html": [],
            "text/plain": [
              "<IPython.core.display.HTML object>"
            ]
          },
          "metadata": {},
          "output_type": "display_data"
        },
        {
          "data": {
            "text/html": [
              "<style type=\"text/css\">\n",
              "#T_6867d th {\n",
              "  text-align: left;\n",
              "}\n",
              "#T_6867d_row0_col0, #T_6867d_row0_col2, #T_6867d_row0_col4, #T_6867d_row0_col7, #T_6867d_row1_col0, #T_6867d_row2_col0, #T_6867d_row2_col1, #T_6867d_row2_col2, #T_6867d_row2_col3, #T_6867d_row2_col4, #T_6867d_row2_col5, #T_6867d_row2_col6, #T_6867d_row2_col7, #T_6867d_row3_col0, #T_6867d_row3_col1, #T_6867d_row3_col2, #T_6867d_row3_col3, #T_6867d_row3_col4, #T_6867d_row3_col5, #T_6867d_row3_col6, #T_6867d_row3_col7, #T_6867d_row4_col0, #T_6867d_row4_col1, #T_6867d_row4_col2, #T_6867d_row4_col3, #T_6867d_row4_col4, #T_6867d_row4_col5, #T_6867d_row4_col6, #T_6867d_row4_col7, #T_6867d_row5_col0, #T_6867d_row5_col1, #T_6867d_row5_col2, #T_6867d_row5_col3, #T_6867d_row5_col4, #T_6867d_row5_col5, #T_6867d_row5_col6, #T_6867d_row5_col7, #T_6867d_row6_col0, #T_6867d_row6_col1, #T_6867d_row6_col2, #T_6867d_row6_col3, #T_6867d_row6_col4, #T_6867d_row6_col5, #T_6867d_row6_col6, #T_6867d_row6_col7, #T_6867d_row7_col0, #T_6867d_row7_col1, #T_6867d_row7_col2, #T_6867d_row7_col3, #T_6867d_row7_col4, #T_6867d_row7_col5, #T_6867d_row7_col6, #T_6867d_row7_col7, #T_6867d_row8_col0, #T_6867d_row8_col1, #T_6867d_row8_col2, #T_6867d_row8_col3, #T_6867d_row8_col4, #T_6867d_row8_col5, #T_6867d_row8_col6, #T_6867d_row8_col7, #T_6867d_row9_col0, #T_6867d_row9_col1, #T_6867d_row9_col2, #T_6867d_row9_col3, #T_6867d_row9_col4, #T_6867d_row9_col5, #T_6867d_row9_col6, #T_6867d_row9_col7, #T_6867d_row10_col0, #T_6867d_row10_col1, #T_6867d_row10_col2, #T_6867d_row10_col3, #T_6867d_row10_col4, #T_6867d_row10_col5, #T_6867d_row10_col6, #T_6867d_row10_col7, #T_6867d_row11_col0, #T_6867d_row11_col1, #T_6867d_row11_col2, #T_6867d_row11_col3, #T_6867d_row11_col4, #T_6867d_row11_col5, #T_6867d_row11_col6, #T_6867d_row11_col7, #T_6867d_row12_col0, #T_6867d_row12_col1, #T_6867d_row12_col2, #T_6867d_row12_col3, #T_6867d_row12_col4, #T_6867d_row12_col5, #T_6867d_row12_col6, #T_6867d_row12_col7, #T_6867d_row13_col0, #T_6867d_row13_col1, #T_6867d_row13_col2, #T_6867d_row13_col3, #T_6867d_row13_col4, #T_6867d_row13_col5, #T_6867d_row13_col6, #T_6867d_row13_col7, #T_6867d_row14_col0, #T_6867d_row14_col1, #T_6867d_row14_col2, #T_6867d_row14_col3, #T_6867d_row14_col4, #T_6867d_row14_col5, #T_6867d_row14_col6, #T_6867d_row14_col7 {\n",
              "  text-align: left;\n",
              "}\n",
              "#T_6867d_row0_col1, #T_6867d_row0_col3, #T_6867d_row0_col5, #T_6867d_row0_col6, #T_6867d_row1_col1, #T_6867d_row1_col2, #T_6867d_row1_col3, #T_6867d_row1_col4, #T_6867d_row1_col5, #T_6867d_row1_col6, #T_6867d_row1_col7 {\n",
              "  text-align: left;\n",
              "  background-color: yellow;\n",
              "}\n",
              "#T_6867d_row0_col8, #T_6867d_row1_col8, #T_6867d_row2_col8, #T_6867d_row3_col8, #T_6867d_row4_col8, #T_6867d_row5_col8, #T_6867d_row6_col8, #T_6867d_row7_col8, #T_6867d_row8_col8, #T_6867d_row9_col8, #T_6867d_row10_col8, #T_6867d_row11_col8, #T_6867d_row12_col8, #T_6867d_row13_col8 {\n",
              "  text-align: left;\n",
              "  background-color: lightgrey;\n",
              "}\n",
              "#T_6867d_row14_col8 {\n",
              "  text-align: left;\n",
              "  background-color: yellow;\n",
              "  background-color: lightgrey;\n",
              "}\n",
              "</style>\n",
              "<table id=\"T_6867d\" class=\"dataframe\">\n",
              "  <thead>\n",
              "    <tr>\n",
              "      <th class=\"blank level0\" >&nbsp;</th>\n",
              "      <th id=\"T_6867d_level0_col0\" class=\"col_heading level0 col0\" >Model</th>\n",
              "      <th id=\"T_6867d_level0_col1\" class=\"col_heading level0 col1\" >Accuracy</th>\n",
              "      <th id=\"T_6867d_level0_col2\" class=\"col_heading level0 col2\" >AUC</th>\n",
              "      <th id=\"T_6867d_level0_col3\" class=\"col_heading level0 col3\" >Recall</th>\n",
              "      <th id=\"T_6867d_level0_col4\" class=\"col_heading level0 col4\" >Prec.</th>\n",
              "      <th id=\"T_6867d_level0_col5\" class=\"col_heading level0 col5\" >F1</th>\n",
              "      <th id=\"T_6867d_level0_col6\" class=\"col_heading level0 col6\" >Kappa</th>\n",
              "      <th id=\"T_6867d_level0_col7\" class=\"col_heading level0 col7\" >MCC</th>\n",
              "      <th id=\"T_6867d_level0_col8\" class=\"col_heading level0 col8\" >TT (Sec)</th>\n",
              "    </tr>\n",
              "  </thead>\n",
              "  <tbody>\n",
              "    <tr>\n",
              "      <th id=\"T_6867d_level0_row0\" class=\"row_heading level0 row0\" >et</th>\n",
              "      <td id=\"T_6867d_row0_col0\" class=\"data row0 col0\" >Extra Trees Classifier</td>\n",
              "      <td id=\"T_6867d_row0_col1\" class=\"data row0 col1\" >0.9008</td>\n",
              "      <td id=\"T_6867d_row0_col2\" class=\"data row0 col2\" >0.9589</td>\n",
              "      <td id=\"T_6867d_row0_col3\" class=\"data row0 col3\" >0.9008</td>\n",
              "      <td id=\"T_6867d_row0_col4\" class=\"data row0 col4\" >0.9008</td>\n",
              "      <td id=\"T_6867d_row0_col5\" class=\"data row0 col5\" >0.9008</td>\n",
              "      <td id=\"T_6867d_row0_col6\" class=\"data row0 col6\" >0.8016</td>\n",
              "      <td id=\"T_6867d_row0_col7\" class=\"data row0 col7\" >0.8017</td>\n",
              "      <td id=\"T_6867d_row0_col8\" class=\"data row0 col8\" >1.4520</td>\n",
              "    </tr>\n",
              "    <tr>\n",
              "      <th id=\"T_6867d_level0_row1\" class=\"row_heading level0 row1\" >lightgbm</th>\n",
              "      <td id=\"T_6867d_row1_col0\" class=\"data row1 col0\" >Light Gradient Boosting Machine</td>\n",
              "      <td id=\"T_6867d_row1_col1\" class=\"data row1 col1\" >0.9008</td>\n",
              "      <td id=\"T_6867d_row1_col2\" class=\"data row1 col2\" >0.9710</td>\n",
              "      <td id=\"T_6867d_row1_col3\" class=\"data row1 col3\" >0.9008</td>\n",
              "      <td id=\"T_6867d_row1_col4\" class=\"data row1 col4\" >0.9009</td>\n",
              "      <td id=\"T_6867d_row1_col5\" class=\"data row1 col5\" >0.9008</td>\n",
              "      <td id=\"T_6867d_row1_col6\" class=\"data row1 col6\" >0.8016</td>\n",
              "      <td id=\"T_6867d_row1_col7\" class=\"data row1 col7\" >0.8018</td>\n",
              "      <td id=\"T_6867d_row1_col8\" class=\"data row1 col8\" >0.9780</td>\n",
              "    </tr>\n",
              "    <tr>\n",
              "      <th id=\"T_6867d_level0_row2\" class=\"row_heading level0 row2\" >rf</th>\n",
              "      <td id=\"T_6867d_row2_col0\" class=\"data row2 col0\" >Random Forest Classifier</td>\n",
              "      <td id=\"T_6867d_row2_col1\" class=\"data row2 col1\" >0.8999</td>\n",
              "      <td id=\"T_6867d_row2_col2\" class=\"data row2 col2\" >0.9658</td>\n",
              "      <td id=\"T_6867d_row2_col3\" class=\"data row2 col3\" >0.8999</td>\n",
              "      <td id=\"T_6867d_row2_col4\" class=\"data row2 col4\" >0.8999</td>\n",
              "      <td id=\"T_6867d_row2_col5\" class=\"data row2 col5\" >0.8999</td>\n",
              "      <td id=\"T_6867d_row2_col6\" class=\"data row2 col6\" >0.7997</td>\n",
              "      <td id=\"T_6867d_row2_col7\" class=\"data row2 col7\" >0.7997</td>\n",
              "      <td id=\"T_6867d_row2_col8\" class=\"data row2 col8\" >1.1240</td>\n",
              "    </tr>\n",
              "    <tr>\n",
              "      <th id=\"T_6867d_level0_row3\" class=\"row_heading level0 row3\" >xgboost</th>\n",
              "      <td id=\"T_6867d_row3_col0\" class=\"data row3 col0\" >Extreme Gradient Boosting</td>\n",
              "      <td id=\"T_6867d_row3_col1\" class=\"data row3 col1\" >0.8984</td>\n",
              "      <td id=\"T_6867d_row3_col2\" class=\"data row3 col2\" >0.9696</td>\n",
              "      <td id=\"T_6867d_row3_col3\" class=\"data row3 col3\" >0.8984</td>\n",
              "      <td id=\"T_6867d_row3_col4\" class=\"data row3 col4\" >0.8984</td>\n",
              "      <td id=\"T_6867d_row3_col5\" class=\"data row3 col5\" >0.8984</td>\n",
              "      <td id=\"T_6867d_row3_col6\" class=\"data row3 col6\" >0.7968</td>\n",
              "      <td id=\"T_6867d_row3_col7\" class=\"data row3 col7\" >0.7968</td>\n",
              "      <td id=\"T_6867d_row3_col8\" class=\"data row3 col8\" >0.5320</td>\n",
              "    </tr>\n",
              "    <tr>\n",
              "      <th id=\"T_6867d_level0_row4\" class=\"row_heading level0 row4\" >gbc</th>\n",
              "      <td id=\"T_6867d_row4_col0\" class=\"data row4 col0\" >Gradient Boosting Classifier</td>\n",
              "      <td id=\"T_6867d_row4_col1\" class=\"data row4 col1\" >0.8955</td>\n",
              "      <td id=\"T_6867d_row4_col2\" class=\"data row4 col2\" >0.9691</td>\n",
              "      <td id=\"T_6867d_row4_col3\" class=\"data row4 col3\" >0.8955</td>\n",
              "      <td id=\"T_6867d_row4_col4\" class=\"data row4 col4\" >0.8957</td>\n",
              "      <td id=\"T_6867d_row4_col5\" class=\"data row4 col5\" >0.8955</td>\n",
              "      <td id=\"T_6867d_row4_col6\" class=\"data row4 col6\" >0.7910</td>\n",
              "      <td id=\"T_6867d_row4_col7\" class=\"data row4 col7\" >0.7912</td>\n",
              "      <td id=\"T_6867d_row4_col8\" class=\"data row4 col8\" >2.2420</td>\n",
              "    </tr>\n",
              "    <tr>\n",
              "      <th id=\"T_6867d_level0_row5\" class=\"row_heading level0 row5\" >ada</th>\n",
              "      <td id=\"T_6867d_row5_col0\" class=\"data row5 col0\" >Ada Boost Classifier</td>\n",
              "      <td id=\"T_6867d_row5_col1\" class=\"data row5 col1\" >0.8913</td>\n",
              "      <td id=\"T_6867d_row5_col2\" class=\"data row5 col2\" >0.9650</td>\n",
              "      <td id=\"T_6867d_row5_col3\" class=\"data row5 col3\" >0.8913</td>\n",
              "      <td id=\"T_6867d_row5_col4\" class=\"data row5 col4\" >0.8915</td>\n",
              "      <td id=\"T_6867d_row5_col5\" class=\"data row5 col5\" >0.8913</td>\n",
              "      <td id=\"T_6867d_row5_col6\" class=\"data row5 col6\" >0.7826</td>\n",
              "      <td id=\"T_6867d_row5_col7\" class=\"data row5 col7\" >0.7828</td>\n",
              "      <td id=\"T_6867d_row5_col8\" class=\"data row5 col8\" >0.5800</td>\n",
              "    </tr>\n",
              "    <tr>\n",
              "      <th id=\"T_6867d_level0_row6\" class=\"row_heading level0 row6\" >dt</th>\n",
              "      <td id=\"T_6867d_row6_col0\" class=\"data row6 col0\" >Decision Tree Classifier</td>\n",
              "      <td id=\"T_6867d_row6_col1\" class=\"data row6 col1\" >0.8566</td>\n",
              "      <td id=\"T_6867d_row6_col2\" class=\"data row6 col2\" >0.8571</td>\n",
              "      <td id=\"T_6867d_row6_col3\" class=\"data row6 col3\" >0.8566</td>\n",
              "      <td id=\"T_6867d_row6_col4\" class=\"data row6 col4\" >0.8567</td>\n",
              "      <td id=\"T_6867d_row6_col5\" class=\"data row6 col5\" >0.8566</td>\n",
              "      <td id=\"T_6867d_row6_col6\" class=\"data row6 col6\" >0.7132</td>\n",
              "      <td id=\"T_6867d_row6_col7\" class=\"data row6 col7\" >0.7133</td>\n",
              "      <td id=\"T_6867d_row6_col8\" class=\"data row6 col8\" >0.2080</td>\n",
              "    </tr>\n",
              "    <tr>\n",
              "      <th id=\"T_6867d_level0_row7\" class=\"row_heading level0 row7\" >qda</th>\n",
              "      <td id=\"T_6867d_row7_col0\" class=\"data row7 col0\" >Quadratic Discriminant Analysis</td>\n",
              "      <td id=\"T_6867d_row7_col1\" class=\"data row7 col1\" >0.8525</td>\n",
              "      <td id=\"T_6867d_row7_col2\" class=\"data row7 col2\" >0.9277</td>\n",
              "      <td id=\"T_6867d_row7_col3\" class=\"data row7 col3\" >0.8525</td>\n",
              "      <td id=\"T_6867d_row7_col4\" class=\"data row7 col4\" >0.8539</td>\n",
              "      <td id=\"T_6867d_row7_col5\" class=\"data row7 col5\" >0.8523</td>\n",
              "      <td id=\"T_6867d_row7_col6\" class=\"data row7 col6\" >0.7050</td>\n",
              "      <td id=\"T_6867d_row7_col7\" class=\"data row7 col7\" >0.7064</td>\n",
              "      <td id=\"T_6867d_row7_col8\" class=\"data row7 col8\" >0.1680</td>\n",
              "    </tr>\n",
              "    <tr>\n",
              "      <th id=\"T_6867d_level0_row8\" class=\"row_heading level0 row8\" >lr</th>\n",
              "      <td id=\"T_6867d_row8_col0\" class=\"data row8 col0\" >Logistic Regression</td>\n",
              "      <td id=\"T_6867d_row8_col1\" class=\"data row8 col1\" >0.8477</td>\n",
              "      <td id=\"T_6867d_row8_col2\" class=\"data row8 col2\" >0.9287</td>\n",
              "      <td id=\"T_6867d_row8_col3\" class=\"data row8 col3\" >0.8477</td>\n",
              "      <td id=\"T_6867d_row8_col4\" class=\"data row8 col4\" >0.8496</td>\n",
              "      <td id=\"T_6867d_row8_col5\" class=\"data row8 col5\" >0.8475</td>\n",
              "      <td id=\"T_6867d_row8_col6\" class=\"data row8 col6\" >0.6953</td>\n",
              "      <td id=\"T_6867d_row8_col7\" class=\"data row8 col7\" >0.6973</td>\n",
              "      <td id=\"T_6867d_row8_col8\" class=\"data row8 col8\" >1.6220</td>\n",
              "    </tr>\n",
              "    <tr>\n",
              "      <th id=\"T_6867d_level0_row9\" class=\"row_heading level0 row9\" >ridge</th>\n",
              "      <td id=\"T_6867d_row9_col0\" class=\"data row9 col0\" >Ridge Classifier</td>\n",
              "      <td id=\"T_6867d_row9_col1\" class=\"data row9 col1\" >0.8416</td>\n",
              "      <td id=\"T_6867d_row9_col2\" class=\"data row9 col2\" >0.9237</td>\n",
              "      <td id=\"T_6867d_row9_col3\" class=\"data row9 col3\" >0.8416</td>\n",
              "      <td id=\"T_6867d_row9_col4\" class=\"data row9 col4\" >0.8470</td>\n",
              "      <td id=\"T_6867d_row9_col5\" class=\"data row9 col5\" >0.8410</td>\n",
              "      <td id=\"T_6867d_row9_col6\" class=\"data row9 col6\" >0.6833</td>\n",
              "      <td id=\"T_6867d_row9_col7\" class=\"data row9 col7\" >0.6886</td>\n",
              "      <td id=\"T_6867d_row9_col8\" class=\"data row9 col8\" >0.2720</td>\n",
              "    </tr>\n",
              "    <tr>\n",
              "      <th id=\"T_6867d_level0_row10\" class=\"row_heading level0 row10\" >lda</th>\n",
              "      <td id=\"T_6867d_row10_col0\" class=\"data row10 col0\" >Linear Discriminant Analysis</td>\n",
              "      <td id=\"T_6867d_row10_col1\" class=\"data row10 col1\" >0.8416</td>\n",
              "      <td id=\"T_6867d_row10_col2\" class=\"data row10 col2\" >0.9237</td>\n",
              "      <td id=\"T_6867d_row10_col3\" class=\"data row10 col3\" >0.8416</td>\n",
              "      <td id=\"T_6867d_row10_col4\" class=\"data row10 col4\" >0.8470</td>\n",
              "      <td id=\"T_6867d_row10_col5\" class=\"data row10 col5\" >0.8410</td>\n",
              "      <td id=\"T_6867d_row10_col6\" class=\"data row10 col6\" >0.6833</td>\n",
              "      <td id=\"T_6867d_row10_col7\" class=\"data row10 col7\" >0.6886</td>\n",
              "      <td id=\"T_6867d_row10_col8\" class=\"data row10 col8\" >0.1660</td>\n",
              "    </tr>\n",
              "    <tr>\n",
              "      <th id=\"T_6867d_level0_row11\" class=\"row_heading level0 row11\" >svm</th>\n",
              "      <td id=\"T_6867d_row11_col0\" class=\"data row11 col0\" >SVM - Linear Kernel</td>\n",
              "      <td id=\"T_6867d_row11_col1\" class=\"data row11 col1\" >0.8403</td>\n",
              "      <td id=\"T_6867d_row11_col2\" class=\"data row11 col2\" >0.9139</td>\n",
              "      <td id=\"T_6867d_row11_col3\" class=\"data row11 col3\" >0.8403</td>\n",
              "      <td id=\"T_6867d_row11_col4\" class=\"data row11 col4\" >0.8457</td>\n",
              "      <td id=\"T_6867d_row11_col5\" class=\"data row11 col5\" >0.8397</td>\n",
              "      <td id=\"T_6867d_row11_col6\" class=\"data row11 col6\" >0.6806</td>\n",
              "      <td id=\"T_6867d_row11_col7\" class=\"data row11 col7\" >0.6860</td>\n",
              "      <td id=\"T_6867d_row11_col8\" class=\"data row11 col8\" >0.2000</td>\n",
              "    </tr>\n",
              "    <tr>\n",
              "      <th id=\"T_6867d_level0_row12\" class=\"row_heading level0 row12\" >knn</th>\n",
              "      <td id=\"T_6867d_row12_col0\" class=\"data row12 col0\" >K Neighbors Classifier</td>\n",
              "      <td id=\"T_6867d_row12_col1\" class=\"data row12 col1\" >0.8295</td>\n",
              "      <td id=\"T_6867d_row12_col2\" class=\"data row12 col2\" >0.9015</td>\n",
              "      <td id=\"T_6867d_row12_col3\" class=\"data row12 col3\" >0.8295</td>\n",
              "      <td id=\"T_6867d_row12_col4\" class=\"data row12 col4\" >0.8407</td>\n",
              "      <td id=\"T_6867d_row12_col5\" class=\"data row12 col5\" >0.8282</td>\n",
              "      <td id=\"T_6867d_row12_col6\" class=\"data row12 col6\" >0.6591</td>\n",
              "      <td id=\"T_6867d_row12_col7\" class=\"data row12 col7\" >0.6701</td>\n",
              "      <td id=\"T_6867d_row12_col8\" class=\"data row12 col8\" >0.3440</td>\n",
              "    </tr>\n",
              "    <tr>\n",
              "      <th id=\"T_6867d_level0_row13\" class=\"row_heading level0 row13\" >nb</th>\n",
              "      <td id=\"T_6867d_row13_col0\" class=\"data row13 col0\" >Naive Bayes</td>\n",
              "      <td id=\"T_6867d_row13_col1\" class=\"data row13 col1\" >0.8294</td>\n",
              "      <td id=\"T_6867d_row13_col2\" class=\"data row13 col2\" >0.9077</td>\n",
              "      <td id=\"T_6867d_row13_col3\" class=\"data row13 col3\" >0.8294</td>\n",
              "      <td id=\"T_6867d_row13_col4\" class=\"data row13 col4\" >0.8340</td>\n",
              "      <td id=\"T_6867d_row13_col5\" class=\"data row13 col5\" >0.8288</td>\n",
              "      <td id=\"T_6867d_row13_col6\" class=\"data row13 col6\" >0.6589</td>\n",
              "      <td id=\"T_6867d_row13_col7\" class=\"data row13 col7\" >0.6635</td>\n",
              "      <td id=\"T_6867d_row13_col8\" class=\"data row13 col8\" >0.1560</td>\n",
              "    </tr>\n",
              "    <tr>\n",
              "      <th id=\"T_6867d_level0_row14\" class=\"row_heading level0 row14\" >dummy</th>\n",
              "      <td id=\"T_6867d_row14_col0\" class=\"data row14 col0\" >Dummy Classifier</td>\n",
              "      <td id=\"T_6867d_row14_col1\" class=\"data row14 col1\" >0.5000</td>\n",
              "      <td id=\"T_6867d_row14_col2\" class=\"data row14 col2\" >0.5000</td>\n",
              "      <td id=\"T_6867d_row14_col3\" class=\"data row14 col3\" >0.5000</td>\n",
              "      <td id=\"T_6867d_row14_col4\" class=\"data row14 col4\" >0.2500</td>\n",
              "      <td id=\"T_6867d_row14_col5\" class=\"data row14 col5\" >0.3333</td>\n",
              "      <td id=\"T_6867d_row14_col6\" class=\"data row14 col6\" >0.0000</td>\n",
              "      <td id=\"T_6867d_row14_col7\" class=\"data row14 col7\" >0.0000</td>\n",
              "      <td id=\"T_6867d_row14_col8\" class=\"data row14 col8\" >0.1500</td>\n",
              "    </tr>\n",
              "  </tbody>\n",
              "</table>\n"
            ],
            "text/plain": [
              "<pandas.io.formats.style.Styler at 0x7968fd4cec80>"
            ]
          },
          "metadata": {},
          "output_type": "display_data"
        },
        {
          "data": {
            "application/vnd.jupyter.widget-view+json": {
              "model_id": "27e45f5a317048d0babeb1e4913f578a",
              "version_major": 2,
              "version_minor": 0
            },
            "text/plain": [
              "Processing:   0%|          | 0/65 [00:00<?, ?it/s]"
            ]
          },
          "metadata": {
            "application/vnd.jupyter.widget-view+json": {
              "colab": {
                "custom_widget_manager": {
                  "url": "https://ssl.gstatic.com/colaboratory-static/widgets/colab-cdn-widget-manager/2b70e893a8ba7c0f/manager.min.js"
                }
              }
            }
          },
          "output_type": "display_data"
        },
        {
          "data": {
            "text/html": [],
            "text/plain": [
              "<IPython.core.display.HTML object>"
            ]
          },
          "metadata": {},
          "output_type": "display_data"
        }
      ],
      "source": [
        "# Comparación modelos\n",
        "best = compare_models()"
      ]
    },
    {
      "cell_type": "markdown",
      "metadata": {
        "id": "Mlqd3JKnDmA0"
      },
      "source": [
        "**Evaluación de las métricas**\n",
        "\n",
        "**Extra Trees Classifier:**\n",
        "Precisión (Accuracy): 0.9008\n",
        "Área bajo la curva ROC (AUC): 0.9589\n",
        "Recall: 0.9008\n",
        "Precisión: 0.9008\n",
        "Puntuación F1: 0.9008\n",
        "Kappa: 0.8016\n",
        "Coeficiente de Correlación de Matthews (MCC): 0.8017\n",
        "Tiempo de entrenamiento: 1.4520 segundos\n",
        "\n",
        "**Light Gradient Boosting Machine:**\n",
        "Precisión (Accuracy): 0.9008\n",
        "Área bajo la curva ROC (AUC): 0.9710\n",
        "Recall: 0.9008\n",
        "Precisión: 0.9009\n",
        "Puntuación F1: 0.9008\n",
        "Kappa: 0.8016\n",
        "Coeficiente de Correlación de Matthews (MCC): 0.8018\n",
        "Tiempo de entrenamiento: 0.9780 segundos\n",
        "\n",
        "Ambos modelos lograron resultados similares en términos de precisión, recall y puntuación F1. Sin embargo, el modelo Light Gradient Boosting Machine obtuvo un AUC ligeramente más alto que el Extra Trees Classifier, lo que indica una mejor capacidad para distinguir entre las clases positiva y negativa.\n",
        "\n",
        "Ambos modelos entrenados con SMOTE lograron un rendimiento sólido en la clasificación de datos desbalanceados. El Light Gradient Boosting Machine mostró una ligera ventaja en términos de AUC, pero ambos modelos son opciones viables dependiendo de las necesidades específicas del problema y las preferencias del usuario. Además, el tiempo de entrenamiento fue razonable para ambos modelos, lo que indica una buena eficiencia computacional."
      ]
    },
    {
      "cell_type": "code",
      "execution_count": 26,
      "metadata": {
        "colab": {
          "base_uri": "https://localhost:8080/"
        },
        "id": "uxlBaOkZr6Q9",
        "outputId": "d32d39f1-447a-4162-9bb1-a54fbd0fa8e9"
      },
      "outputs": [
        {
          "name": "stdout",
          "output_type": "stream",
          "text": [
            "Después de aplicar ADASYN:\n",
            "Churn\n",
            "Yes    5228\n",
            "No     5174\n",
            "Name: count, dtype: int64\n"
          ]
        }
      ],
      "source": [
        "from imblearn.over_sampling import ADASYN\n",
        "\n",
        "# Aplicar ADASYN\n",
        "X_resampled, y_resampled = ADASYN(random_state=123).fit_resample(X_encoded, y)\n",
        "\n",
        "# Verificar el balance de clases después de aplicar ADASYN\n",
        "print(\"Después de aplicar ADASYN:\")\n",
        "print(pd.Series(y_resampled).value_counts())\n"
      ]
    },
    {
      "cell_type": "code",
      "execution_count": 27,
      "metadata": {
        "colab": {
          "base_uri": "https://localhost:8080/"
        },
        "id": "k_6qTFXjsSDU",
        "outputId": "477a852a-5084-4076-ccab-6620c7dafe66"
      },
      "outputs": [
        {
          "data": {
            "text/plain": [
              "(10402, 22)"
            ]
          },
          "execution_count": 27,
          "metadata": {},
          "output_type": "execute_result"
        }
      ],
      "source": [
        "# Creación de datos con adasyn\n",
        "ada_dataset = X_resampled\n",
        "ada_dataset['Churn'] = y_resampled\n",
        "ada_dataset.shape"
      ]
    },
    {
      "cell_type": "code",
      "execution_count": 28,
      "metadata": {
        "colab": {
          "base_uri": "https://localhost:8080/",
          "height": 802
        },
        "id": "rbN9TAiVseUt",
        "outputId": "e77f7e21-f914-4fed-bcaa-106c47b7c6e6"
      },
      "outputs": [
        {
          "data": {
            "text/html": [
              "<style type=\"text/css\">\n",
              "#T_528ba_row9_col1, #T_528ba_row13_col1, #T_528ba_row15_col1 {\n",
              "  background-color: lightgreen;\n",
              "}\n",
              "</style>\n",
              "<table id=\"T_528ba\" class=\"dataframe\">\n",
              "  <thead>\n",
              "    <tr>\n",
              "      <th class=\"blank level0\" >&nbsp;</th>\n",
              "      <th id=\"T_528ba_level0_col0\" class=\"col_heading level0 col0\" >Description</th>\n",
              "      <th id=\"T_528ba_level0_col1\" class=\"col_heading level0 col1\" >Value</th>\n",
              "    </tr>\n",
              "  </thead>\n",
              "  <tbody>\n",
              "    <tr>\n",
              "      <th id=\"T_528ba_level0_row0\" class=\"row_heading level0 row0\" >0</th>\n",
              "      <td id=\"T_528ba_row0_col0\" class=\"data row0 col0\" >Session id</td>\n",
              "      <td id=\"T_528ba_row0_col1\" class=\"data row0 col1\" >123</td>\n",
              "    </tr>\n",
              "    <tr>\n",
              "      <th id=\"T_528ba_level0_row1\" class=\"row_heading level0 row1\" >1</th>\n",
              "      <td id=\"T_528ba_row1_col0\" class=\"data row1 col0\" >Target</td>\n",
              "      <td id=\"T_528ba_row1_col1\" class=\"data row1 col1\" >Churn</td>\n",
              "    </tr>\n",
              "    <tr>\n",
              "      <th id=\"T_528ba_level0_row2\" class=\"row_heading level0 row2\" >2</th>\n",
              "      <td id=\"T_528ba_row2_col0\" class=\"data row2 col0\" >Target type</td>\n",
              "      <td id=\"T_528ba_row2_col1\" class=\"data row2 col1\" >Binary</td>\n",
              "    </tr>\n",
              "    <tr>\n",
              "      <th id=\"T_528ba_level0_row3\" class=\"row_heading level0 row3\" >3</th>\n",
              "      <td id=\"T_528ba_row3_col0\" class=\"data row3 col0\" >Target mapping</td>\n",
              "      <td id=\"T_528ba_row3_col1\" class=\"data row3 col1\" >No: 0, Yes: 1</td>\n",
              "    </tr>\n",
              "    <tr>\n",
              "      <th id=\"T_528ba_level0_row4\" class=\"row_heading level0 row4\" >4</th>\n",
              "      <td id=\"T_528ba_row4_col0\" class=\"data row4 col0\" >Original data shape</td>\n",
              "      <td id=\"T_528ba_row4_col1\" class=\"data row4 col1\" >(10402, 22)</td>\n",
              "    </tr>\n",
              "    <tr>\n",
              "      <th id=\"T_528ba_level0_row5\" class=\"row_heading level0 row5\" >5</th>\n",
              "      <td id=\"T_528ba_row5_col0\" class=\"data row5 col0\" >Transformed data shape</td>\n",
              "      <td id=\"T_528ba_row5_col1\" class=\"data row5 col1\" >(10445, 22)</td>\n",
              "    </tr>\n",
              "    <tr>\n",
              "      <th id=\"T_528ba_level0_row6\" class=\"row_heading level0 row6\" >6</th>\n",
              "      <td id=\"T_528ba_row6_col0\" class=\"data row6 col0\" >Transformed train set shape</td>\n",
              "      <td id=\"T_528ba_row6_col1\" class=\"data row6 col1\" >(8364, 22)</td>\n",
              "    </tr>\n",
              "    <tr>\n",
              "      <th id=\"T_528ba_level0_row7\" class=\"row_heading level0 row7\" >7</th>\n",
              "      <td id=\"T_528ba_row7_col0\" class=\"data row7 col0\" >Transformed test set shape</td>\n",
              "      <td id=\"T_528ba_row7_col1\" class=\"data row7 col1\" >(2081, 22)</td>\n",
              "    </tr>\n",
              "    <tr>\n",
              "      <th id=\"T_528ba_level0_row8\" class=\"row_heading level0 row8\" >8</th>\n",
              "      <td id=\"T_528ba_row8_col0\" class=\"data row8 col0\" >Numeric features</td>\n",
              "      <td id=\"T_528ba_row8_col1\" class=\"data row8 col1\" >21</td>\n",
              "    </tr>\n",
              "    <tr>\n",
              "      <th id=\"T_528ba_level0_row9\" class=\"row_heading level0 row9\" >9</th>\n",
              "      <td id=\"T_528ba_row9_col0\" class=\"data row9 col0\" >Preprocess</td>\n",
              "      <td id=\"T_528ba_row9_col1\" class=\"data row9 col1\" >True</td>\n",
              "    </tr>\n",
              "    <tr>\n",
              "      <th id=\"T_528ba_level0_row10\" class=\"row_heading level0 row10\" >10</th>\n",
              "      <td id=\"T_528ba_row10_col0\" class=\"data row10 col0\" >Imputation type</td>\n",
              "      <td id=\"T_528ba_row10_col1\" class=\"data row10 col1\" >simple</td>\n",
              "    </tr>\n",
              "    <tr>\n",
              "      <th id=\"T_528ba_level0_row11\" class=\"row_heading level0 row11\" >11</th>\n",
              "      <td id=\"T_528ba_row11_col0\" class=\"data row11 col0\" >Numeric imputation</td>\n",
              "      <td id=\"T_528ba_row11_col1\" class=\"data row11 col1\" >mean</td>\n",
              "    </tr>\n",
              "    <tr>\n",
              "      <th id=\"T_528ba_level0_row12\" class=\"row_heading level0 row12\" >12</th>\n",
              "      <td id=\"T_528ba_row12_col0\" class=\"data row12 col0\" >Categorical imputation</td>\n",
              "      <td id=\"T_528ba_row12_col1\" class=\"data row12 col1\" >mode</td>\n",
              "    </tr>\n",
              "    <tr>\n",
              "      <th id=\"T_528ba_level0_row13\" class=\"row_heading level0 row13\" >13</th>\n",
              "      <td id=\"T_528ba_row13_col0\" class=\"data row13 col0\" >Fix imbalance</td>\n",
              "      <td id=\"T_528ba_row13_col1\" class=\"data row13 col1\" >True</td>\n",
              "    </tr>\n",
              "    <tr>\n",
              "      <th id=\"T_528ba_level0_row14\" class=\"row_heading level0 row14\" >14</th>\n",
              "      <td id=\"T_528ba_row14_col0\" class=\"data row14 col0\" >Fix imbalance method</td>\n",
              "      <td id=\"T_528ba_row14_col1\" class=\"data row14 col1\" >SMOTE</td>\n",
              "    </tr>\n",
              "    <tr>\n",
              "      <th id=\"T_528ba_level0_row15\" class=\"row_heading level0 row15\" >15</th>\n",
              "      <td id=\"T_528ba_row15_col0\" class=\"data row15 col0\" >Normalize</td>\n",
              "      <td id=\"T_528ba_row15_col1\" class=\"data row15 col1\" >True</td>\n",
              "    </tr>\n",
              "    <tr>\n",
              "      <th id=\"T_528ba_level0_row16\" class=\"row_heading level0 row16\" >16</th>\n",
              "      <td id=\"T_528ba_row16_col0\" class=\"data row16 col0\" >Normalize method</td>\n",
              "      <td id=\"T_528ba_row16_col1\" class=\"data row16 col1\" >zscore</td>\n",
              "    </tr>\n",
              "    <tr>\n",
              "      <th id=\"T_528ba_level0_row17\" class=\"row_heading level0 row17\" >17</th>\n",
              "      <td id=\"T_528ba_row17_col0\" class=\"data row17 col0\" >Fold Generator</td>\n",
              "      <td id=\"T_528ba_row17_col1\" class=\"data row17 col1\" >StratifiedKFold</td>\n",
              "    </tr>\n",
              "    <tr>\n",
              "      <th id=\"T_528ba_level0_row18\" class=\"row_heading level0 row18\" >18</th>\n",
              "      <td id=\"T_528ba_row18_col0\" class=\"data row18 col0\" >Fold Number</td>\n",
              "      <td id=\"T_528ba_row18_col1\" class=\"data row18 col1\" >5</td>\n",
              "    </tr>\n",
              "    <tr>\n",
              "      <th id=\"T_528ba_level0_row19\" class=\"row_heading level0 row19\" >19</th>\n",
              "      <td id=\"T_528ba_row19_col0\" class=\"data row19 col0\" >CPU Jobs</td>\n",
              "      <td id=\"T_528ba_row19_col1\" class=\"data row19 col1\" >-1</td>\n",
              "    </tr>\n",
              "    <tr>\n",
              "      <th id=\"T_528ba_level0_row20\" class=\"row_heading level0 row20\" >20</th>\n",
              "      <td id=\"T_528ba_row20_col0\" class=\"data row20 col0\" >Use GPU</td>\n",
              "      <td id=\"T_528ba_row20_col1\" class=\"data row20 col1\" >False</td>\n",
              "    </tr>\n",
              "    <tr>\n",
              "      <th id=\"T_528ba_level0_row21\" class=\"row_heading level0 row21\" >21</th>\n",
              "      <td id=\"T_528ba_row21_col0\" class=\"data row21 col0\" >Log Experiment</td>\n",
              "      <td id=\"T_528ba_row21_col1\" class=\"data row21 col1\" >MlflowLogger</td>\n",
              "    </tr>\n",
              "    <tr>\n",
              "      <th id=\"T_528ba_level0_row22\" class=\"row_heading level0 row22\" >22</th>\n",
              "      <td id=\"T_528ba_row22_col0\" class=\"data row22 col0\" >Experiment Name</td>\n",
              "      <td id=\"T_528ba_row22_col1\" class=\"data row22 col1\" >Churn</td>\n",
              "    </tr>\n",
              "    <tr>\n",
              "      <th id=\"T_528ba_level0_row23\" class=\"row_heading level0 row23\" >23</th>\n",
              "      <td id=\"T_528ba_row23_col0\" class=\"data row23 col0\" >USI</td>\n",
              "      <td id=\"T_528ba_row23_col1\" class=\"data row23 col1\" >b358</td>\n",
              "    </tr>\n",
              "  </tbody>\n",
              "</table>\n"
            ],
            "text/plain": [
              "<pandas.io.formats.style.Styler at 0x7969224e3fa0>"
            ]
          },
          "metadata": {},
          "output_type": "display_data"
        }
      ],
      "source": [
        "from pycaret.classification import *\n",
        "clf = setup(data=ada_dataset, target='Churn', session_id=123, log_experiment=True,\n",
        "            experiment_name='Churn', fix_imbalance=True, normalize=True,\n",
        "            normalize_method='zscore', train_size=0.8, fold=5)"
      ]
    },
    {
      "cell_type": "code",
      "execution_count": null,
      "metadata": {
        "colab": {
          "base_uri": "https://localhost:8080/",
          "height": 520,
          "referenced_widgets": [
            "6053422db6e44075b0d334d2b2775dc5",
            "a38cd088d2da45b595e6e2c737d0c03a",
            "0a41862444c04e149c90775c0f4a819f",
            "410c6ac8b24e4d6298df602fc7e7c199",
            "390d1957e8d349ecbb0600e752c21ab8",
            "b012d8f6bfc6408ba33b85bca65e6267",
            "46eb2a140f144e40837839f405865da7",
            "4a201856ff7d4b0f8da16eb56b98282d",
            "c18a4edd0bfa49f2b2ee242dfe447234",
            "6db402e9fa73474f940055f3336bb068",
            "9d0dc4996fa745908b93ec684453929f"
          ]
        },
        "id": "cliu_gizsj78",
        "outputId": "dd426f28-c48e-4ef1-8f18-f03d7ef91283"
      },
      "outputs": [
        {
          "data": {
            "text/html": [],
            "text/plain": [
              "<IPython.core.display.HTML object>"
            ]
          },
          "metadata": {},
          "output_type": "display_data"
        },
        {
          "data": {
            "text/html": [
              "<style type=\"text/css\">\n",
              "#T_6de0b th {\n",
              "  text-align: left;\n",
              "}\n",
              "#T_6de0b_row0_col0, #T_6de0b_row1_col0, #T_6de0b_row1_col1, #T_6de0b_row1_col2, #T_6de0b_row1_col3, #T_6de0b_row1_col4, #T_6de0b_row1_col5, #T_6de0b_row1_col6, #T_6de0b_row1_col7, #T_6de0b_row2_col0, #T_6de0b_row2_col1, #T_6de0b_row2_col2, #T_6de0b_row2_col3, #T_6de0b_row2_col4, #T_6de0b_row2_col5, #T_6de0b_row2_col6, #T_6de0b_row2_col7, #T_6de0b_row3_col0, #T_6de0b_row3_col1, #T_6de0b_row3_col2, #T_6de0b_row3_col3, #T_6de0b_row3_col4, #T_6de0b_row3_col5, #T_6de0b_row3_col6, #T_6de0b_row3_col7, #T_6de0b_row4_col0, #T_6de0b_row4_col1, #T_6de0b_row4_col2, #T_6de0b_row4_col3, #T_6de0b_row4_col4, #T_6de0b_row4_col5, #T_6de0b_row4_col6, #T_6de0b_row4_col7, #T_6de0b_row5_col0, #T_6de0b_row5_col1, #T_6de0b_row5_col2, #T_6de0b_row5_col3, #T_6de0b_row5_col4, #T_6de0b_row5_col5, #T_6de0b_row5_col6, #T_6de0b_row5_col7, #T_6de0b_row6_col0, #T_6de0b_row6_col1, #T_6de0b_row6_col2, #T_6de0b_row6_col3, #T_6de0b_row6_col4, #T_6de0b_row6_col5, #T_6de0b_row6_col6, #T_6de0b_row6_col7, #T_6de0b_row7_col0, #T_6de0b_row7_col1, #T_6de0b_row7_col2, #T_6de0b_row7_col3, #T_6de0b_row7_col4, #T_6de0b_row7_col5, #T_6de0b_row7_col6, #T_6de0b_row7_col7, #T_6de0b_row8_col0, #T_6de0b_row8_col1, #T_6de0b_row8_col2, #T_6de0b_row8_col3, #T_6de0b_row8_col4, #T_6de0b_row8_col5, #T_6de0b_row8_col6, #T_6de0b_row8_col7, #T_6de0b_row9_col0, #T_6de0b_row9_col1, #T_6de0b_row9_col2, #T_6de0b_row9_col3, #T_6de0b_row9_col4, #T_6de0b_row9_col5, #T_6de0b_row9_col6, #T_6de0b_row9_col7, #T_6de0b_row10_col0, #T_6de0b_row10_col1, #T_6de0b_row10_col2, #T_6de0b_row10_col3, #T_6de0b_row10_col4, #T_6de0b_row10_col5, #T_6de0b_row10_col6, #T_6de0b_row10_col7, #T_6de0b_row11_col0, #T_6de0b_row11_col1, #T_6de0b_row11_col2, #T_6de0b_row11_col3, #T_6de0b_row11_col4, #T_6de0b_row11_col5, #T_6de0b_row11_col6, #T_6de0b_row11_col7, #T_6de0b_row12_col0, #T_6de0b_row12_col1, #T_6de0b_row12_col2, #T_6de0b_row12_col3, #T_6de0b_row12_col4, #T_6de0b_row12_col5, #T_6de0b_row12_col6, #T_6de0b_row12_col7, #T_6de0b_row13_col0, #T_6de0b_row13_col1, #T_6de0b_row13_col2, #T_6de0b_row13_col3, #T_6de0b_row13_col4, #T_6de0b_row13_col5, #T_6de0b_row13_col6, #T_6de0b_row13_col7, #T_6de0b_row14_col0, #T_6de0b_row14_col1, #T_6de0b_row14_col2, #T_6de0b_row14_col3, #T_6de0b_row14_col4, #T_6de0b_row14_col5, #T_6de0b_row14_col6, #T_6de0b_row14_col7 {\n",
              "  text-align: left;\n",
              "}\n",
              "#T_6de0b_row0_col1, #T_6de0b_row0_col2, #T_6de0b_row0_col3, #T_6de0b_row0_col4, #T_6de0b_row0_col5, #T_6de0b_row0_col6, #T_6de0b_row0_col7 {\n",
              "  text-align: left;\n",
              "  background-color: yellow;\n",
              "}\n",
              "#T_6de0b_row0_col8, #T_6de0b_row1_col8, #T_6de0b_row2_col8, #T_6de0b_row3_col8, #T_6de0b_row4_col8, #T_6de0b_row5_col8, #T_6de0b_row6_col8, #T_6de0b_row7_col8, #T_6de0b_row8_col8, #T_6de0b_row9_col8, #T_6de0b_row10_col8, #T_6de0b_row11_col8, #T_6de0b_row12_col8, #T_6de0b_row13_col8 {\n",
              "  text-align: left;\n",
              "  background-color: lightgrey;\n",
              "}\n",
              "#T_6de0b_row14_col8 {\n",
              "  text-align: left;\n",
              "  background-color: yellow;\n",
              "  background-color: lightgrey;\n",
              "}\n",
              "</style>\n",
              "<table id=\"T_6de0b\" class=\"dataframe\">\n",
              "  <thead>\n",
              "    <tr>\n",
              "      <th class=\"blank level0\" >&nbsp;</th>\n",
              "      <th id=\"T_6de0b_level0_col0\" class=\"col_heading level0 col0\" >Model</th>\n",
              "      <th id=\"T_6de0b_level0_col1\" class=\"col_heading level0 col1\" >Accuracy</th>\n",
              "      <th id=\"T_6de0b_level0_col2\" class=\"col_heading level0 col2\" >AUC</th>\n",
              "      <th id=\"T_6de0b_level0_col3\" class=\"col_heading level0 col3\" >Recall</th>\n",
              "      <th id=\"T_6de0b_level0_col4\" class=\"col_heading level0 col4\" >Prec.</th>\n",
              "      <th id=\"T_6de0b_level0_col5\" class=\"col_heading level0 col5\" >F1</th>\n",
              "      <th id=\"T_6de0b_level0_col6\" class=\"col_heading level0 col6\" >Kappa</th>\n",
              "      <th id=\"T_6de0b_level0_col7\" class=\"col_heading level0 col7\" >MCC</th>\n",
              "      <th id=\"T_6de0b_level0_col8\" class=\"col_heading level0 col8\" >TT (Sec)</th>\n",
              "    </tr>\n",
              "  </thead>\n",
              "  <tbody>\n",
              "    <tr>\n",
              "      <th id=\"T_6de0b_level0_row0\" class=\"row_heading level0 row0\" >xgboost</th>\n",
              "      <td id=\"T_6de0b_row0_col0\" class=\"data row0 col0\" >Extreme Gradient Boosting</td>\n",
              "      <td id=\"T_6de0b_row0_col1\" class=\"data row0 col1\" >0.8885</td>\n",
              "      <td id=\"T_6de0b_row0_col2\" class=\"data row0 col2\" >0.9598</td>\n",
              "      <td id=\"T_6de0b_row0_col3\" class=\"data row0 col3\" >0.8885</td>\n",
              "      <td id=\"T_6de0b_row0_col4\" class=\"data row0 col4\" >0.8891</td>\n",
              "      <td id=\"T_6de0b_row0_col5\" class=\"data row0 col5\" >0.8884</td>\n",
              "      <td id=\"T_6de0b_row0_col6\" class=\"data row0 col6\" >0.7769</td>\n",
              "      <td id=\"T_6de0b_row0_col7\" class=\"data row0 col7\" >0.7776</td>\n",
              "      <td id=\"T_6de0b_row0_col8\" class=\"data row0 col8\" >0.3910</td>\n",
              "    </tr>\n",
              "    <tr>\n",
              "      <th id=\"T_6de0b_level0_row1\" class=\"row_heading level0 row1\" >rf</th>\n",
              "      <td id=\"T_6de0b_row1_col0\" class=\"data row1 col0\" >Random Forest Classifier</td>\n",
              "      <td id=\"T_6de0b_row1_col1\" class=\"data row1 col1\" >0.8859</td>\n",
              "      <td id=\"T_6de0b_row1_col2\" class=\"data row1 col2\" >0.9560</td>\n",
              "      <td id=\"T_6de0b_row1_col3\" class=\"data row1 col3\" >0.8859</td>\n",
              "      <td id=\"T_6de0b_row1_col4\" class=\"data row1 col4\" >0.8865</td>\n",
              "      <td id=\"T_6de0b_row1_col5\" class=\"data row1 col5\" >0.8858</td>\n",
              "      <td id=\"T_6de0b_row1_col6\" class=\"data row1 col6\" >0.7717</td>\n",
              "      <td id=\"T_6de0b_row1_col7\" class=\"data row1 col7\" >0.7723</td>\n",
              "      <td id=\"T_6de0b_row1_col8\" class=\"data row1 col8\" >0.7380</td>\n",
              "    </tr>\n",
              "    <tr>\n",
              "      <th id=\"T_6de0b_level0_row2\" class=\"row_heading level0 row2\" >lightgbm</th>\n",
              "      <td id=\"T_6de0b_row2_col0\" class=\"data row2 col0\" >Light Gradient Boosting Machine</td>\n",
              "      <td id=\"T_6de0b_row2_col1\" class=\"data row2 col1\" >0.8850</td>\n",
              "      <td id=\"T_6de0b_row2_col2\" class=\"data row2 col2\" >0.9597</td>\n",
              "      <td id=\"T_6de0b_row2_col3\" class=\"data row2 col3\" >0.8850</td>\n",
              "      <td id=\"T_6de0b_row2_col4\" class=\"data row2 col4\" >0.8861</td>\n",
              "      <td id=\"T_6de0b_row2_col5\" class=\"data row2 col5\" >0.8849</td>\n",
              "      <td id=\"T_6de0b_row2_col6\" class=\"data row2 col6\" >0.7700</td>\n",
              "      <td id=\"T_6de0b_row2_col7\" class=\"data row2 col7\" >0.7711</td>\n",
              "      <td id=\"T_6de0b_row2_col8\" class=\"data row2 col8\" >0.8410</td>\n",
              "    </tr>\n",
              "    <tr>\n",
              "      <th id=\"T_6de0b_level0_row3\" class=\"row_heading level0 row3\" >gbc</th>\n",
              "      <td id=\"T_6de0b_row3_col0\" class=\"data row3 col0\" >Gradient Boosting Classifier</td>\n",
              "      <td id=\"T_6de0b_row3_col1\" class=\"data row3 col1\" >0.8757</td>\n",
              "      <td id=\"T_6de0b_row3_col2\" class=\"data row3 col2\" >0.9508</td>\n",
              "      <td id=\"T_6de0b_row3_col3\" class=\"data row3 col3\" >0.8757</td>\n",
              "      <td id=\"T_6de0b_row3_col4\" class=\"data row3 col4\" >0.8783</td>\n",
              "      <td id=\"T_6de0b_row3_col5\" class=\"data row3 col5\" >0.8755</td>\n",
              "      <td id=\"T_6de0b_row3_col6\" class=\"data row3 col6\" >0.7513</td>\n",
              "      <td id=\"T_6de0b_row3_col7\" class=\"data row3 col7\" >0.7540</td>\n",
              "      <td id=\"T_6de0b_row3_col8\" class=\"data row3 col8\" >1.2300</td>\n",
              "    </tr>\n",
              "    <tr>\n",
              "      <th id=\"T_6de0b_level0_row4\" class=\"row_heading level0 row4\" >et</th>\n",
              "      <td id=\"T_6de0b_row4_col0\" class=\"data row4 col0\" >Extra Trees Classifier</td>\n",
              "      <td id=\"T_6de0b_row4_col1\" class=\"data row4 col1\" >0.8753</td>\n",
              "      <td id=\"T_6de0b_row4_col2\" class=\"data row4 col2\" >0.9462</td>\n",
              "      <td id=\"T_6de0b_row4_col3\" class=\"data row4 col3\" >0.8753</td>\n",
              "      <td id=\"T_6de0b_row4_col4\" class=\"data row4 col4\" >0.8757</td>\n",
              "      <td id=\"T_6de0b_row4_col5\" class=\"data row4 col5\" >0.8753</td>\n",
              "      <td id=\"T_6de0b_row4_col6\" class=\"data row4 col6\" >0.7505</td>\n",
              "      <td id=\"T_6de0b_row4_col7\" class=\"data row4 col7\" >0.7510</td>\n",
              "      <td id=\"T_6de0b_row4_col8\" class=\"data row4 col8\" >0.6970</td>\n",
              "    </tr>\n",
              "    <tr>\n",
              "      <th id=\"T_6de0b_level0_row5\" class=\"row_heading level0 row5\" >ada</th>\n",
              "      <td id=\"T_6de0b_row5_col0\" class=\"data row5 col0\" >Ada Boost Classifier</td>\n",
              "      <td id=\"T_6de0b_row5_col1\" class=\"data row5 col1\" >0.8691</td>\n",
              "      <td id=\"T_6de0b_row5_col2\" class=\"data row5 col2\" >0.9432</td>\n",
              "      <td id=\"T_6de0b_row5_col3\" class=\"data row5 col3\" >0.8691</td>\n",
              "      <td id=\"T_6de0b_row5_col4\" class=\"data row5 col4\" >0.8714</td>\n",
              "      <td id=\"T_6de0b_row5_col5\" class=\"data row5 col5\" >0.8689</td>\n",
              "      <td id=\"T_6de0b_row5_col6\" class=\"data row5 col6\" >0.7381</td>\n",
              "      <td id=\"T_6de0b_row5_col7\" class=\"data row5 col7\" >0.7404</td>\n",
              "      <td id=\"T_6de0b_row5_col8\" class=\"data row5 col8\" >0.4620</td>\n",
              "    </tr>\n",
              "    <tr>\n",
              "      <th id=\"T_6de0b_level0_row6\" class=\"row_heading level0 row6\" >lr</th>\n",
              "      <td id=\"T_6de0b_row6_col0\" class=\"data row6 col0\" >Logistic Regression</td>\n",
              "      <td id=\"T_6de0b_row6_col1\" class=\"data row6 col1\" >0.8525</td>\n",
              "      <td id=\"T_6de0b_row6_col2\" class=\"data row6 col2\" >0.9329</td>\n",
              "      <td id=\"T_6de0b_row6_col3\" class=\"data row6 col3\" >0.8525</td>\n",
              "      <td id=\"T_6de0b_row6_col4\" class=\"data row6 col4\" >0.8544</td>\n",
              "      <td id=\"T_6de0b_row6_col5\" class=\"data row6 col5\" >0.8523</td>\n",
              "      <td id=\"T_6de0b_row6_col6\" class=\"data row6 col6\" >0.7049</td>\n",
              "      <td id=\"T_6de0b_row6_col7\" class=\"data row6 col7\" >0.7069</td>\n",
              "      <td id=\"T_6de0b_row6_col8\" class=\"data row6 col8\" >1.1730</td>\n",
              "    </tr>\n",
              "    <tr>\n",
              "      <th id=\"T_6de0b_level0_row7\" class=\"row_heading level0 row7\" >qda</th>\n",
              "      <td id=\"T_6de0b_row7_col0\" class=\"data row7 col0\" >Quadratic Discriminant Analysis</td>\n",
              "      <td id=\"T_6de0b_row7_col1\" class=\"data row7 col1\" >0.8496</td>\n",
              "      <td id=\"T_6de0b_row7_col2\" class=\"data row7 col2\" >0.9291</td>\n",
              "      <td id=\"T_6de0b_row7_col3\" class=\"data row7 col3\" >0.8496</td>\n",
              "      <td id=\"T_6de0b_row7_col4\" class=\"data row7 col4\" >0.8537</td>\n",
              "      <td id=\"T_6de0b_row7_col5\" class=\"data row7 col5\" >0.8491</td>\n",
              "      <td id=\"T_6de0b_row7_col6\" class=\"data row7 col6\" >0.6990</td>\n",
              "      <td id=\"T_6de0b_row7_col7\" class=\"data row7 col7\" >0.7032</td>\n",
              "      <td id=\"T_6de0b_row7_col8\" class=\"data row7 col8\" >0.0640</td>\n",
              "    </tr>\n",
              "    <tr>\n",
              "      <th id=\"T_6de0b_level0_row8\" class=\"row_heading level0 row8\" >lda</th>\n",
              "      <td id=\"T_6de0b_row8_col0\" class=\"data row8 col0\" >Linear Discriminant Analysis</td>\n",
              "      <td id=\"T_6de0b_row8_col1\" class=\"data row8 col1\" >0.8433</td>\n",
              "      <td id=\"T_6de0b_row8_col2\" class=\"data row8 col2\" >0.9287</td>\n",
              "      <td id=\"T_6de0b_row8_col3\" class=\"data row8 col3\" >0.8433</td>\n",
              "      <td id=\"T_6de0b_row8_col4\" class=\"data row8 col4\" >0.8484</td>\n",
              "      <td id=\"T_6de0b_row8_col5\" class=\"data row8 col5\" >0.8427</td>\n",
              "      <td id=\"T_6de0b_row8_col6\" class=\"data row8 col6\" >0.6864</td>\n",
              "      <td id=\"T_6de0b_row8_col7\" class=\"data row8 col7\" >0.6916</td>\n",
              "      <td id=\"T_6de0b_row8_col8\" class=\"data row8 col8\" >0.0640</td>\n",
              "    </tr>\n",
              "    <tr>\n",
              "      <th id=\"T_6de0b_level0_row9\" class=\"row_heading level0 row9\" >ridge</th>\n",
              "      <td id=\"T_6de0b_row9_col0\" class=\"data row9 col0\" >Ridge Classifier</td>\n",
              "      <td id=\"T_6de0b_row9_col1\" class=\"data row9 col1\" >0.8432</td>\n",
              "      <td id=\"T_6de0b_row9_col2\" class=\"data row9 col2\" >0.9287</td>\n",
              "      <td id=\"T_6de0b_row9_col3\" class=\"data row9 col3\" >0.8432</td>\n",
              "      <td id=\"T_6de0b_row9_col4\" class=\"data row9 col4\" >0.8483</td>\n",
              "      <td id=\"T_6de0b_row9_col5\" class=\"data row9 col5\" >0.8425</td>\n",
              "      <td id=\"T_6de0b_row9_col6\" class=\"data row9 col6\" >0.6861</td>\n",
              "      <td id=\"T_6de0b_row9_col7\" class=\"data row9 col7\" >0.6913</td>\n",
              "      <td id=\"T_6de0b_row9_col8\" class=\"data row9 col8\" >0.0620</td>\n",
              "    </tr>\n",
              "    <tr>\n",
              "      <th id=\"T_6de0b_level0_row10\" class=\"row_heading level0 row10\" >dt</th>\n",
              "      <td id=\"T_6de0b_row10_col0\" class=\"data row10 col0\" >Decision Tree Classifier</td>\n",
              "      <td id=\"T_6de0b_row10_col1\" class=\"data row10 col1\" >0.8419</td>\n",
              "      <td id=\"T_6de0b_row10_col2\" class=\"data row10 col2\" >0.8426</td>\n",
              "      <td id=\"T_6de0b_row10_col3\" class=\"data row10 col3\" >0.8419</td>\n",
              "      <td id=\"T_6de0b_row10_col4\" class=\"data row10 col4\" >0.8422</td>\n",
              "      <td id=\"T_6de0b_row10_col5\" class=\"data row10 col5\" >0.8419</td>\n",
              "      <td id=\"T_6de0b_row10_col6\" class=\"data row10 col6\" >0.6838</td>\n",
              "      <td id=\"T_6de0b_row10_col7\" class=\"data row10 col7\" >0.6841</td>\n",
              "      <td id=\"T_6de0b_row10_col8\" class=\"data row10 col8\" >0.1000</td>\n",
              "    </tr>\n",
              "    <tr>\n",
              "      <th id=\"T_6de0b_level0_row11\" class=\"row_heading level0 row11\" >nb</th>\n",
              "      <td id=\"T_6de0b_row11_col0\" class=\"data row11 col0\" >Naive Bayes</td>\n",
              "      <td id=\"T_6de0b_row11_col1\" class=\"data row11 col1\" >0.8280</td>\n",
              "      <td id=\"T_6de0b_row11_col2\" class=\"data row11 col2\" >0.9142</td>\n",
              "      <td id=\"T_6de0b_row11_col3\" class=\"data row11 col3\" >0.8280</td>\n",
              "      <td id=\"T_6de0b_row11_col4\" class=\"data row11 col4\" >0.8325</td>\n",
              "      <td id=\"T_6de0b_row11_col5\" class=\"data row11 col5\" >0.8274</td>\n",
              "      <td id=\"T_6de0b_row11_col6\" class=\"data row11 col6\" >0.6559</td>\n",
              "      <td id=\"T_6de0b_row11_col7\" class=\"data row11 col7\" >0.6605</td>\n",
              "      <td id=\"T_6de0b_row11_col8\" class=\"data row11 col8\" >0.0600</td>\n",
              "    </tr>\n",
              "    <tr>\n",
              "      <th id=\"T_6de0b_level0_row12\" class=\"row_heading level0 row12\" >knn</th>\n",
              "      <td id=\"T_6de0b_row12_col0\" class=\"data row12 col0\" >K Neighbors Classifier</td>\n",
              "      <td id=\"T_6de0b_row12_col1\" class=\"data row12 col1\" >0.7462</td>\n",
              "      <td id=\"T_6de0b_row12_col2\" class=\"data row12 col2\" >0.8069</td>\n",
              "      <td id=\"T_6de0b_row12_col3\" class=\"data row12 col3\" >0.7462</td>\n",
              "      <td id=\"T_6de0b_row12_col4\" class=\"data row12 col4\" >0.7561</td>\n",
              "      <td id=\"T_6de0b_row12_col5\" class=\"data row12 col5\" >0.7436</td>\n",
              "      <td id=\"T_6de0b_row12_col6\" class=\"data row12 col6\" >0.4919</td>\n",
              "      <td id=\"T_6de0b_row12_col7\" class=\"data row12 col7\" >0.5019</td>\n",
              "      <td id=\"T_6de0b_row12_col8\" class=\"data row12 col8\" >0.1400</td>\n",
              "    </tr>\n",
              "    <tr>\n",
              "      <th id=\"T_6de0b_level0_row13\" class=\"row_heading level0 row13\" >svm</th>\n",
              "      <td id=\"T_6de0b_row13_col0\" class=\"data row13 col0\" >SVM - Linear Kernel</td>\n",
              "      <td id=\"T_6de0b_row13_col1\" class=\"data row13 col1\" >0.6443</td>\n",
              "      <td id=\"T_6de0b_row13_col2\" class=\"data row13 col2\" >0.6803</td>\n",
              "      <td id=\"T_6de0b_row13_col3\" class=\"data row13 col3\" >0.6443</td>\n",
              "      <td id=\"T_6de0b_row13_col4\" class=\"data row13 col4\" >0.7105</td>\n",
              "      <td id=\"T_6de0b_row13_col5\" class=\"data row13 col5\" >0.6109</td>\n",
              "      <td id=\"T_6de0b_row13_col6\" class=\"data row13 col6\" >0.2879</td>\n",
              "      <td id=\"T_6de0b_row13_col7\" class=\"data row13 col7\" >0.3454</td>\n",
              "      <td id=\"T_6de0b_row13_col8\" class=\"data row13 col8\" >0.2080</td>\n",
              "    </tr>\n",
              "    <tr>\n",
              "      <th id=\"T_6de0b_level0_row14\" class=\"row_heading level0 row14\" >dummy</th>\n",
              "      <td id=\"T_6de0b_row14_col0\" class=\"data row14 col0\" >Dummy Classifier</td>\n",
              "      <td id=\"T_6de0b_row14_col1\" class=\"data row14 col1\" >0.5025</td>\n",
              "      <td id=\"T_6de0b_row14_col2\" class=\"data row14 col2\" >0.5000</td>\n",
              "      <td id=\"T_6de0b_row14_col3\" class=\"data row14 col3\" >0.5025</td>\n",
              "      <td id=\"T_6de0b_row14_col4\" class=\"data row14 col4\" >0.2525</td>\n",
              "      <td id=\"T_6de0b_row14_col5\" class=\"data row14 col5\" >0.3362</td>\n",
              "      <td id=\"T_6de0b_row14_col6\" class=\"data row14 col6\" >0.0000</td>\n",
              "      <td id=\"T_6de0b_row14_col7\" class=\"data row14 col7\" >0.0000</td>\n",
              "      <td id=\"T_6de0b_row14_col8\" class=\"data row14 col8\" >0.0580</td>\n",
              "    </tr>\n",
              "  </tbody>\n",
              "</table>\n"
            ],
            "text/plain": [
              "<pandas.io.formats.style.Styler at 0x7d187983a500>"
            ]
          },
          "metadata": {},
          "output_type": "display_data"
        },
        {
          "data": {
            "application/vnd.jupyter.widget-view+json": {
              "model_id": "6053422db6e44075b0d334d2b2775dc5",
              "version_major": 2,
              "version_minor": 0
            },
            "text/plain": [
              "Processing:   0%|          | 0/65 [00:00<?, ?it/s]"
            ]
          },
          "metadata": {
            "application/vnd.jupyter.widget-view+json": {
              "colab": {
                "custom_widget_manager": {
                  "url": "https://ssl.gstatic.com/colaboratory-static/widgets/colab-cdn-widget-manager/2b70e893a8ba7c0f/manager.min.js"
                }
              }
            }
          },
          "output_type": "display_data"
        },
        {
          "data": {
            "text/html": [],
            "text/plain": [
              "<IPython.core.display.HTML object>"
            ]
          },
          "metadata": {},
          "output_type": "display_data"
        }
      ],
      "source": [
        "#Comparación de modelos\n",
        "best = compare_models()"
      ]
    },
    {
      "cell_type": "markdown",
      "metadata": {
        "id": "qGugRVcKFP5p"
      },
      "source": [
        "**ADASYN** es una técnica de sobremuestreo adaptativa que se utiliza para tratar el desbalance de clases en conjuntos de datos. A diferencia de SMOTE, ADASYN genera instancias sintéticas de la clase minoritaria con una mayor densidad en regiones donde las clases están mal representadas. Mitiga el problema de la sobreproducción de instancias sintéticas en áreas ya bien representadas de la clase minoritaria.Después de aplicar ADASYN para abordar el desbalance de clases en nuestro conjunto de datos, evaluamos el rendimiento de los modelos utilizando diversas métricas de clasificación.\n",
        "\n",
        "**Extreme Gradient Boosting (XGBoost):**\n",
        "Precisión (Accuracy): 0.8885\n",
        "Área bajo la curva ROC (AUC): 0.9598\n",
        "Recall: 0.8885\n",
        "Precisión: 0.8891\n",
        "Puntuación F1: 0.8884\n",
        "Kappa: 0.7769\n",
        "Coeficiente de Correlación de Matthews (MCC): 0.7776\n",
        "Tiempo de entrenamiento: 0.3910 segundos\n",
        "\n",
        "**Random Forest Classifier:**\n",
        "Precisión (Accuracy): 0.8859\n",
        "Área bajo la curva ROC (AUC): 0.9560\n",
        "Recall: 0.8859\n",
        "Precisión: 0.8865\n",
        "Puntuación F1: 0.8858\n",
        "Kappa: 0.7717\n",
        "Coeficiente de Correlación de Matthews (MCC): 0.7723\n",
        "Tiempo de entrenamiento: 0.7380 segundos\n",
        "\n",
        "Ambos modelos entrenados después de aplicar ADASYN lograron un rendimiento sólido en la clasificación de datos desbalanceados. El modelo Extreme Gradient Boosting (XGBoost) mostró un AUC ligeramente más alto que el Random Forest Classifier, lo que indica una mejor capacidad para distinguir entre las clases positiva y negativa. Además, ambos modelos alcanzaron valores similares en otras métricas de evaluación, como precisión, recall, precisión y puntuación F1.\n"
      ]
    },
    {
      "cell_type": "code",
      "execution_count": 29,
      "metadata": {
        "colab": {
          "base_uri": "https://localhost:8080/"
        },
        "id": "qizIsRvntCCS",
        "outputId": "03033c78-9137-4f63-9291-ed5c5a196bd9"
      },
      "outputs": [
        {
          "name": "stdout",
          "output_type": "stream",
          "text": [
            "Después de aplicar SMOTEENN:\n",
            "Churn\n",
            "Yes    3412\n",
            "No     2765\n",
            "Name: count, dtype: int64\n"
          ]
        }
      ],
      "source": [
        "from imblearn.combine import SMOTEENN\n",
        "\n",
        "# Aplicar SMOTEENN\n",
        "X_resampled, y_resampled = SMOTEENN(random_state=123).fit_resample(X_encoded, y)\n",
        "\n",
        "# Verificar el balance de clases después de aplicar SMOTEENN\n",
        "print(\"Después de aplicar SMOTEENN:\")\n",
        "print(pd.Series(y_resampled).value_counts())\n"
      ]
    },
    {
      "cell_type": "code",
      "execution_count": 30,
      "metadata": {
        "colab": {
          "base_uri": "https://localhost:8080/"
        },
        "id": "yKbNHgl3tIIo",
        "outputId": "962d5d63-5cea-443a-eda6-9bf084a1bbb6"
      },
      "outputs": [
        {
          "data": {
            "text/plain": [
              "(6177, 22)"
            ]
          },
          "execution_count": 30,
          "metadata": {},
          "output_type": "execute_result"
        }
      ],
      "source": [
        "teen_dataset = X_resampled\n",
        "teen_dataset['Churn'] = y_resampled\n",
        "teen_dataset.shape"
      ]
    },
    {
      "cell_type": "code",
      "execution_count": 31,
      "metadata": {
        "colab": {
          "base_uri": "https://localhost:8080/",
          "height": 802
        },
        "id": "E5xAFjtNtPFt",
        "outputId": "a6869ff0-742b-4570-cd3b-27e83e0ba0ef"
      },
      "outputs": [
        {
          "data": {
            "text/html": [
              "<style type=\"text/css\">\n",
              "#T_6b813_row9_col1, #T_6b813_row13_col1, #T_6b813_row15_col1 {\n",
              "  background-color: lightgreen;\n",
              "}\n",
              "</style>\n",
              "<table id=\"T_6b813\" class=\"dataframe\">\n",
              "  <thead>\n",
              "    <tr>\n",
              "      <th class=\"blank level0\" >&nbsp;</th>\n",
              "      <th id=\"T_6b813_level0_col0\" class=\"col_heading level0 col0\" >Description</th>\n",
              "      <th id=\"T_6b813_level0_col1\" class=\"col_heading level0 col1\" >Value</th>\n",
              "    </tr>\n",
              "  </thead>\n",
              "  <tbody>\n",
              "    <tr>\n",
              "      <th id=\"T_6b813_level0_row0\" class=\"row_heading level0 row0\" >0</th>\n",
              "      <td id=\"T_6b813_row0_col0\" class=\"data row0 col0\" >Session id</td>\n",
              "      <td id=\"T_6b813_row0_col1\" class=\"data row0 col1\" >123</td>\n",
              "    </tr>\n",
              "    <tr>\n",
              "      <th id=\"T_6b813_level0_row1\" class=\"row_heading level0 row1\" >1</th>\n",
              "      <td id=\"T_6b813_row1_col0\" class=\"data row1 col0\" >Target</td>\n",
              "      <td id=\"T_6b813_row1_col1\" class=\"data row1 col1\" >Churn</td>\n",
              "    </tr>\n",
              "    <tr>\n",
              "      <th id=\"T_6b813_level0_row2\" class=\"row_heading level0 row2\" >2</th>\n",
              "      <td id=\"T_6b813_row2_col0\" class=\"data row2 col0\" >Target type</td>\n",
              "      <td id=\"T_6b813_row2_col1\" class=\"data row2 col1\" >Binary</td>\n",
              "    </tr>\n",
              "    <tr>\n",
              "      <th id=\"T_6b813_level0_row3\" class=\"row_heading level0 row3\" >3</th>\n",
              "      <td id=\"T_6b813_row3_col0\" class=\"data row3 col0\" >Target mapping</td>\n",
              "      <td id=\"T_6b813_row3_col1\" class=\"data row3 col1\" >No: 0, Yes: 1</td>\n",
              "    </tr>\n",
              "    <tr>\n",
              "      <th id=\"T_6b813_level0_row4\" class=\"row_heading level0 row4\" >4</th>\n",
              "      <td id=\"T_6b813_row4_col0\" class=\"data row4 col0\" >Original data shape</td>\n",
              "      <td id=\"T_6b813_row4_col1\" class=\"data row4 col1\" >(6177, 22)</td>\n",
              "    </tr>\n",
              "    <tr>\n",
              "      <th id=\"T_6b813_level0_row5\" class=\"row_heading level0 row5\" >5</th>\n",
              "      <td id=\"T_6b813_row5_col0\" class=\"data row5 col0\" >Transformed data shape</td>\n",
              "      <td id=\"T_6b813_row5_col1\" class=\"data row5 col1\" >(6694, 22)</td>\n",
              "    </tr>\n",
              "    <tr>\n",
              "      <th id=\"T_6b813_level0_row6\" class=\"row_heading level0 row6\" >6</th>\n",
              "      <td id=\"T_6b813_row6_col0\" class=\"data row6 col0\" >Transformed train set shape</td>\n",
              "      <td id=\"T_6b813_row6_col1\" class=\"data row6 col1\" >(5458, 22)</td>\n",
              "    </tr>\n",
              "    <tr>\n",
              "      <th id=\"T_6b813_level0_row7\" class=\"row_heading level0 row7\" >7</th>\n",
              "      <td id=\"T_6b813_row7_col0\" class=\"data row7 col0\" >Transformed test set shape</td>\n",
              "      <td id=\"T_6b813_row7_col1\" class=\"data row7 col1\" >(1236, 22)</td>\n",
              "    </tr>\n",
              "    <tr>\n",
              "      <th id=\"T_6b813_level0_row8\" class=\"row_heading level0 row8\" >8</th>\n",
              "      <td id=\"T_6b813_row8_col0\" class=\"data row8 col0\" >Numeric features</td>\n",
              "      <td id=\"T_6b813_row8_col1\" class=\"data row8 col1\" >21</td>\n",
              "    </tr>\n",
              "    <tr>\n",
              "      <th id=\"T_6b813_level0_row9\" class=\"row_heading level0 row9\" >9</th>\n",
              "      <td id=\"T_6b813_row9_col0\" class=\"data row9 col0\" >Preprocess</td>\n",
              "      <td id=\"T_6b813_row9_col1\" class=\"data row9 col1\" >True</td>\n",
              "    </tr>\n",
              "    <tr>\n",
              "      <th id=\"T_6b813_level0_row10\" class=\"row_heading level0 row10\" >10</th>\n",
              "      <td id=\"T_6b813_row10_col0\" class=\"data row10 col0\" >Imputation type</td>\n",
              "      <td id=\"T_6b813_row10_col1\" class=\"data row10 col1\" >simple</td>\n",
              "    </tr>\n",
              "    <tr>\n",
              "      <th id=\"T_6b813_level0_row11\" class=\"row_heading level0 row11\" >11</th>\n",
              "      <td id=\"T_6b813_row11_col0\" class=\"data row11 col0\" >Numeric imputation</td>\n",
              "      <td id=\"T_6b813_row11_col1\" class=\"data row11 col1\" >mean</td>\n",
              "    </tr>\n",
              "    <tr>\n",
              "      <th id=\"T_6b813_level0_row12\" class=\"row_heading level0 row12\" >12</th>\n",
              "      <td id=\"T_6b813_row12_col0\" class=\"data row12 col0\" >Categorical imputation</td>\n",
              "      <td id=\"T_6b813_row12_col1\" class=\"data row12 col1\" >mode</td>\n",
              "    </tr>\n",
              "    <tr>\n",
              "      <th id=\"T_6b813_level0_row13\" class=\"row_heading level0 row13\" >13</th>\n",
              "      <td id=\"T_6b813_row13_col0\" class=\"data row13 col0\" >Fix imbalance</td>\n",
              "      <td id=\"T_6b813_row13_col1\" class=\"data row13 col1\" >True</td>\n",
              "    </tr>\n",
              "    <tr>\n",
              "      <th id=\"T_6b813_level0_row14\" class=\"row_heading level0 row14\" >14</th>\n",
              "      <td id=\"T_6b813_row14_col0\" class=\"data row14 col0\" >Fix imbalance method</td>\n",
              "      <td id=\"T_6b813_row14_col1\" class=\"data row14 col1\" >SMOTE</td>\n",
              "    </tr>\n",
              "    <tr>\n",
              "      <th id=\"T_6b813_level0_row15\" class=\"row_heading level0 row15\" >15</th>\n",
              "      <td id=\"T_6b813_row15_col0\" class=\"data row15 col0\" >Normalize</td>\n",
              "      <td id=\"T_6b813_row15_col1\" class=\"data row15 col1\" >True</td>\n",
              "    </tr>\n",
              "    <tr>\n",
              "      <th id=\"T_6b813_level0_row16\" class=\"row_heading level0 row16\" >16</th>\n",
              "      <td id=\"T_6b813_row16_col0\" class=\"data row16 col0\" >Normalize method</td>\n",
              "      <td id=\"T_6b813_row16_col1\" class=\"data row16 col1\" >zscore</td>\n",
              "    </tr>\n",
              "    <tr>\n",
              "      <th id=\"T_6b813_level0_row17\" class=\"row_heading level0 row17\" >17</th>\n",
              "      <td id=\"T_6b813_row17_col0\" class=\"data row17 col0\" >Fold Generator</td>\n",
              "      <td id=\"T_6b813_row17_col1\" class=\"data row17 col1\" >StratifiedKFold</td>\n",
              "    </tr>\n",
              "    <tr>\n",
              "      <th id=\"T_6b813_level0_row18\" class=\"row_heading level0 row18\" >18</th>\n",
              "      <td id=\"T_6b813_row18_col0\" class=\"data row18 col0\" >Fold Number</td>\n",
              "      <td id=\"T_6b813_row18_col1\" class=\"data row18 col1\" >5</td>\n",
              "    </tr>\n",
              "    <tr>\n",
              "      <th id=\"T_6b813_level0_row19\" class=\"row_heading level0 row19\" >19</th>\n",
              "      <td id=\"T_6b813_row19_col0\" class=\"data row19 col0\" >CPU Jobs</td>\n",
              "      <td id=\"T_6b813_row19_col1\" class=\"data row19 col1\" >-1</td>\n",
              "    </tr>\n",
              "    <tr>\n",
              "      <th id=\"T_6b813_level0_row20\" class=\"row_heading level0 row20\" >20</th>\n",
              "      <td id=\"T_6b813_row20_col0\" class=\"data row20 col0\" >Use GPU</td>\n",
              "      <td id=\"T_6b813_row20_col1\" class=\"data row20 col1\" >False</td>\n",
              "    </tr>\n",
              "    <tr>\n",
              "      <th id=\"T_6b813_level0_row21\" class=\"row_heading level0 row21\" >21</th>\n",
              "      <td id=\"T_6b813_row21_col0\" class=\"data row21 col0\" >Log Experiment</td>\n",
              "      <td id=\"T_6b813_row21_col1\" class=\"data row21 col1\" >MlflowLogger</td>\n",
              "    </tr>\n",
              "    <tr>\n",
              "      <th id=\"T_6b813_level0_row22\" class=\"row_heading level0 row22\" >22</th>\n",
              "      <td id=\"T_6b813_row22_col0\" class=\"data row22 col0\" >Experiment Name</td>\n",
              "      <td id=\"T_6b813_row22_col1\" class=\"data row22 col1\" >Churn</td>\n",
              "    </tr>\n",
              "    <tr>\n",
              "      <th id=\"T_6b813_level0_row23\" class=\"row_heading level0 row23\" >23</th>\n",
              "      <td id=\"T_6b813_row23_col0\" class=\"data row23 col0\" >USI</td>\n",
              "      <td id=\"T_6b813_row23_col1\" class=\"data row23 col1\" >a5c5</td>\n",
              "    </tr>\n",
              "  </tbody>\n",
              "</table>\n"
            ],
            "text/plain": [
              "<pandas.io.formats.style.Styler at 0x7969165e70d0>"
            ]
          },
          "metadata": {},
          "output_type": "display_data"
        }
      ],
      "source": [
        "from pycaret.classification import *\n",
        "clf = setup(data=teen_dataset, target='Churn', session_id=123, log_experiment=True,\n",
        "            experiment_name='Churn', fix_imbalance=True, normalize=True,\n",
        "            normalize_method='zscore', train_size=0.8, fold=5)"
      ]
    },
    {
      "cell_type": "code",
      "execution_count": 32,
      "metadata": {
        "colab": {
          "base_uri": "https://localhost:8080/",
          "height": 520,
          "referenced_widgets": [
            "6f5933dcbf8f4ef4910414e7d01b8257",
            "b6777d05cb86405bbbac958043624654",
            "752d45934cc8408b8f7c8bc80ebc8662",
            "16a9527af7814f11b51fcefa8a43f6ce",
            "8fa6f1f7d5ff4f9aa7b03b1ec841e5c7",
            "636445022b2e4122bbf8dd370dac2f36",
            "7a5fa574192a4c6cb60a7c977a256df1",
            "374c5c5062de46d3a3f851dc4b5410a7",
            "617a78a80d674186b6d3414e446f1ab4",
            "b790af3d5b3148eaad57cd32504a7e20",
            "3375d974d5844b6fb208f8897345ae46"
          ]
        },
        "id": "epk8EI9Qtk_J",
        "outputId": "9b805d20-2993-4642-f028-e096510c416d"
      },
      "outputs": [
        {
          "data": {
            "text/html": [],
            "text/plain": [
              "<IPython.core.display.HTML object>"
            ]
          },
          "metadata": {},
          "output_type": "display_data"
        },
        {
          "data": {
            "text/html": [
              "<style type=\"text/css\">\n",
              "#T_0e767 th {\n",
              "  text-align: left;\n",
              "}\n",
              "#T_0e767_row0_col0, #T_0e767_row0_col2, #T_0e767_row1_col0, #T_0e767_row1_col1, #T_0e767_row1_col3, #T_0e767_row1_col4, #T_0e767_row1_col5, #T_0e767_row1_col6, #T_0e767_row1_col7, #T_0e767_row2_col0, #T_0e767_row2_col1, #T_0e767_row2_col2, #T_0e767_row2_col3, #T_0e767_row2_col4, #T_0e767_row2_col5, #T_0e767_row2_col6, #T_0e767_row2_col7, #T_0e767_row3_col0, #T_0e767_row3_col1, #T_0e767_row3_col2, #T_0e767_row3_col3, #T_0e767_row3_col4, #T_0e767_row3_col5, #T_0e767_row3_col6, #T_0e767_row3_col7, #T_0e767_row4_col0, #T_0e767_row4_col1, #T_0e767_row4_col2, #T_0e767_row4_col3, #T_0e767_row4_col4, #T_0e767_row4_col5, #T_0e767_row4_col6, #T_0e767_row4_col7, #T_0e767_row5_col0, #T_0e767_row5_col1, #T_0e767_row5_col2, #T_0e767_row5_col3, #T_0e767_row5_col4, #T_0e767_row5_col5, #T_0e767_row5_col6, #T_0e767_row5_col7, #T_0e767_row6_col0, #T_0e767_row6_col1, #T_0e767_row6_col2, #T_0e767_row6_col3, #T_0e767_row6_col4, #T_0e767_row6_col5, #T_0e767_row6_col6, #T_0e767_row6_col7, #T_0e767_row7_col0, #T_0e767_row7_col1, #T_0e767_row7_col2, #T_0e767_row7_col3, #T_0e767_row7_col4, #T_0e767_row7_col5, #T_0e767_row7_col6, #T_0e767_row7_col7, #T_0e767_row8_col0, #T_0e767_row8_col1, #T_0e767_row8_col2, #T_0e767_row8_col3, #T_0e767_row8_col4, #T_0e767_row8_col5, #T_0e767_row8_col6, #T_0e767_row8_col7, #T_0e767_row9_col0, #T_0e767_row9_col1, #T_0e767_row9_col2, #T_0e767_row9_col3, #T_0e767_row9_col4, #T_0e767_row9_col5, #T_0e767_row9_col6, #T_0e767_row9_col7, #T_0e767_row10_col0, #T_0e767_row10_col1, #T_0e767_row10_col2, #T_0e767_row10_col3, #T_0e767_row10_col4, #T_0e767_row10_col5, #T_0e767_row10_col6, #T_0e767_row10_col7, #T_0e767_row11_col0, #T_0e767_row11_col1, #T_0e767_row11_col2, #T_0e767_row11_col3, #T_0e767_row11_col4, #T_0e767_row11_col5, #T_0e767_row11_col6, #T_0e767_row11_col7, #T_0e767_row12_col0, #T_0e767_row12_col1, #T_0e767_row12_col2, #T_0e767_row12_col3, #T_0e767_row12_col4, #T_0e767_row12_col5, #T_0e767_row12_col6, #T_0e767_row12_col7, #T_0e767_row13_col0, #T_0e767_row13_col1, #T_0e767_row13_col2, #T_0e767_row13_col3, #T_0e767_row13_col4, #T_0e767_row13_col5, #T_0e767_row13_col6, #T_0e767_row13_col7, #T_0e767_row14_col0, #T_0e767_row14_col1, #T_0e767_row14_col2, #T_0e767_row14_col3, #T_0e767_row14_col4, #T_0e767_row14_col5, #T_0e767_row14_col6, #T_0e767_row14_col7 {\n",
              "  text-align: left;\n",
              "}\n",
              "#T_0e767_row0_col1, #T_0e767_row0_col3, #T_0e767_row0_col4, #T_0e767_row0_col5, #T_0e767_row0_col6, #T_0e767_row0_col7, #T_0e767_row1_col2 {\n",
              "  text-align: left;\n",
              "  background-color: yellow;\n",
              "}\n",
              "#T_0e767_row0_col8, #T_0e767_row1_col8, #T_0e767_row2_col8, #T_0e767_row3_col8, #T_0e767_row4_col8, #T_0e767_row5_col8, #T_0e767_row6_col8, #T_0e767_row7_col8, #T_0e767_row8_col8, #T_0e767_row9_col8, #T_0e767_row10_col8, #T_0e767_row11_col8, #T_0e767_row12_col8, #T_0e767_row13_col8 {\n",
              "  text-align: left;\n",
              "  background-color: lightgrey;\n",
              "}\n",
              "#T_0e767_row14_col8 {\n",
              "  text-align: left;\n",
              "  background-color: yellow;\n",
              "  background-color: lightgrey;\n",
              "}\n",
              "</style>\n",
              "<table id=\"T_0e767\" class=\"dataframe\">\n",
              "  <thead>\n",
              "    <tr>\n",
              "      <th class=\"blank level0\" >&nbsp;</th>\n",
              "      <th id=\"T_0e767_level0_col0\" class=\"col_heading level0 col0\" >Model</th>\n",
              "      <th id=\"T_0e767_level0_col1\" class=\"col_heading level0 col1\" >Accuracy</th>\n",
              "      <th id=\"T_0e767_level0_col2\" class=\"col_heading level0 col2\" >AUC</th>\n",
              "      <th id=\"T_0e767_level0_col3\" class=\"col_heading level0 col3\" >Recall</th>\n",
              "      <th id=\"T_0e767_level0_col4\" class=\"col_heading level0 col4\" >Prec.</th>\n",
              "      <th id=\"T_0e767_level0_col5\" class=\"col_heading level0 col5\" >F1</th>\n",
              "      <th id=\"T_0e767_level0_col6\" class=\"col_heading level0 col6\" >Kappa</th>\n",
              "      <th id=\"T_0e767_level0_col7\" class=\"col_heading level0 col7\" >MCC</th>\n",
              "      <th id=\"T_0e767_level0_col8\" class=\"col_heading level0 col8\" >TT (Sec)</th>\n",
              "    </tr>\n",
              "  </thead>\n",
              "  <tbody>\n",
              "    <tr>\n",
              "      <th id=\"T_0e767_level0_row0\" class=\"row_heading level0 row0\" >lightgbm</th>\n",
              "      <td id=\"T_0e767_row0_col0\" class=\"data row0 col0\" >Light Gradient Boosting Machine</td>\n",
              "      <td id=\"T_0e767_row0_col1\" class=\"data row0 col1\" >0.9690</td>\n",
              "      <td id=\"T_0e767_row0_col2\" class=\"data row0 col2\" >0.9943</td>\n",
              "      <td id=\"T_0e767_row0_col3\" class=\"data row0 col3\" >0.9690</td>\n",
              "      <td id=\"T_0e767_row0_col4\" class=\"data row0 col4\" >0.9691</td>\n",
              "      <td id=\"T_0e767_row0_col5\" class=\"data row0 col5\" >0.9690</td>\n",
              "      <td id=\"T_0e767_row0_col6\" class=\"data row0 col6\" >0.9373</td>\n",
              "      <td id=\"T_0e767_row0_col7\" class=\"data row0 col7\" >0.9374</td>\n",
              "      <td id=\"T_0e767_row0_col8\" class=\"data row0 col8\" >1.0220</td>\n",
              "    </tr>\n",
              "    <tr>\n",
              "      <th id=\"T_0e767_level0_row1\" class=\"row_heading level0 row1\" >xgboost</th>\n",
              "      <td id=\"T_0e767_row1_col0\" class=\"data row1 col0\" >Extreme Gradient Boosting</td>\n",
              "      <td id=\"T_0e767_row1_col1\" class=\"data row1 col1\" >0.9688</td>\n",
              "      <td id=\"T_0e767_row1_col2\" class=\"data row1 col2\" >0.9945</td>\n",
              "      <td id=\"T_0e767_row1_col3\" class=\"data row1 col3\" >0.9688</td>\n",
              "      <td id=\"T_0e767_row1_col4\" class=\"data row1 col4\" >0.9689</td>\n",
              "      <td id=\"T_0e767_row1_col5\" class=\"data row1 col5\" >0.9688</td>\n",
              "      <td id=\"T_0e767_row1_col6\" class=\"data row1 col6\" >0.9369</td>\n",
              "      <td id=\"T_0e767_row1_col7\" class=\"data row1 col7\" >0.9370</td>\n",
              "      <td id=\"T_0e767_row1_col8\" class=\"data row1 col8\" >0.3400</td>\n",
              "    </tr>\n",
              "    <tr>\n",
              "      <th id=\"T_0e767_level0_row2\" class=\"row_heading level0 row2\" >rf</th>\n",
              "      <td id=\"T_0e767_row2_col0\" class=\"data row2 col0\" >Random Forest Classifier</td>\n",
              "      <td id=\"T_0e767_row2_col1\" class=\"data row2 col1\" >0.9670</td>\n",
              "      <td id=\"T_0e767_row2_col2\" class=\"data row2 col2\" >0.9934</td>\n",
              "      <td id=\"T_0e767_row2_col3\" class=\"data row2 col3\" >0.9670</td>\n",
              "      <td id=\"T_0e767_row2_col4\" class=\"data row2 col4\" >0.9671</td>\n",
              "      <td id=\"T_0e767_row2_col5\" class=\"data row2 col5\" >0.9670</td>\n",
              "      <td id=\"T_0e767_row2_col6\" class=\"data row2 col6\" >0.9332</td>\n",
              "      <td id=\"T_0e767_row2_col7\" class=\"data row2 col7\" >0.9333</td>\n",
              "      <td id=\"T_0e767_row2_col8\" class=\"data row2 col8\" >0.6020</td>\n",
              "    </tr>\n",
              "    <tr>\n",
              "      <th id=\"T_0e767_level0_row3\" class=\"row_heading level0 row3\" >gbc</th>\n",
              "      <td id=\"T_0e767_row3_col0\" class=\"data row3 col0\" >Gradient Boosting Classifier</td>\n",
              "      <td id=\"T_0e767_row3_col1\" class=\"data row3 col1\" >0.9613</td>\n",
              "      <td id=\"T_0e767_row3_col2\" class=\"data row3 col2\" >0.9926</td>\n",
              "      <td id=\"T_0e767_row3_col3\" class=\"data row3 col3\" >0.9613</td>\n",
              "      <td id=\"T_0e767_row3_col4\" class=\"data row3 col4\" >0.9614</td>\n",
              "      <td id=\"T_0e767_row3_col5\" class=\"data row3 col5\" >0.9613</td>\n",
              "      <td id=\"T_0e767_row3_col6\" class=\"data row3 col6\" >0.9217</td>\n",
              "      <td id=\"T_0e767_row3_col7\" class=\"data row3 col7\" >0.9218</td>\n",
              "      <td id=\"T_0e767_row3_col8\" class=\"data row3 col8\" >1.2020</td>\n",
              "    </tr>\n",
              "    <tr>\n",
              "      <th id=\"T_0e767_level0_row4\" class=\"row_heading level0 row4\" >et</th>\n",
              "      <td id=\"T_0e767_row4_col0\" class=\"data row4 col0\" >Extra Trees Classifier</td>\n",
              "      <td id=\"T_0e767_row4_col1\" class=\"data row4 col1\" >0.9609</td>\n",
              "      <td id=\"T_0e767_row4_col2\" class=\"data row4 col2\" >0.9921</td>\n",
              "      <td id=\"T_0e767_row4_col3\" class=\"data row4 col3\" >0.9609</td>\n",
              "      <td id=\"T_0e767_row4_col4\" class=\"data row4 col4\" >0.9610</td>\n",
              "      <td id=\"T_0e767_row4_col5\" class=\"data row4 col5\" >0.9609</td>\n",
              "      <td id=\"T_0e767_row4_col6\" class=\"data row4 col6\" >0.9209</td>\n",
              "      <td id=\"T_0e767_row4_col7\" class=\"data row4 col7\" >0.9210</td>\n",
              "      <td id=\"T_0e767_row4_col8\" class=\"data row4 col8\" >0.5080</td>\n",
              "    </tr>\n",
              "    <tr>\n",
              "      <th id=\"T_0e767_level0_row5\" class=\"row_heading level0 row5\" >ada</th>\n",
              "      <td id=\"T_0e767_row5_col0\" class=\"data row5 col0\" >Ada Boost Classifier</td>\n",
              "      <td id=\"T_0e767_row5_col1\" class=\"data row5 col1\" >0.9577</td>\n",
              "      <td id=\"T_0e767_row5_col2\" class=\"data row5 col2\" >0.9913</td>\n",
              "      <td id=\"T_0e767_row5_col3\" class=\"data row5 col3\" >0.9577</td>\n",
              "      <td id=\"T_0e767_row5_col4\" class=\"data row5 col4\" >0.9578</td>\n",
              "      <td id=\"T_0e767_row5_col5\" class=\"data row5 col5\" >0.9577</td>\n",
              "      <td id=\"T_0e767_row5_col6\" class=\"data row5 col6\" >0.9143</td>\n",
              "      <td id=\"T_0e767_row5_col7\" class=\"data row5 col7\" >0.9145</td>\n",
              "      <td id=\"T_0e767_row5_col8\" class=\"data row5 col8\" >0.3900</td>\n",
              "    </tr>\n",
              "    <tr>\n",
              "      <th id=\"T_0e767_level0_row6\" class=\"row_heading level0 row6\" >dt</th>\n",
              "      <td id=\"T_0e767_row6_col0\" class=\"data row6 col0\" >Decision Tree Classifier</td>\n",
              "      <td id=\"T_0e767_row6_col1\" class=\"data row6 col1\" >0.9504</td>\n",
              "      <td id=\"T_0e767_row6_col2\" class=\"data row6 col2\" >0.9498</td>\n",
              "      <td id=\"T_0e767_row6_col3\" class=\"data row6 col3\" >0.9504</td>\n",
              "      <td id=\"T_0e767_row6_col4\" class=\"data row6 col4\" >0.9504</td>\n",
              "      <td id=\"T_0e767_row6_col5\" class=\"data row6 col5\" >0.9504</td>\n",
              "      <td id=\"T_0e767_row6_col6\" class=\"data row6 col6\" >0.8997</td>\n",
              "      <td id=\"T_0e767_row6_col7\" class=\"data row6 col7\" >0.8997</td>\n",
              "      <td id=\"T_0e767_row6_col8\" class=\"data row6 col8\" >0.1780</td>\n",
              "    </tr>\n",
              "    <tr>\n",
              "      <th id=\"T_0e767_level0_row7\" class=\"row_heading level0 row7\" >lr</th>\n",
              "      <td id=\"T_0e767_row7_col0\" class=\"data row7 col0\" >Logistic Regression</td>\n",
              "      <td id=\"T_0e767_row7_col1\" class=\"data row7 col1\" >0.9478</td>\n",
              "      <td id=\"T_0e767_row7_col2\" class=\"data row7 col2\" >0.9888</td>\n",
              "      <td id=\"T_0e767_row7_col3\" class=\"data row7 col3\" >0.9478</td>\n",
              "      <td id=\"T_0e767_row7_col4\" class=\"data row7 col4\" >0.9478</td>\n",
              "      <td id=\"T_0e767_row7_col5\" class=\"data row7 col5\" >0.9478</td>\n",
              "      <td id=\"T_0e767_row7_col6\" class=\"data row7 col6\" >0.8944</td>\n",
              "      <td id=\"T_0e767_row7_col7\" class=\"data row7 col7\" >0.8945</td>\n",
              "      <td id=\"T_0e767_row7_col8\" class=\"data row7 col8\" >1.2460</td>\n",
              "    </tr>\n",
              "    <tr>\n",
              "      <th id=\"T_0e767_level0_row8\" class=\"row_heading level0 row8\" >qda</th>\n",
              "      <td id=\"T_0e767_row8_col0\" class=\"data row8 col0\" >Quadratic Discriminant Analysis</td>\n",
              "      <td id=\"T_0e767_row8_col1\" class=\"data row8 col1\" >0.9423</td>\n",
              "      <td id=\"T_0e767_row8_col2\" class=\"data row8 col2\" >0.9851</td>\n",
              "      <td id=\"T_0e767_row8_col3\" class=\"data row8 col3\" >0.9423</td>\n",
              "      <td id=\"T_0e767_row8_col4\" class=\"data row8 col4\" >0.9426</td>\n",
              "      <td id=\"T_0e767_row8_col5\" class=\"data row8 col5\" >0.9424</td>\n",
              "      <td id=\"T_0e767_row8_col6\" class=\"data row8 col6\" >0.8836</td>\n",
              "      <td id=\"T_0e767_row8_col7\" class=\"data row8 col7\" >0.8837</td>\n",
              "      <td id=\"T_0e767_row8_col8\" class=\"data row8 col8\" >0.1220</td>\n",
              "    </tr>\n",
              "    <tr>\n",
              "      <th id=\"T_0e767_level0_row9\" class=\"row_heading level0 row9\" >svm</th>\n",
              "      <td id=\"T_0e767_row9_col0\" class=\"data row9 col0\" >SVM - Linear Kernel</td>\n",
              "      <td id=\"T_0e767_row9_col1\" class=\"data row9 col1\" >0.9387</td>\n",
              "      <td id=\"T_0e767_row9_col2\" class=\"data row9 col2\" >0.9850</td>\n",
              "      <td id=\"T_0e767_row9_col3\" class=\"data row9 col3\" >0.9387</td>\n",
              "      <td id=\"T_0e767_row9_col4\" class=\"data row9 col4\" >0.9390</td>\n",
              "      <td id=\"T_0e767_row9_col5\" class=\"data row9 col5\" >0.9387</td>\n",
              "      <td id=\"T_0e767_row9_col6\" class=\"data row9 col6\" >0.8762</td>\n",
              "      <td id=\"T_0e767_row9_col7\" class=\"data row9 col7\" >0.8764</td>\n",
              "      <td id=\"T_0e767_row9_col8\" class=\"data row9 col8\" >0.1320</td>\n",
              "    </tr>\n",
              "    <tr>\n",
              "      <th id=\"T_0e767_level0_row10\" class=\"row_heading level0 row10\" >ridge</th>\n",
              "      <td id=\"T_0e767_row10_col0\" class=\"data row10 col0\" >Ridge Classifier</td>\n",
              "      <td id=\"T_0e767_row10_col1\" class=\"data row10 col1\" >0.9373</td>\n",
              "      <td id=\"T_0e767_row10_col2\" class=\"data row10 col2\" >0.9848</td>\n",
              "      <td id=\"T_0e767_row10_col3\" class=\"data row10 col3\" >0.9373</td>\n",
              "      <td id=\"T_0e767_row10_col4\" class=\"data row10 col4\" >0.9380</td>\n",
              "      <td id=\"T_0e767_row10_col5\" class=\"data row10 col5\" >0.9371</td>\n",
              "      <td id=\"T_0e767_row10_col6\" class=\"data row10 col6\" >0.8725</td>\n",
              "      <td id=\"T_0e767_row10_col7\" class=\"data row10 col7\" >0.8735</td>\n",
              "      <td id=\"T_0e767_row10_col8\" class=\"data row10 col8\" >0.1200</td>\n",
              "    </tr>\n",
              "    <tr>\n",
              "      <th id=\"T_0e767_level0_row11\" class=\"row_heading level0 row11\" >lda</th>\n",
              "      <td id=\"T_0e767_row11_col0\" class=\"data row11 col0\" >Linear Discriminant Analysis</td>\n",
              "      <td id=\"T_0e767_row11_col1\" class=\"data row11 col1\" >0.9373</td>\n",
              "      <td id=\"T_0e767_row11_col2\" class=\"data row11 col2\" >0.9848</td>\n",
              "      <td id=\"T_0e767_row11_col3\" class=\"data row11 col3\" >0.9373</td>\n",
              "      <td id=\"T_0e767_row11_col4\" class=\"data row11 col4\" >0.9380</td>\n",
              "      <td id=\"T_0e767_row11_col5\" class=\"data row11 col5\" >0.9371</td>\n",
              "      <td id=\"T_0e767_row11_col6\" class=\"data row11 col6\" >0.8725</td>\n",
              "      <td id=\"T_0e767_row11_col7\" class=\"data row11 col7\" >0.8735</td>\n",
              "      <td id=\"T_0e767_row11_col8\" class=\"data row11 col8\" >0.1260</td>\n",
              "    </tr>\n",
              "    <tr>\n",
              "      <th id=\"T_0e767_level0_row12\" class=\"row_heading level0 row12\" >knn</th>\n",
              "      <td id=\"T_0e767_row12_col0\" class=\"data row12 col0\" >K Neighbors Classifier</td>\n",
              "      <td id=\"T_0e767_row12_col1\" class=\"data row12 col1\" >0.9300</td>\n",
              "      <td id=\"T_0e767_row12_col2\" class=\"data row12 col2\" >0.9651</td>\n",
              "      <td id=\"T_0e767_row12_col3\" class=\"data row12 col3\" >0.9300</td>\n",
              "      <td id=\"T_0e767_row12_col4\" class=\"data row12 col4\" >0.9320</td>\n",
              "      <td id=\"T_0e767_row12_col5\" class=\"data row12 col5\" >0.9296</td>\n",
              "      <td id=\"T_0e767_row12_col6\" class=\"data row12 col6\" >0.8572</td>\n",
              "      <td id=\"T_0e767_row12_col7\" class=\"data row12 col7\" >0.8599</td>\n",
              "      <td id=\"T_0e767_row12_col8\" class=\"data row12 col8\" >0.2680</td>\n",
              "    </tr>\n",
              "    <tr>\n",
              "      <th id=\"T_0e767_level0_row13\" class=\"row_heading level0 row13\" >nb</th>\n",
              "      <td id=\"T_0e767_row13_col0\" class=\"data row13 col0\" >Naive Bayes</td>\n",
              "      <td id=\"T_0e767_row13_col1\" class=\"data row13 col1\" >0.9233</td>\n",
              "      <td id=\"T_0e767_row13_col2\" class=\"data row13 col2\" >0.9732</td>\n",
              "      <td id=\"T_0e767_row13_col3\" class=\"data row13 col3\" >0.9233</td>\n",
              "      <td id=\"T_0e767_row13_col4\" class=\"data row13 col4\" >0.9233</td>\n",
              "      <td id=\"T_0e767_row13_col5\" class=\"data row13 col5\" >0.9233</td>\n",
              "      <td id=\"T_0e767_row13_col6\" class=\"data row13 col6\" >0.8450</td>\n",
              "      <td id=\"T_0e767_row13_col7\" class=\"data row13 col7\" >0.8450</td>\n",
              "      <td id=\"T_0e767_row13_col8\" class=\"data row13 col8\" >0.2120</td>\n",
              "    </tr>\n",
              "    <tr>\n",
              "      <th id=\"T_0e767_level0_row14\" class=\"row_heading level0 row14\" >dummy</th>\n",
              "      <td id=\"T_0e767_row14_col0\" class=\"data row14 col0\" >Dummy Classifier</td>\n",
              "      <td id=\"T_0e767_row14_col1\" class=\"data row14 col1\" >0.4477</td>\n",
              "      <td id=\"T_0e767_row14_col2\" class=\"data row14 col2\" >0.5000</td>\n",
              "      <td id=\"T_0e767_row14_col3\" class=\"data row14 col3\" >0.4477</td>\n",
              "      <td id=\"T_0e767_row14_col4\" class=\"data row14 col4\" >0.2004</td>\n",
              "      <td id=\"T_0e767_row14_col5\" class=\"data row14 col5\" >0.2769</td>\n",
              "      <td id=\"T_0e767_row14_col6\" class=\"data row14 col6\" >0.0000</td>\n",
              "      <td id=\"T_0e767_row14_col7\" class=\"data row14 col7\" >0.0000</td>\n",
              "      <td id=\"T_0e767_row14_col8\" class=\"data row14 col8\" >0.1100</td>\n",
              "    </tr>\n",
              "  </tbody>\n",
              "</table>\n"
            ],
            "text/plain": [
              "<pandas.io.formats.style.Styler at 0x7969225b9210>"
            ]
          },
          "metadata": {},
          "output_type": "display_data"
        },
        {
          "data": {
            "application/vnd.jupyter.widget-view+json": {
              "model_id": "6f5933dcbf8f4ef4910414e7d01b8257",
              "version_major": 2,
              "version_minor": 0
            },
            "text/plain": [
              "Processing:   0%|          | 0/65 [00:00<?, ?it/s]"
            ]
          },
          "metadata": {
            "application/vnd.jupyter.widget-view+json": {
              "colab": {
                "custom_widget_manager": {
                  "url": "https://ssl.gstatic.com/colaboratory-static/widgets/colab-cdn-widget-manager/2b70e893a8ba7c0f/manager.min.js"
                }
              }
            }
          },
          "output_type": "display_data"
        },
        {
          "data": {
            "text/html": [],
            "text/plain": [
              "<IPython.core.display.HTML object>"
            ]
          },
          "metadata": {},
          "output_type": "display_data"
        }
      ],
      "source": [
        "#Comparación de modelos\n",
        "best = compare_models()"
      ]
    },
    {
      "cell_type": "markdown",
      "metadata": {
        "id": "Sm55Tg7JGeA0"
      },
      "source": [
        "**SMOTEENN** es una técnica que combina el sobremuestreo sintético (SMOTE) con el submuestreo de instancias de la clase mayoritaria utilizando el Algoritmo de Vecinos Cercanos Editados (ENN). Su objetivo es abordar el desbalance de clases creando instancias sintéticas de la clase minoritaria mediante SMOTE, y luego eliminando instancias de la clase mayoritaria que se clasifican incorrectamente por el algoritmo de vecinos cercanos. Este enfoque busca mejorar la generalización del modelo al tiempo que reduce el riesgo de sobreajuste.\n",
        "\n",
        "**Resultados para el modelo de Light Gradient Boosting Machine (LightGBM) después de aplicar SMOTEENN:**\n",
        "\n",
        "**Precisión (Accuracy):** El modelo alcanzó una precisión del 96.95%, lo que indica que el 96.90 % de las predicciones realizadas por el modelo fueron correctas.\n",
        "\n",
        "**Área bajo la curva ROC (AUC):** El valor de AUC fue de 0.9943, lo que sugiere que el modelo tiene una excelente capacidad para distinguir entre las clases positiva y negativa.\n",
        "\n",
        "**Recall:** El modelo alcanzó un recall del 96.90%, lo que significa que el 96.90% de los casos positivos fueron correctamente identificados por el modelo.\n",
        "\n",
        "**Precisión (Precision):** La precisión del modelo fue del 96.91%, lo que indica que el 96.91% de las predicciones positivas fueron correctas.\n",
        "\n",
        "**Puntuación F1 (F1-score):** El modelo obtuvo una puntuación F1 del 96.90%, que es una medida del equilibrio entre precisión y recall.\n",
        "\n",
        "**Kappa y MCC:** El coeficiente Kappa y la correlación de Matthews (MCC) fueron del 93.72% y 93.74%, respectivamente, lo que sugiere un excelente nivel de acuerdo entre las predicciones del modelo y las observaciones reales.\n",
        "\n",
        "**Tiempo de entrenamiento (TT):** El tiempo de entrenamiento fue de 1.022 segundos, lo que indica que el modelo pudo entrenarse eficientemente en un tiempo razonable.\n",
        "\n",
        "Podemos concluir que el modelo de **Light Gradient Boosting Machine (LightGBM)** entrenado después de aplicar SMOTEENN demostró un rendimiento excepcional en la clasificación de nuestro conjunto de datos desbalanceado, con valores sobresalientes en todas las métricas evaluadas.\n",
        "\n",
        "El modelo es altamente efectivo para abordar el problema de clasificación en cuestión, con una capacidad de generalización muy robusta y un bajo riesgo de sobreajuste."
      ]
    },
    {
      "cell_type": "code",
      "execution_count": 33,
      "metadata": {
        "colab": {
          "base_uri": "https://localhost:8080/",
          "height": 551
        },
        "id": "QaWJAaTBHV2L",
        "outputId": "d862c0cf-b035-4836-f985-0e2eb1282a3c"
      },
      "outputs": [
        {
          "data": {
            "text/html": [],
            "text/plain": [
              "<IPython.core.display.HTML object>"
            ]
          },
          "metadata": {},
          "output_type": "display_data"
        },
        {
          "data": {
            "image/png": "[encoded data removed]",
            "text/plain": [
              "<Figure size 800x550 with 1 Axes>"
            ]
          },
          "metadata": {},
          "output_type": "display_data"
        }
      ],
      "source": [
        "# Análisis del Modelo\n",
        "# plot confusion matrix\n",
        "plot_model(best, plot = 'confusion_matrix')"
      ]
    },
    {
      "cell_type": "code",
      "execution_count": 34,
      "metadata": {
        "colab": {
          "base_uri": "https://localhost:8080/",
          "height": 524
        },
        "id": "Ko1Co0GPHga5",
        "outputId": "3c8eed46-d7d1-4cc0-c0d5-921f20ccdbad"
      },
      "outputs": [
        {
          "data": {
            "text/html": [],
            "text/plain": [
              "<IPython.core.display.HTML object>"
            ]
          },
          "metadata": {},
          "output_type": "display_data"
        },
        {
          "data": {
            "image/png": "[encoded data removed]",
            "text/plain": [
              "<Figure size 800x550 with 1 Axes>"
            ]
          },
          "metadata": {},
          "output_type": "display_data"
        }
      ],
      "source": [
        "# plot AUC\n",
        "plot_model(best, plot = 'auc')"
      ]
    },
    {
      "cell_type": "markdown",
      "metadata": {
        "id": "qBu0j7LXHlrJ"
      },
      "source": [
        "Predicciones"
      ]
    },
    {
      "cell_type": "code",
      "execution_count": 35,
      "metadata": {
        "colab": {
          "base_uri": "https://localhost:8080/",
          "height": 81
        },
        "id": "CtEvJYzhHitc",
        "outputId": "f005c137-bd42-46cd-8814-7b21e1a4766d"
      },
      "outputs": [
        {
          "data": {
            "text/html": [
              "<style type=\"text/css\">\n",
              "</style>\n",
              "<table id=\"T_fd80e\" class=\"dataframe\">\n",
              "  <thead>\n",
              "    <tr>\n",
              "      <th class=\"blank level0\" >&nbsp;</th>\n",
              "      <th id=\"T_fd80e_level0_col0\" class=\"col_heading level0 col0\" >Model</th>\n",
              "      <th id=\"T_fd80e_level0_col1\" class=\"col_heading level0 col1\" >Accuracy</th>\n",
              "      <th id=\"T_fd80e_level0_col2\" class=\"col_heading level0 col2\" >AUC</th>\n",
              "      <th id=\"T_fd80e_level0_col3\" class=\"col_heading level0 col3\" >Recall</th>\n",
              "      <th id=\"T_fd80e_level0_col4\" class=\"col_heading level0 col4\" >Prec.</th>\n",
              "      <th id=\"T_fd80e_level0_col5\" class=\"col_heading level0 col5\" >F1</th>\n",
              "      <th id=\"T_fd80e_level0_col6\" class=\"col_heading level0 col6\" >Kappa</th>\n",
              "      <th id=\"T_fd80e_level0_col7\" class=\"col_heading level0 col7\" >MCC</th>\n",
              "    </tr>\n",
              "  </thead>\n",
              "  <tbody>\n",
              "    <tr>\n",
              "      <th id=\"T_fd80e_level0_row0\" class=\"row_heading level0 row0\" >0</th>\n",
              "      <td id=\"T_fd80e_row0_col0\" class=\"data row0 col0\" >Light Gradient Boosting Machine</td>\n",
              "      <td id=\"T_fd80e_row0_col1\" class=\"data row0 col1\" >0.9717</td>\n",
              "      <td id=\"T_fd80e_row0_col2\" class=\"data row0 col2\" >0.9938</td>\n",
              "      <td id=\"T_fd80e_row0_col3\" class=\"data row0 col3\" >0.9717</td>\n",
              "      <td id=\"T_fd80e_row0_col4\" class=\"data row0 col4\" >0.9720</td>\n",
              "      <td id=\"T_fd80e_row0_col5\" class=\"data row0 col5\" >0.9716</td>\n",
              "      <td id=\"T_fd80e_row0_col6\" class=\"data row0 col6\" >0.9426</td>\n",
              "      <td id=\"T_fd80e_row0_col7\" class=\"data row0 col7\" >0.9429</td>\n",
              "    </tr>\n",
              "  </tbody>\n",
              "</table>\n"
            ],
            "text/plain": [
              "<pandas.io.formats.style.Styler at 0x7969225b8ac0>"
            ]
          },
          "metadata": {},
          "output_type": "display_data"
        }
      ],
      "source": [
        "# predict on test set\n",
        "holdout_pred = predict_model(best)"
      ]
    },
    {
      "cell_type": "code",
      "execution_count": 36,
      "metadata": {
        "colab": {
          "base_uri": "https://localhost:8080/",
          "height": 256
        },
        "id": "dIu47nKZHreu",
        "outputId": "0f4c4386-d7fc-49aa-8cfa-ec4f18d30ba1"
      },
      "outputs": [
        {
          "data": {
            "application/vnd.google.colaboratory.intrinsic+json": {
              "type": "dataframe",
              "variable_name": "holdout_pred"
            },
            "text/html": [
              "\n",
              "  <div id=\"df-b7b941d3-0d6e-4306-bbe8-bb39e2994675\" class=\"colab-df-container\">\n",
              "    <div>\n",
              "<style scoped>\n",
              "    .dataframe tbody tr th:only-of-type {\n",
              "        vertical-align: middle;\n",
              "    }\n",
              "\n",
              "    .dataframe tbody tr th {\n",
              "        vertical-align: top;\n",
              "    }\n",
              "\n",
              "    .dataframe thead th {\n",
              "        text-align: right;\n",
              "    }\n",
              "</style>\n",
              "<table border=\"1\" class=\"dataframe\">\n",
              "  <thead>\n",
              "    <tr style=\"text-align: right;\">\n",
              "      <th></th>\n",
              "      <th>gender</th>\n",
              "      <th>SeniorCitizen</th>\n",
              "      <th>Partner</th>\n",
              "      <th>Dependents</th>\n",
              "      <th>tenure</th>\n",
              "      <th>PhoneService</th>\n",
              "      <th>MultipleLines</th>\n",
              "      <th>InternetService</th>\n",
              "      <th>OnlineSecurity</th>\n",
              "      <th>OnlineBackup</th>\n",
              "      <th>...</th>\n",
              "      <th>Contract</th>\n",
              "      <th>PaperlessBilling</th>\n",
              "      <th>PaymentMethod</th>\n",
              "      <th>MonthlyCharges</th>\n",
              "      <th>TotalCharges</th>\n",
              "      <th>numAdminTickets</th>\n",
              "      <th>numTechTickets</th>\n",
              "      <th>Churn</th>\n",
              "      <th>prediction_label</th>\n",
              "      <th>prediction_score</th>\n",
              "    </tr>\n",
              "  </thead>\n",
              "  <tbody>\n",
              "    <tr>\n",
              "      <th>4788</th>\n",
              "      <td>0</td>\n",
              "      <td>0</td>\n",
              "      <td>1</td>\n",
              "      <td>0</td>\n",
              "      <td>8</td>\n",
              "      <td>1</td>\n",
              "      <td>2</td>\n",
              "      <td>1</td>\n",
              "      <td>0</td>\n",
              "      <td>0</td>\n",
              "      <td>...</td>\n",
              "      <td>0</td>\n",
              "      <td>1</td>\n",
              "      <td>0</td>\n",
              "      <td>85.183075</td>\n",
              "      <td>758.470703</td>\n",
              "      <td>1</td>\n",
              "      <td>0</td>\n",
              "      <td>Yes</td>\n",
              "      <td>Yes</td>\n",
              "      <td>0.9993</td>\n",
              "    </tr>\n",
              "    <tr>\n",
              "      <th>5824</th>\n",
              "      <td>0</td>\n",
              "      <td>0</td>\n",
              "      <td>1</td>\n",
              "      <td>0</td>\n",
              "      <td>50</td>\n",
              "      <td>1</td>\n",
              "      <td>0</td>\n",
              "      <td>1</td>\n",
              "      <td>1</td>\n",
              "      <td>0</td>\n",
              "      <td>...</td>\n",
              "      <td>0</td>\n",
              "      <td>0</td>\n",
              "      <td>2</td>\n",
              "      <td>86.631073</td>\n",
              "      <td>4351.908691</td>\n",
              "      <td>0</td>\n",
              "      <td>2</td>\n",
              "      <td>Yes</td>\n",
              "      <td>Yes</td>\n",
              "      <td>0.9949</td>\n",
              "    </tr>\n",
              "    <tr>\n",
              "      <th>5997</th>\n",
              "      <td>1</td>\n",
              "      <td>0</td>\n",
              "      <td>0</td>\n",
              "      <td>0</td>\n",
              "      <td>1</td>\n",
              "      <td>1</td>\n",
              "      <td>0</td>\n",
              "      <td>0</td>\n",
              "      <td>0</td>\n",
              "      <td>2</td>\n",
              "      <td>...</td>\n",
              "      <td>0</td>\n",
              "      <td>0</td>\n",
              "      <td>2</td>\n",
              "      <td>50.738132</td>\n",
              "      <td>50.738132</td>\n",
              "      <td>0</td>\n",
              "      <td>0</td>\n",
              "      <td>Yes</td>\n",
              "      <td>Yes</td>\n",
              "      <td>0.9825</td>\n",
              "    </tr>\n",
              "    <tr>\n",
              "      <th>4607</th>\n",
              "      <td>0</td>\n",
              "      <td>0</td>\n",
              "      <td>0</td>\n",
              "      <td>0</td>\n",
              "      <td>1</td>\n",
              "      <td>1</td>\n",
              "      <td>2</td>\n",
              "      <td>1</td>\n",
              "      <td>0</td>\n",
              "      <td>0</td>\n",
              "      <td>...</td>\n",
              "      <td>0</td>\n",
              "      <td>0</td>\n",
              "      <td>2</td>\n",
              "      <td>85.451698</td>\n",
              "      <td>85.451698</td>\n",
              "      <td>0</td>\n",
              "      <td>0</td>\n",
              "      <td>Yes</td>\n",
              "      <td>Yes</td>\n",
              "      <td>0.9997</td>\n",
              "    </tr>\n",
              "    <tr>\n",
              "      <th>1122</th>\n",
              "      <td>0</td>\n",
              "      <td>0</td>\n",
              "      <td>1</td>\n",
              "      <td>1</td>\n",
              "      <td>39</td>\n",
              "      <td>1</td>\n",
              "      <td>0</td>\n",
              "      <td>2</td>\n",
              "      <td>1</td>\n",
              "      <td>1</td>\n",
              "      <td>...</td>\n",
              "      <td>2</td>\n",
              "      <td>0</td>\n",
              "      <td>3</td>\n",
              "      <td>19.750000</td>\n",
              "      <td>757.950012</td>\n",
              "      <td>0</td>\n",
              "      <td>0</td>\n",
              "      <td>No</td>\n",
              "      <td>No</td>\n",
              "      <td>0.9998</td>\n",
              "    </tr>\n",
              "  </tbody>\n",
              "</table>\n",
              "<p>5 rows × 24 columns</p>\n",
              "</div>\n",
              "    <div class=\"colab-df-buttons\">\n",
              "\n",
              "  <div class=\"colab-df-container\">\n",
              "    <button class=\"colab-df-convert\" onclick=\"convertToInteractive('df-b7b941d3-0d6e-4306-bbe8-bb39e2994675')\"\n",
              "            title=\"Convert this dataframe to an interactive table.\"\n",
              "            style=\"display:none;\">\n",
              "\n",
              "  <svg xmlns=\"http://www.w3.org/2000/svg\" height=\"24px\" viewBox=\"0 -960 960 960\">\n",
              "    <path d=\"M120-120v-720h720v720H120Zm60-500h600v-160H180v160Zm220 220h160v-160H400v160Zm0 220h160v-160H400v160ZM180-400h160v-160H180v160Zm440 0h160v-160H620v160ZM180-180h160v-160H180v160Zm440 0h160v-160H620v160Z\"/>\n",
              "  </svg>\n",
              "    </button>\n",
              "\n",
              "  <style>\n",
              "    .colab-df-container {\n",
              "      display:flex;\n",
              "      gap: 12px;\n",
              "    }\n",
              "\n",
              "    .colab-df-convert {\n",
              "      background-color: #E8F0FE;\n",
              "      border: none;\n",
              "      border-radius: 50%;\n",
              "      cursor: pointer;\n",
              "      display: none;\n",
              "      fill: #1967D2;\n",
              "      height: 32px;\n",
              "      padding: 0 0 0 0;\n",
              "      width: 32px;\n",
              "    }\n",
              "\n",
              "    .colab-df-convert:hover {\n",
              "      background-color: #E2EBFA;\n",
              "      box-shadow: 0px 1px 2px rgba(60, 64, 67, 0.3), 0px 1px 3px 1px rgba(60, 64, 67, 0.15);\n",
              "      fill: #174EA6;\n",
              "    }\n",
              "\n",
              "    .colab-df-buttons div {\n",
              "      margin-bottom: 4px;\n",
              "    }\n",
              "\n",
              "    [theme=dark] .colab-df-convert {\n",
              "      background-color: #3B4455;\n",
              "      fill: #D2E3FC;\n",
              "    }\n",
              "\n",
              "    [theme=dark] .colab-df-convert:hover {\n",
              "      background-color: #434B5C;\n",
              "      box-shadow: 0px 1px 3px 1px rgba(0, 0, 0, 0.15);\n",
              "      filter: drop-shadow(0px 1px 2px rgba(0, 0, 0, 0.3));\n",
              "      fill: #FFFFFF;\n",
              "    }\n",
              "  </style>\n",
              "\n",
              "    <script>\n",
              "      const buttonEl =\n",
              "        document.querySelector('#df-b7b941d3-0d6e-4306-bbe8-bb39e2994675 button.colab-df-convert');\n",
              "      buttonEl.style.display =\n",
              "        google.colab.kernel.accessAllowed ? 'block' : 'none';\n",
              "\n",
              "      async function convertToInteractive(key) {\n",
              "        const element = document.querySelector('#df-b7b941d3-0d6e-4306-bbe8-bb39e2994675');\n",
              "        const dataTable =\n",
              "          await google.colab.kernel.invokeFunction('convertToInteractive',\n",
              "                                                    [key], {});\n",
              "        if (!dataTable) return;\n",
              "\n",
              "        const docLinkHtml = 'Like what you see? Visit the ' +\n",
              "          '<a target=\"_blank\" href=https://colab.research.google.com/notebooks/data_table.ipynb>data table notebook</a>'\n",
              "          + ' to learn more about interactive tables.';\n",
              "        element.innerHTML = '';\n",
              "        dataTable['output_type'] = 'display_data';\n",
              "        await google.colab.output.renderOutput(dataTable, element);\n",
              "        const docLink = document.createElement('div');\n",
              "        docLink.innerHTML = docLinkHtml;\n",
              "        element.appendChild(docLink);\n",
              "      }\n",
              "    </script>\n",
              "  </div>\n",
              "\n",
              "\n",
              "<div id=\"df-4a08eae6-a85a-47b4-8bc8-3cabbe65cb45\">\n",
              "  <button class=\"colab-df-quickchart\" onclick=\"quickchart('df-4a08eae6-a85a-47b4-8bc8-3cabbe65cb45')\"\n",
              "            title=\"Suggest charts\"\n",
              "            style=\"display:none;\">\n",
              "\n",
              "<svg xmlns=\"http://www.w3.org/2000/svg\" height=\"24px\"viewBox=\"0 0 24 24\"\n",
              "     width=\"24px\">\n",
              "    <g>\n",
              "        <path d=\"M19 3H5c-1.1 0-2 .9-2 2v14c0 1.1.9 2 2 2h14c1.1 0 2-.9 2-2V5c0-1.1-.9-2-2-2zM9 17H7v-7h2v7zm4 0h-2V7h2v10zm4 0h-2v-4h2v4z\"/>\n",
              "    </g>\n",
              "</svg>\n",
              "  </button>\n",
              "\n",
              "<style>\n",
              "  .colab-df-quickchart {\n",
              "      --bg-color: #E8F0FE;\n",
              "      --fill-color: #1967D2;\n",
              "      --hover-bg-color: #E2EBFA;\n",
              "      --hover-fill-color: #174EA6;\n",
              "      --disabled-fill-color: #AAA;\n",
              "      --disabled-bg-color: #DDD;\n",
              "  }\n",
              "\n",
              "  [theme=dark] .colab-df-quickchart {\n",
              "      --bg-color: #3B4455;\n",
              "      --fill-color: #D2E3FC;\n",
              "      --hover-bg-color: #434B5C;\n",
              "      --hover-fill-color: #FFFFFF;\n",
              "      --disabled-bg-color: #3B4455;\n",
              "      --disabled-fill-color: #666;\n",
              "  }\n",
              "\n",
              "  .colab-df-quickchart {\n",
              "    background-color: var(--bg-color);\n",
              "    border: none;\n",
              "    border-radius: 50%;\n",
              "    cursor: pointer;\n",
              "    display: none;\n",
              "    fill: var(--fill-color);\n",
              "    height: 32px;\n",
              "    padding: 0;\n",
              "    width: 32px;\n",
              "  }\n",
              "\n",
              "  .colab-df-quickchart:hover {\n",
              "    background-color: var(--hover-bg-color);\n",
              "    box-shadow: 0 1px 2px rgba(60, 64, 67, 0.3), 0 1px 3px 1px rgba(60, 64, 67, 0.15);\n",
              "    fill: var(--button-hover-fill-color);\n",
              "  }\n",
              "\n",
              "  .colab-df-quickchart-complete:disabled,\n",
              "  .colab-df-quickchart-complete:disabled:hover {\n",
              "    background-color: var(--disabled-bg-color);\n",
              "    fill: var(--disabled-fill-color);\n",
              "    box-shadow: none;\n",
              "  }\n",
              "\n",
              "  .colab-df-spinner {\n",
              "    border: 2px solid var(--fill-color);\n",
              "    border-color: transparent;\n",
              "    border-bottom-color: var(--fill-color);\n",
              "    animation:\n",
              "      spin 1s steps(1) infinite;\n",
              "  }\n",
              "\n",
              "  @keyframes spin {\n",
              "    0% {\n",
              "      border-color: transparent;\n",
              "      border-bottom-color: var(--fill-color);\n",
              "      border-left-color: var(--fill-color);\n",
              "    }\n",
              "    20% {\n",
              "      border-color: transparent;\n",
              "      border-left-color: var(--fill-color);\n",
              "      border-top-color: var(--fill-color);\n",
              "    }\n",
              "    30% {\n",
              "      border-color: transparent;\n",
              "      border-left-color: var(--fill-color);\n",
              "      border-top-color: var(--fill-color);\n",
              "      border-right-color: var(--fill-color);\n",
              "    }\n",
              "    40% {\n",
              "      border-color: transparent;\n",
              "      border-right-color: var(--fill-color);\n",
              "      border-top-color: var(--fill-color);\n",
              "    }\n",
              "    60% {\n",
              "      border-color: transparent;\n",
              "      border-right-color: var(--fill-color);\n",
              "    }\n",
              "    80% {\n",
              "      border-color: transparent;\n",
              "      border-right-color: var(--fill-color);\n",
              "      border-bottom-color: var(--fill-color);\n",
              "    }\n",
              "    90% {\n",
              "      border-color: transparent;\n",
              "      border-bottom-color: var(--fill-color);\n",
              "    }\n",
              "  }\n",
              "</style>\n",
              "\n",
              "  <script>\n",
              "    async function quickchart(key) {\n",
              "      const quickchartButtonEl =\n",
              "        document.querySelector('#' + key + ' button');\n",
              "      quickchartButtonEl.disabled = true;  // To prevent multiple clicks.\n",
              "      quickchartButtonEl.classList.add('colab-df-spinner');\n",
              "      try {\n",
              "        const charts = await google.colab.kernel.invokeFunction(\n",
              "            'suggestCharts', [key], {});\n",
              "      } catch (error) {\n",
              "        console.error('Error during call to suggestCharts:', error);\n",
              "      }\n",
              "      quickchartButtonEl.classList.remove('colab-df-spinner');\n",
              "      quickchartButtonEl.classList.add('colab-df-quickchart-complete');\n",
              "    }\n",
              "    (() => {\n",
              "      let quickchartButtonEl =\n",
              "        document.querySelector('#df-4a08eae6-a85a-47b4-8bc8-3cabbe65cb45 button');\n",
              "      quickchartButtonEl.style.display =\n",
              "        google.colab.kernel.accessAllowed ? 'block' : 'none';\n",
              "    })();\n",
              "  </script>\n",
              "</div>\n",
              "\n",
              "    </div>\n",
              "  </div>\n"
            ],
            "text/plain": [
              "      gender  SeniorCitizen  Partner  Dependents  tenure  PhoneService  \\\n",
              "4788       0              0        1           0       8             1   \n",
              "5824       0              0        1           0      50             1   \n",
              "5997       1              0        0           0       1             1   \n",
              "4607       0              0        0           0       1             1   \n",
              "1122       0              0        1           1      39             1   \n",
              "\n",
              "      MultipleLines  InternetService  OnlineSecurity  OnlineBackup  ...  \\\n",
              "4788              2                1               0             0  ...   \n",
              "5824              0                1               1             0  ...   \n",
              "5997              0                0               0             2  ...   \n",
              "4607              2                1               0             0  ...   \n",
              "1122              0                2               1             1  ...   \n",
              "\n",
              "      Contract  PaperlessBilling  PaymentMethod  MonthlyCharges  TotalCharges  \\\n",
              "4788         0                 1              0       85.183075    758.470703   \n",
              "5824         0                 0              2       86.631073   4351.908691   \n",
              "5997         0                 0              2       50.738132     50.738132   \n",
              "4607         0                 0              2       85.451698     85.451698   \n",
              "1122         2                 0              3       19.750000    757.950012   \n",
              "\n",
              "      numAdminTickets  numTechTickets  Churn  prediction_label  \\\n",
              "4788                1               0    Yes               Yes   \n",
              "5824                0               2    Yes               Yes   \n",
              "5997                0               0    Yes               Yes   \n",
              "4607                0               0    Yes               Yes   \n",
              "1122                0               0     No                No   \n",
              "\n",
              "      prediction_score  \n",
              "4788            0.9993  \n",
              "5824            0.9949  \n",
              "5997            0.9825  \n",
              "4607            0.9997  \n",
              "1122            0.9998  \n",
              "\n",
              "[5 rows x 24 columns]"
            ]
          },
          "execution_count": 36,
          "metadata": {},
          "output_type": "execute_result"
        }
      ],
      "source": [
        "# show predictions df\n",
        "holdout_pred.head()"
      ]
    },
    {
      "cell_type": "markdown",
      "metadata": {
        "id": "dBFqYvzvHyPQ"
      },
      "source": [
        "Crear Modelo"
      ]
    },
    {
      "cell_type": "code",
      "execution_count": 37,
      "metadata": {
        "colab": {
          "base_uri": "https://localhost:8080/",
          "height": 300,
          "referenced_widgets": [
            "f96ee060dd3546fb86ac9eb679b889ab",
            "491487758be049febcca0bb0205f8aca",
            "7016f8e617844583ba4ffa8287ce89ce",
            "a959966717ca4f2ca7ec96e246efdcc1",
            "7e2176c94c2841ef93717e286797bc35",
            "fcbc397830304b1c910cca44705a3c66",
            "218796c147ce4553875f3fc671ab9fd6",
            "51d2783070b34caabdc533f68e690c14",
            "284be0d527a74476940e704a14188893",
            "f6a40823dcd5439ea194516d966b9cf7",
            "28b25a75bd77418e87394427df4c6156"
          ]
        },
        "id": "lKK2WPl_Hvig",
        "outputId": "6f548acc-034d-4612-8e48-1aaac1f21d42"
      },
      "outputs": [
        {
          "data": {
            "text/html": [],
            "text/plain": [
              "<IPython.core.display.HTML object>"
            ]
          },
          "metadata": {},
          "output_type": "display_data"
        },
        {
          "data": {
            "text/html": [
              "<style type=\"text/css\">\n",
              "#T_ab291_row5_col0, #T_ab291_row5_col1, #T_ab291_row5_col2, #T_ab291_row5_col3, #T_ab291_row5_col4, #T_ab291_row5_col5, #T_ab291_row5_col6 {\n",
              "  background: yellow;\n",
              "}\n",
              "</style>\n",
              "<table id=\"T_ab291\" class=\"dataframe\">\n",
              "  <thead>\n",
              "    <tr>\n",
              "      <th class=\"blank level0\" >&nbsp;</th>\n",
              "      <th id=\"T_ab291_level0_col0\" class=\"col_heading level0 col0\" >Accuracy</th>\n",
              "      <th id=\"T_ab291_level0_col1\" class=\"col_heading level0 col1\" >AUC</th>\n",
              "      <th id=\"T_ab291_level0_col2\" class=\"col_heading level0 col2\" >Recall</th>\n",
              "      <th id=\"T_ab291_level0_col3\" class=\"col_heading level0 col3\" >Prec.</th>\n",
              "      <th id=\"T_ab291_level0_col4\" class=\"col_heading level0 col4\" >F1</th>\n",
              "      <th id=\"T_ab291_level0_col5\" class=\"col_heading level0 col5\" >Kappa</th>\n",
              "      <th id=\"T_ab291_level0_col6\" class=\"col_heading level0 col6\" >MCC</th>\n",
              "    </tr>\n",
              "    <tr>\n",
              "      <th class=\"index_name level0\" >Fold</th>\n",
              "      <th class=\"blank col0\" >&nbsp;</th>\n",
              "      <th class=\"blank col1\" >&nbsp;</th>\n",
              "      <th class=\"blank col2\" >&nbsp;</th>\n",
              "      <th class=\"blank col3\" >&nbsp;</th>\n",
              "      <th class=\"blank col4\" >&nbsp;</th>\n",
              "      <th class=\"blank col5\" >&nbsp;</th>\n",
              "      <th class=\"blank col6\" >&nbsp;</th>\n",
              "    </tr>\n",
              "  </thead>\n",
              "  <tbody>\n",
              "    <tr>\n",
              "      <th id=\"T_ab291_level0_row0\" class=\"row_heading level0 row0\" >0</th>\n",
              "      <td id=\"T_ab291_row0_col0\" class=\"data row0 col0\" >0.9687</td>\n",
              "      <td id=\"T_ab291_row0_col1\" class=\"data row0 col1\" >0.9948</td>\n",
              "      <td id=\"T_ab291_row0_col2\" class=\"data row0 col2\" >0.9687</td>\n",
              "      <td id=\"T_ab291_row0_col3\" class=\"data row0 col3\" >0.9687</td>\n",
              "      <td id=\"T_ab291_row0_col4\" class=\"data row0 col4\" >0.9686</td>\n",
              "      <td id=\"T_ab291_row0_col5\" class=\"data row0 col5\" >0.9366</td>\n",
              "      <td id=\"T_ab291_row0_col6\" class=\"data row0 col6\" >0.9366</td>\n",
              "    </tr>\n",
              "    <tr>\n",
              "      <th id=\"T_ab291_level0_row1\" class=\"row_heading level0 row1\" >1</th>\n",
              "      <td id=\"T_ab291_row1_col0\" class=\"data row1 col0\" >0.9676</td>\n",
              "      <td id=\"T_ab291_row1_col1\" class=\"data row1 col1\" >0.9933</td>\n",
              "      <td id=\"T_ab291_row1_col2\" class=\"data row1 col2\" >0.9676</td>\n",
              "      <td id=\"T_ab291_row1_col3\" class=\"data row1 col3\" >0.9676</td>\n",
              "      <td id=\"T_ab291_row1_col4\" class=\"data row1 col4\" >0.9676</td>\n",
              "      <td id=\"T_ab291_row1_col5\" class=\"data row1 col5\" >0.9344</td>\n",
              "      <td id=\"T_ab291_row1_col6\" class=\"data row1 col6\" >0.9345</td>\n",
              "    </tr>\n",
              "    <tr>\n",
              "      <th id=\"T_ab291_level0_row2\" class=\"row_heading level0 row2\" >2</th>\n",
              "      <td id=\"T_ab291_row2_col0\" class=\"data row2 col0\" >0.9727</td>\n",
              "      <td id=\"T_ab291_row2_col1\" class=\"data row2 col1\" >0.9961</td>\n",
              "      <td id=\"T_ab291_row2_col2\" class=\"data row2 col2\" >0.9727</td>\n",
              "      <td id=\"T_ab291_row2_col3\" class=\"data row2 col3\" >0.9728</td>\n",
              "      <td id=\"T_ab291_row2_col4\" class=\"data row2 col4\" >0.9726</td>\n",
              "      <td id=\"T_ab291_row2_col5\" class=\"data row2 col5\" >0.9446</td>\n",
              "      <td id=\"T_ab291_row2_col6\" class=\"data row2 col6\" >0.9448</td>\n",
              "    </tr>\n",
              "    <tr>\n",
              "      <th id=\"T_ab291_level0_row3\" class=\"row_heading level0 row3\" >3</th>\n",
              "      <td id=\"T_ab291_row3_col0\" class=\"data row3 col0\" >0.9717</td>\n",
              "      <td id=\"T_ab291_row3_col1\" class=\"data row3 col1\" >0.9962</td>\n",
              "      <td id=\"T_ab291_row3_col2\" class=\"data row3 col2\" >0.9717</td>\n",
              "      <td id=\"T_ab291_row3_col3\" class=\"data row3 col3\" >0.9717</td>\n",
              "      <td id=\"T_ab291_row3_col4\" class=\"data row3 col4\" >0.9717</td>\n",
              "      <td id=\"T_ab291_row3_col5\" class=\"data row3 col5\" >0.9427</td>\n",
              "      <td id=\"T_ab291_row3_col6\" class=\"data row3 col6\" >0.9427</td>\n",
              "    </tr>\n",
              "    <tr>\n",
              "      <th id=\"T_ab291_level0_row4\" class=\"row_heading level0 row4\" >4</th>\n",
              "      <td id=\"T_ab291_row4_col0\" class=\"data row4 col0\" >0.9646</td>\n",
              "      <td id=\"T_ab291_row4_col1\" class=\"data row4 col1\" >0.9909</td>\n",
              "      <td id=\"T_ab291_row4_col2\" class=\"data row4 col2\" >0.9646</td>\n",
              "      <td id=\"T_ab291_row4_col3\" class=\"data row4 col3\" >0.9646</td>\n",
              "      <td id=\"T_ab291_row4_col4\" class=\"data row4 col4\" >0.9645</td>\n",
              "      <td id=\"T_ab291_row4_col5\" class=\"data row4 col5\" >0.9283</td>\n",
              "      <td id=\"T_ab291_row4_col6\" class=\"data row4 col6\" >0.9284</td>\n",
              "    </tr>\n",
              "    <tr>\n",
              "      <th id=\"T_ab291_level0_row5\" class=\"row_heading level0 row5\" >Mean</th>\n",
              "      <td id=\"T_ab291_row5_col0\" class=\"data row5 col0\" >0.9690</td>\n",
              "      <td id=\"T_ab291_row5_col1\" class=\"data row5 col1\" >0.9943</td>\n",
              "      <td id=\"T_ab291_row5_col2\" class=\"data row5 col2\" >0.9690</td>\n",
              "      <td id=\"T_ab291_row5_col3\" class=\"data row5 col3\" >0.9691</td>\n",
              "      <td id=\"T_ab291_row5_col4\" class=\"data row5 col4\" >0.9690</td>\n",
              "      <td id=\"T_ab291_row5_col5\" class=\"data row5 col5\" >0.9373</td>\n",
              "      <td id=\"T_ab291_row5_col6\" class=\"data row5 col6\" >0.9374</td>\n",
              "    </tr>\n",
              "    <tr>\n",
              "      <th id=\"T_ab291_level0_row6\" class=\"row_heading level0 row6\" >Std</th>\n",
              "      <td id=\"T_ab291_row6_col0\" class=\"data row6 col0\" >0.0029</td>\n",
              "      <td id=\"T_ab291_row6_col1\" class=\"data row6 col1\" >0.0020</td>\n",
              "      <td id=\"T_ab291_row6_col2\" class=\"data row6 col2\" >0.0029</td>\n",
              "      <td id=\"T_ab291_row6_col3\" class=\"data row6 col3\" >0.0029</td>\n",
              "      <td id=\"T_ab291_row6_col4\" class=\"data row6 col4\" >0.0029</td>\n",
              "      <td id=\"T_ab291_row6_col5\" class=\"data row6 col5\" >0.0059</td>\n",
              "      <td id=\"T_ab291_row6_col6\" class=\"data row6 col6\" >0.0059</td>\n",
              "    </tr>\n",
              "  </tbody>\n",
              "</table>\n"
            ],
            "text/plain": [
              "<pandas.io.formats.style.Styler at 0x7969225b9c30>"
            ]
          },
          "metadata": {},
          "output_type": "display_data"
        },
        {
          "data": {
            "application/vnd.jupyter.widget-view+json": {
              "model_id": "f96ee060dd3546fb86ac9eb679b889ab",
              "version_major": 2,
              "version_minor": 0
            },
            "text/plain": [
              "Processing:   0%|          | 0/4 [00:00<?, ?it/s]"
            ]
          },
          "metadata": {
            "application/vnd.jupyter.widget-view+json": {
              "colab": {
                "custom_widget_manager": {
                  "url": "https://ssl.gstatic.com/colaboratory-static/widgets/colab-cdn-widget-manager/2b70e893a8ba7c0f/manager.min.js"
                }
              }
            }
          },
          "output_type": "display_data"
        },
        {
          "data": {
            "text/html": [],
            "text/plain": [
              "<IPython.core.display.HTML object>"
            ]
          },
          "metadata": {},
          "output_type": "display_data"
        }
      ],
      "source": [
        "lightgbm = create_model('lightgbm')\n"
      ]
    },
    {
      "cell_type": "markdown",
      "metadata": {
        "id": "xhKPZabJIFdn"
      },
      "source": [
        "No se va a seguir tuneando el modelo por el gran desempeño logrado"
      ]
    },
    {
      "cell_type": "code",
      "execution_count": 38,
      "metadata": {
        "colab": {
          "base_uri": "https://localhost:8080/",
          "height": 524
        },
        "id": "pBCHM1i8IWNY",
        "outputId": "2efac034-a1c2-4000-87fa-933f74e4ccee"
      },
      "outputs": [
        {
          "data": {
            "text/html": [],
            "text/plain": [
              "<IPython.core.display.HTML object>"
            ]
          },
          "metadata": {},
          "output_type": "display_data"
        },
        {
          "data": {
            "image/png": "[encoded data removed]",
            "text/plain": [
              "<Figure size 800x550 with 1 Axes>"
            ]
          },
          "metadata": {},
          "output_type": "display_data"
        }
      ],
      "source": [
        "plot_model (lightgbm, plot='learning')\n"
      ]
    },
    {
      "cell_type": "code",
      "execution_count": 39,
      "metadata": {
        "colab": {
          "base_uri": "https://localhost:8080/",
          "height": 503
        },
        "id": "5ph-XfB8KPY2",
        "outputId": "69563d1d-0993-4bfe-9250-7518ac70de61"
      },
      "outputs": [
        {
          "data": {
            "text/html": [],
            "text/plain": [
              "<IPython.core.display.HTML object>"
            ]
          },
          "metadata": {},
          "output_type": "display_data"
        },
        {
          "data": {
            "image/png": "[encoded data removed]",
            "text/plain": [
              "<Figure size 800x550 with 1 Axes>"
            ]
          },
          "metadata": {},
          "output_type": "display_data"
        }
      ],
      "source": [
        "plot_model(lightgbm, plot = 'boundary')"
      ]
    },
    {
      "cell_type": "code",
      "execution_count": 40,
      "metadata": {
        "colab": {
          "base_uri": "https://localhost:8080/",
          "height": 485
        },
        "id": "DOwBn2bWKdqB",
        "outputId": "cfba13d7-31f9-4eda-ccb6-60710af376b3"
      },
      "outputs": [
        {
          "data": {
            "text/html": [],
            "text/plain": [
              "<IPython.core.display.HTML object>"
            ]
          },
          "metadata": {},
          "output_type": "display_data"
        },
        {
          "data": {
            "image/png": "[encoded data removed]",
            "text/plain": [
              "<Figure size 800x500 with 1 Axes>"
            ]
          },
          "metadata": {},
          "output_type": "display_data"
        }
      ],
      "source": [
        "plot_model(lightgbm, plot = 'feature')"
      ]
    },
    {
      "cell_type": "markdown",
      "metadata": {
        "id": "PvStiSrOKlIV"
      },
      "source": [
        "Podemos observar que los cargos totales y  mensuales al igual que la antigúedad son las variables que mayor imporstancia tiene en el Ensamble para abandonar el servicio."
      ]
    },
    {
      "cell_type": "code",
      "execution_count": 41,
      "metadata": {
        "colab": {
          "base_uri": "https://localhost:8080/",
          "height": 524
        },
        "id": "vZzjFBoNLBcD",
        "outputId": "1438126f-b00d-457d-e4d7-64045251a311"
      },
      "outputs": [
        {
          "data": {
            "text/html": [],
            "text/plain": [
              "<IPython.core.display.HTML object>"
            ]
          },
          "metadata": {},
          "output_type": "display_data"
        },
        {
          "data": {
            "image/png": "[encoded data removed]",
            "text/plain": [
              "<Figure size 800x550 with 1 Axes>"
            ]
          },
          "metadata": {},
          "output_type": "display_data"
        }
      ],
      "source": [
        "plot_model(lightgbm, plot = 'pr')"
      ]
    },
    {
      "cell_type": "code",
      "execution_count": 42,
      "metadata": {
        "colab": {
          "base_uri": "https://localhost:8080/",
          "height": 551
        },
        "id": "bzFxLmt1LPmQ",
        "outputId": "80cda2ac-245f-4233-a724-d81286f2f991"
      },
      "outputs": [
        {
          "data": {
            "text/html": [],
            "text/plain": [
              "<IPython.core.display.HTML object>"
            ]
          },
          "metadata": {},
          "output_type": "display_data"
        },
        {
          "data": {
            "image/png": "[encoded data removed]",
            "text/plain": [
              "<Figure size 800x550 with 2 Axes>"
            ]
          },
          "metadata": {},
          "output_type": "display_data"
        }
      ],
      "source": [
        "plot_model(lightgbm, plot = 'class_report')"
      ]
    },
    {
      "cell_type": "code",
      "execution_count": 43,
      "metadata": {
        "id": "ZiSLCXxpM4Ku"
      },
      "outputs": [],
      "source": [
        "# Finalización del modelo\n",
        "final_model = finalize_model (lightgbm)"
      ]
    },
    {
      "cell_type": "code",
      "execution_count": 44,
      "metadata": {
        "colab": {
          "base_uri": "https://localhost:8080/"
        },
        "id": "APJawD66NRqO",
        "outputId": "9c6fd31f-d5b9-40b9-8f86-0c5c0aa06337"
      },
      "outputs": [
        {
          "name": "stdout",
          "output_type": "stream",
          "text": [
            "Pipeline(memory=Memory(location=None),\n",
            "         steps=[('label_encoding',\n",
            "                 TransformerWrapperWithInverse(exclude=None, include=None,\n",
            "                                               transformer=LabelEncoder())),\n",
            "                ('numerical_imputer',\n",
            "                 TransformerWrapper(exclude=None,\n",
            "                                    include=['gender', 'SeniorCitizen',\n",
            "                                             'Partner', 'Dependents', 'tenure',\n",
            "                                             'PhoneService', 'MultipleLines',\n",
            "                                             'InternetService',\n",
            "                                             'OnlineSecurity', 'OnlineBackup',\n",
            "                                             'D...\n",
            "                 LGBMClassifier(boosting_type='gbdt', class_weight=None,\n",
            "                                colsample_bytree=1.0, importance_type='split',\n",
            "                                learning_rate=0.1, max_depth=-1,\n",
            "                                min_child_samples=20, min_child_weight=0.001,\n",
            "                                min_split_gain=0.0, n_estimators=100, n_jobs=-1,\n",
            "                                num_leaves=31, objective=None, random_state=123,\n",
            "                                reg_alpha=0.0, reg_lambda=0.0, subsample=1.0,\n",
            "                                subsample_for_bin=200000, subsample_freq=0))],\n",
            "         verbose=False)\n"
          ]
        }
      ],
      "source": [
        "print (final_model)"
      ]
    },
    {
      "cell_type": "code",
      "execution_count": 45,
      "metadata": {
        "colab": {
          "base_uri": "https://localhost:8080/"
        },
        "id": "klUTPhQYNTYl",
        "outputId": "292c89c9-2fa0-4342-c8e9-3af725ef3a99"
      },
      "outputs": [
        {
          "name": "stdout",
          "output_type": "stream",
          "text": [
            "Transformation Pipeline and Model Successfully Saved\n"
          ]
        },
        {
          "data": {
            "text/plain": [
              "(Pipeline(memory=Memory(location=None),\n",
              "          steps=[('label_encoding',\n",
              "                  TransformerWrapperWithInverse(exclude=None, include=None,\n",
              "                                                transformer=LabelEncoder())),\n",
              "                 ('numerical_imputer',\n",
              "                  TransformerWrapper(exclude=None,\n",
              "                                     include=['gender', 'SeniorCitizen',\n",
              "                                              'Partner', 'Dependents', 'tenure',\n",
              "                                              'PhoneService', 'MultipleLines',\n",
              "                                              'InternetService',\n",
              "                                              'OnlineSecurity', 'OnlineBackup',\n",
              "                                              'D...\n",
              "                  LGBMClassifier(boosting_type='gbdt', class_weight=None,\n",
              "                                 colsample_bytree=1.0, importance_type='split',\n",
              "                                 learning_rate=0.1, max_depth=-1,\n",
              "                                 min_child_samples=20, min_child_weight=0.001,\n",
              "                                 min_split_gain=0.0, n_estimators=100, n_jobs=-1,\n",
              "                                 num_leaves=31, objective=None, random_state=123,\n",
              "                                 reg_alpha=0.0, reg_lambda=0.0, subsample=1.0,\n",
              "                                 subsample_for_bin=200000, subsample_freq=0))],\n",
              "          verbose=False),\n",
              " 'FinalModel.pkl')"
            ]
          },
          "execution_count": 45,
          "metadata": {},
          "output_type": "execute_result"
        }
      ],
      "source": [
        "save_model(final_model,'FinalModel')"
      ]
    },
    {
      "cell_type": "markdown",
      "metadata": {
        "id": "2EJ_C_PMUPsT"
      },
      "source": [
        "**Conclusiones**\n",
        "En este estudio, se evalúa el rendimiento de diversos modelos de aprendizaje automático (Extra Trees Classifier, Light Gradient Boosting Machine, XGBoost y Random Forest Classifier) para predecir el abandono del servicio en un conjunto de datos específico. Se comparan los modelos en base a métricas como precisión, AUC, recall, F1-score, kappa y MCC.\n",
        "\n",
        "**Abordaje del desequilibrio de clases:**\n",
        "\n",
        "Dado que el conjunto de datos presenta un desequilibrio de clases, se utilizan técnicas de sobremuestreo como SMOTE, ADASYN y SMOTEENN para balancear las clases antes del entrenamiento de los modelos.\n",
        "\n",
        "**Resultados:**\n",
        "\n",
        "La mayoría de los modelos alcanzan un buen rendimiento, con una precisión cercana al 90% y un AUC superior al 95% después de aplicar técnicas de muestreo.\n",
        "XGBoost y LightGBM, en conjunto con SMOTEENN, obtienen los mejores resultados, con una precisión superior al 96% y un AUC superior al 99%.\n",
        "Las variables más importantes para predecir el abandono del servicio son los cargos totales, los cargos mensuales y la antigüedad.\n",
        "Conclusiones:\n",
        "\n",
        "Los modelos de aprendizaje automático son herramientas efectivas para predecir el abandono del servicio.\n",
        "XGBoost y LightGBM, combinados con SMOTEENN, son los modelos más adecuados para esta tarea.\n",
        "Las variables relacionadas con los costos y la antigüedad del cliente son cruciales para la predicción del abandono del servicio.\n",
        "\n",
        "**Recomendaciones:**\n",
        "\n",
        "Se sugiere implementar el modelo de mejor rendimiento (XGBoost o LightGBM con SMOTEENN) en un sistema de producción para predecir el abandono del servicio y tomar medidas preventivas.\n",
        "Se recomienda realizar un análisis más profundo de las variables que influyen en el abandono del servicio para identificar oportunidades de mejora en la atención al cliente y la retención de clientes."
      ]
    }
  ],
  "metadata": {
    "colab": {
      "include_colab_link": true,
      "provenance": []
    },
    "kernelspec": {
      "display_name": "Python 3",
      "name": "python3"
    },
    "language_info": {
      "name": "python"
    },
    "widgets": {
      "application/vnd.jupyter.widget-state+json": {
        "0a41862444c04e149c90775c0f4a819f": {
          "model_module": "@jupyter-widgets/controls",
          "model_module_version": "1.5.0",
          "model_name": "FloatProgressModel",
          "state": {
            "_dom_classes": [],
            "_model_module": "@jupyter-widgets/controls",
            "_model_module_version": "1.5.0",
            "_model_name": "FloatProgressModel",
            "_view_count": null,
            "_view_module": "@jupyter-widgets/controls",
            "_view_module_version": "1.5.0",
            "_view_name": "ProgressView",
            "bar_style": "",
            "description": "",
            "description_tooltip": null,
            "layout": "IPY_MODEL_4a201856ff7d4b0f8da16eb56b98282d",
            "max": 65,
            "min": 0,
            "orientation": "horizontal",
            "style": "IPY_MODEL_c18a4edd0bfa49f2b2ee242dfe447234",
            "value": 65
          }
        },
        "16a9527af7814f11b51fcefa8a43f6ce": {
          "model_module": "@jupyter-widgets/controls",
          "model_module_version": "1.5.0",
          "model_name": "HTMLModel",
          "state": {
            "_dom_classes": [],
            "_model_module": "@jupyter-widgets/controls",
            "_model_module_version": "1.5.0",
            "_model_name": "HTMLModel",
            "_view_count": null,
            "_view_module": "@jupyter-widgets/controls",
            "_view_module_version": "1.5.0",
            "_view_name": "HTMLView",
            "description": "",
            "description_tooltip": null,
            "layout": "IPY_MODEL_b790af3d5b3148eaad57cd32504a7e20",
            "placeholder": "​",
            "style": "IPY_MODEL_3375d974d5844b6fb208f8897345ae46",
            "value": " 65/65 [00:38&lt;00:00,  2.29it/s]"
          }
        },
        "1cecbb592d5242139133f7819e6ae3c6": {
          "model_module": "@jupyter-widgets/base",
          "model_module_version": "1.2.0",
          "model_name": "LayoutModel",
          "state": {
            "_model_module": "@jupyter-widgets/base",
            "_model_module_version": "1.2.0",
            "_model_name": "LayoutModel",
            "_view_count": null,
            "_view_module": "@jupyter-widgets/base",
            "_view_module_version": "1.2.0",
            "_view_name": "LayoutView",
            "align_content": null,
            "align_items": null,
            "align_self": null,
            "border": null,
            "bottom": null,
            "display": null,
            "flex": null,
            "flex_flow": null,
            "grid_area": null,
            "grid_auto_columns": null,
            "grid_auto_flow": null,
            "grid_auto_rows": null,
            "grid_column": null,
            "grid_gap": null,
            "grid_row": null,
            "grid_template_areas": null,
            "grid_template_columns": null,
            "grid_template_rows": null,
            "height": null,
            "justify_content": null,
            "justify_items": null,
            "left": null,
            "margin": null,
            "max_height": null,
            "max_width": null,
            "min_height": null,
            "min_width": null,
            "object_fit": null,
            "object_position": null,
            "order": null,
            "overflow": null,
            "overflow_x": null,
            "overflow_y": null,
            "padding": null,
            "right": null,
            "top": null,
            "visibility": null,
            "width": null
          }
        },
        "218796c147ce4553875f3fc671ab9fd6": {
          "model_module": "@jupyter-widgets/controls",
          "model_module_version": "1.5.0",
          "model_name": "DescriptionStyleModel",
          "state": {
            "_model_module": "@jupyter-widgets/controls",
            "_model_module_version": "1.5.0",
            "_model_name": "DescriptionStyleModel",
            "_view_count": null,
            "_view_module": "@jupyter-widgets/base",
            "_view_module_version": "1.2.0",
            "_view_name": "StyleView",
            "description_width": ""
          }
        },
        "278d2467236e4976a023810389656c59": {
          "model_module": "@jupyter-widgets/controls",
          "model_module_version": "1.5.0",
          "model_name": "ProgressStyleModel",
          "state": {
            "_model_module": "@jupyter-widgets/controls",
            "_model_module_version": "1.5.0",
            "_model_name": "ProgressStyleModel",
            "_view_count": null,
            "_view_module": "@jupyter-widgets/base",
            "_view_module_version": "1.2.0",
            "_view_name": "StyleView",
            "bar_color": null,
            "description_width": ""
          }
        },
        "27e45f5a317048d0babeb1e4913f578a": {
          "model_module": "@jupyter-widgets/controls",
          "model_module_version": "1.5.0",
          "model_name": "HBoxModel",
          "state": {
            "_dom_classes": [],
            "_model_module": "@jupyter-widgets/controls",
            "_model_module_version": "1.5.0",
            "_model_name": "HBoxModel",
            "_view_count": null,
            "_view_module": "@jupyter-widgets/controls",
            "_view_module_version": "1.5.0",
            "_view_name": "HBoxView",
            "box_style": "",
            "children": [
              "IPY_MODEL_37a843fa1f5f41e6a0c6649a536315a5",
              "IPY_MODEL_f88f26de08f84fa1a618bb201b8377cc",
              "IPY_MODEL_a484894643f84d508e5c1d28fec46f8d"
            ],
            "layout": "IPY_MODEL_b16af99f91f94ce7bcb7a5a88c9db2dc"
          }
        },
        "284be0d527a74476940e704a14188893": {
          "model_module": "@jupyter-widgets/controls",
          "model_module_version": "1.5.0",
          "model_name": "ProgressStyleModel",
          "state": {
            "_model_module": "@jupyter-widgets/controls",
            "_model_module_version": "1.5.0",
            "_model_name": "ProgressStyleModel",
            "_view_count": null,
            "_view_module": "@jupyter-widgets/base",
            "_view_module_version": "1.2.0",
            "_view_name": "StyleView",
            "bar_color": null,
            "description_width": ""
          }
        },
        "28b25a75bd77418e87394427df4c6156": {
          "model_module": "@jupyter-widgets/controls",
          "model_module_version": "1.5.0",
          "model_name": "DescriptionStyleModel",
          "state": {
            "_model_module": "@jupyter-widgets/controls",
            "_model_module_version": "1.5.0",
            "_model_name": "DescriptionStyleModel",
            "_view_count": null,
            "_view_module": "@jupyter-widgets/base",
            "_view_module_version": "1.2.0",
            "_view_name": "StyleView",
            "description_width": ""
          }
        },
        "3375d974d5844b6fb208f8897345ae46": {
          "model_module": "@jupyter-widgets/controls",
          "model_module_version": "1.5.0",
          "model_name": "DescriptionStyleModel",
          "state": {
            "_model_module": "@jupyter-widgets/controls",
            "_model_module_version": "1.5.0",
            "_model_name": "DescriptionStyleModel",
            "_view_count": null,
            "_view_module": "@jupyter-widgets/base",
            "_view_module_version": "1.2.0",
            "_view_name": "StyleView",
            "description_width": ""
          }
        },
        "34cf4c662e8b440299707cd80de1cc49": {
          "model_module": "@jupyter-widgets/controls",
          "model_module_version": "1.5.0",
          "model_name": "DescriptionStyleModel",
          "state": {
            "_model_module": "@jupyter-widgets/controls",
            "_model_module_version": "1.5.0",
            "_model_name": "DescriptionStyleModel",
            "_view_count": null,
            "_view_module": "@jupyter-widgets/base",
            "_view_module_version": "1.2.0",
            "_view_name": "StyleView",
            "description_width": ""
          }
        },
        "374c5c5062de46d3a3f851dc4b5410a7": {
          "model_module": "@jupyter-widgets/base",
          "model_module_version": "1.2.0",
          "model_name": "LayoutModel",
          "state": {
            "_model_module": "@jupyter-widgets/base",
            "_model_module_version": "1.2.0",
            "_model_name": "LayoutModel",
            "_view_count": null,
            "_view_module": "@jupyter-widgets/base",
            "_view_module_version": "1.2.0",
            "_view_name": "LayoutView",
            "align_content": null,
            "align_items": null,
            "align_self": null,
            "border": null,
            "bottom": null,
            "display": null,
            "flex": null,
            "flex_flow": null,
            "grid_area": null,
            "grid_auto_columns": null,
            "grid_auto_flow": null,
            "grid_auto_rows": null,
            "grid_column": null,
            "grid_gap": null,
            "grid_row": null,
            "grid_template_areas": null,
            "grid_template_columns": null,
            "grid_template_rows": null,
            "height": null,
            "justify_content": null,
            "justify_items": null,
            "left": null,
            "margin": null,
            "max_height": null,
            "max_width": null,
            "min_height": null,
            "min_width": null,
            "object_fit": null,
            "object_position": null,
            "order": null,
            "overflow": null,
            "overflow_x": null,
            "overflow_y": null,
            "padding": null,
            "right": null,
            "top": null,
            "visibility": null,
            "width": null
          }
        },
        "37a843fa1f5f41e6a0c6649a536315a5": {
          "model_module": "@jupyter-widgets/controls",
          "model_module_version": "1.5.0",
          "model_name": "HTMLModel",
          "state": {
            "_dom_classes": [],
            "_model_module": "@jupyter-widgets/controls",
            "_model_module_version": "1.5.0",
            "_model_name": "HTMLModel",
            "_view_count": null,
            "_view_module": "@jupyter-widgets/controls",
            "_view_module_version": "1.5.0",
            "_view_name": "HTMLView",
            "description": "",
            "description_tooltip": null,
            "layout": "IPY_MODEL_aae93c3d41b54d049a119b6f483b6255",
            "placeholder": "​",
            "style": "IPY_MODEL_34cf4c662e8b440299707cd80de1cc49",
            "value": "Processing: 100%"
          }
        },
        "390d1957e8d349ecbb0600e752c21ab8": {
          "model_module": "@jupyter-widgets/base",
          "model_module_version": "1.2.0",
          "model_name": "LayoutModel",
          "state": {
            "_model_module": "@jupyter-widgets/base",
            "_model_module_version": "1.2.0",
            "_model_name": "LayoutModel",
            "_view_count": null,
            "_view_module": "@jupyter-widgets/base",
            "_view_module_version": "1.2.0",
            "_view_name": "LayoutView",
            "align_content": null,
            "align_items": null,
            "align_self": null,
            "border": null,
            "bottom": null,
            "display": null,
            "flex": null,
            "flex_flow": null,
            "grid_area": null,
            "grid_auto_columns": null,
            "grid_auto_flow": null,
            "grid_auto_rows": null,
            "grid_column": null,
            "grid_gap": null,
            "grid_row": null,
            "grid_template_areas": null,
            "grid_template_columns": null,
            "grid_template_rows": null,
            "height": null,
            "justify_content": null,
            "justify_items": null,
            "left": null,
            "margin": null,
            "max_height": null,
            "max_width": null,
            "min_height": null,
            "min_width": null,
            "object_fit": null,
            "object_position": null,
            "order": null,
            "overflow": null,
            "overflow_x": null,
            "overflow_y": null,
            "padding": null,
            "right": null,
            "top": null,
            "visibility": "hidden",
            "width": null
          }
        },
        "410c6ac8b24e4d6298df602fc7e7c199": {
          "model_module": "@jupyter-widgets/controls",
          "model_module_version": "1.5.0",
          "model_name": "HTMLModel",
          "state": {
            "_dom_classes": [],
            "_model_module": "@jupyter-widgets/controls",
            "_model_module_version": "1.5.0",
            "_model_name": "HTMLModel",
            "_view_count": null,
            "_view_module": "@jupyter-widgets/controls",
            "_view_module_version": "1.5.0",
            "_view_name": "HTMLView",
            "description": "",
            "description_tooltip": null,
            "layout": "IPY_MODEL_6db402e9fa73474f940055f3336bb068",
            "placeholder": "​",
            "style": "IPY_MODEL_9d0dc4996fa745908b93ec684453929f",
            "value": " 65/65 [01:07&lt;00:00,  1.61it/s]"
          }
        },
        "46eb2a140f144e40837839f405865da7": {
          "model_module": "@jupyter-widgets/controls",
          "model_module_version": "1.5.0",
          "model_name": "DescriptionStyleModel",
          "state": {
            "_model_module": "@jupyter-widgets/controls",
            "_model_module_version": "1.5.0",
            "_model_name": "DescriptionStyleModel",
            "_view_count": null,
            "_view_module": "@jupyter-widgets/base",
            "_view_module_version": "1.2.0",
            "_view_name": "StyleView",
            "description_width": ""
          }
        },
        "491487758be049febcca0bb0205f8aca": {
          "model_module": "@jupyter-widgets/controls",
          "model_module_version": "1.5.0",
          "model_name": "HTMLModel",
          "state": {
            "_dom_classes": [],
            "_model_module": "@jupyter-widgets/controls",
            "_model_module_version": "1.5.0",
            "_model_name": "HTMLModel",
            "_view_count": null,
            "_view_module": "@jupyter-widgets/controls",
            "_view_module_version": "1.5.0",
            "_view_name": "HTMLView",
            "description": "",
            "description_tooltip": null,
            "layout": "IPY_MODEL_fcbc397830304b1c910cca44705a3c66",
            "placeholder": "​",
            "style": "IPY_MODEL_218796c147ce4553875f3fc671ab9fd6",
            "value": "Processing: 100%"
          }
        },
        "4a201856ff7d4b0f8da16eb56b98282d": {
          "model_module": "@jupyter-widgets/base",
          "model_module_version": "1.2.0",
          "model_name": "LayoutModel",
          "state": {
            "_model_module": "@jupyter-widgets/base",
            "_model_module_version": "1.2.0",
            "_model_name": "LayoutModel",
            "_view_count": null,
            "_view_module": "@jupyter-widgets/base",
            "_view_module_version": "1.2.0",
            "_view_name": "LayoutView",
            "align_content": null,
            "align_items": null,
            "align_self": null,
            "border": null,
            "bottom": null,
            "display": null,
            "flex": null,
            "flex_flow": null,
            "grid_area": null,
            "grid_auto_columns": null,
            "grid_auto_flow": null,
            "grid_auto_rows": null,
            "grid_column": null,
            "grid_gap": null,
            "grid_row": null,
            "grid_template_areas": null,
            "grid_template_columns": null,
            "grid_template_rows": null,
            "height": null,
            "justify_content": null,
            "justify_items": null,
            "left": null,
            "margin": null,
            "max_height": null,
            "max_width": null,
            "min_height": null,
            "min_width": null,
            "object_fit": null,
            "object_position": null,
            "order": null,
            "overflow": null,
            "overflow_x": null,
            "overflow_y": null,
            "padding": null,
            "right": null,
            "top": null,
            "visibility": null,
            "width": null
          }
        },
        "51d2783070b34caabdc533f68e690c14": {
          "model_module": "@jupyter-widgets/base",
          "model_module_version": "1.2.0",
          "model_name": "LayoutModel",
          "state": {
            "_model_module": "@jupyter-widgets/base",
            "_model_module_version": "1.2.0",
            "_model_name": "LayoutModel",
            "_view_count": null,
            "_view_module": "@jupyter-widgets/base",
            "_view_module_version": "1.2.0",
            "_view_name": "LayoutView",
            "align_content": null,
            "align_items": null,
            "align_self": null,
            "border": null,
            "bottom": null,
            "display": null,
            "flex": null,
            "flex_flow": null,
            "grid_area": null,
            "grid_auto_columns": null,
            "grid_auto_flow": null,
            "grid_auto_rows": null,
            "grid_column": null,
            "grid_gap": null,
            "grid_row": null,
            "grid_template_areas": null,
            "grid_template_columns": null,
            "grid_template_rows": null,
            "height": null,
            "justify_content": null,
            "justify_items": null,
            "left": null,
            "margin": null,
            "max_height": null,
            "max_width": null,
            "min_height": null,
            "min_width": null,
            "object_fit": null,
            "object_position": null,
            "order": null,
            "overflow": null,
            "overflow_x": null,
            "overflow_y": null,
            "padding": null,
            "right": null,
            "top": null,
            "visibility": null,
            "width": null
          }
        },
        "6053422db6e44075b0d334d2b2775dc5": {
          "model_module": "@jupyter-widgets/controls",
          "model_module_version": "1.5.0",
          "model_name": "HBoxModel",
          "state": {
            "_dom_classes": [],
            "_model_module": "@jupyter-widgets/controls",
            "_model_module_version": "1.5.0",
            "_model_name": "HBoxModel",
            "_view_count": null,
            "_view_module": "@jupyter-widgets/controls",
            "_view_module_version": "1.5.0",
            "_view_name": "HBoxView",
            "box_style": "",
            "children": [
              "IPY_MODEL_a38cd088d2da45b595e6e2c737d0c03a",
              "IPY_MODEL_0a41862444c04e149c90775c0f4a819f",
              "IPY_MODEL_410c6ac8b24e4d6298df602fc7e7c199"
            ],
            "layout": "IPY_MODEL_390d1957e8d349ecbb0600e752c21ab8"
          }
        },
        "617a78a80d674186b6d3414e446f1ab4": {
          "model_module": "@jupyter-widgets/controls",
          "model_module_version": "1.5.0",
          "model_name": "ProgressStyleModel",
          "state": {
            "_model_module": "@jupyter-widgets/controls",
            "_model_module_version": "1.5.0",
            "_model_name": "ProgressStyleModel",
            "_view_count": null,
            "_view_module": "@jupyter-widgets/base",
            "_view_module_version": "1.2.0",
            "_view_name": "StyleView",
            "bar_color": null,
            "description_width": ""
          }
        },
        "636445022b2e4122bbf8dd370dac2f36": {
          "model_module": "@jupyter-widgets/base",
          "model_module_version": "1.2.0",
          "model_name": "LayoutModel",
          "state": {
            "_model_module": "@jupyter-widgets/base",
            "_model_module_version": "1.2.0",
            "_model_name": "LayoutModel",
            "_view_count": null,
            "_view_module": "@jupyter-widgets/base",
            "_view_module_version": "1.2.0",
            "_view_name": "LayoutView",
            "align_content": null,
            "align_items": null,
            "align_self": null,
            "border": null,
            "bottom": null,
            "display": null,
            "flex": null,
            "flex_flow": null,
            "grid_area": null,
            "grid_auto_columns": null,
            "grid_auto_flow": null,
            "grid_auto_rows": null,
            "grid_column": null,
            "grid_gap": null,
            "grid_row": null,
            "grid_template_areas": null,
            "grid_template_columns": null,
            "grid_template_rows": null,
            "height": null,
            "justify_content": null,
            "justify_items": null,
            "left": null,
            "margin": null,
            "max_height": null,
            "max_width": null,
            "min_height": null,
            "min_width": null,
            "object_fit": null,
            "object_position": null,
            "order": null,
            "overflow": null,
            "overflow_x": null,
            "overflow_y": null,
            "padding": null,
            "right": null,
            "top": null,
            "visibility": null,
            "width": null
          }
        },
        "6db402e9fa73474f940055f3336bb068": {
          "model_module": "@jupyter-widgets/base",
          "model_module_version": "1.2.0",
          "model_name": "LayoutModel",
          "state": {
            "_model_module": "@jupyter-widgets/base",
            "_model_module_version": "1.2.0",
            "_model_name": "LayoutModel",
            "_view_count": null,
            "_view_module": "@jupyter-widgets/base",
            "_view_module_version": "1.2.0",
            "_view_name": "LayoutView",
            "align_content": null,
            "align_items": null,
            "align_self": null,
            "border": null,
            "bottom": null,
            "display": null,
            "flex": null,
            "flex_flow": null,
            "grid_area": null,
            "grid_auto_columns": null,
            "grid_auto_flow": null,
            "grid_auto_rows": null,
            "grid_column": null,
            "grid_gap": null,
            "grid_row": null,
            "grid_template_areas": null,
            "grid_template_columns": null,
            "grid_template_rows": null,
            "height": null,
            "justify_content": null,
            "justify_items": null,
            "left": null,
            "margin": null,
            "max_height": null,
            "max_width": null,
            "min_height": null,
            "min_width": null,
            "object_fit": null,
            "object_position": null,
            "order": null,
            "overflow": null,
            "overflow_x": null,
            "overflow_y": null,
            "padding": null,
            "right": null,
            "top": null,
            "visibility": null,
            "width": null
          }
        },
        "6f5933dcbf8f4ef4910414e7d01b8257": {
          "model_module": "@jupyter-widgets/controls",
          "model_module_version": "1.5.0",
          "model_name": "HBoxModel",
          "state": {
            "_dom_classes": [],
            "_model_module": "@jupyter-widgets/controls",
            "_model_module_version": "1.5.0",
            "_model_name": "HBoxModel",
            "_view_count": null,
            "_view_module": "@jupyter-widgets/controls",
            "_view_module_version": "1.5.0",
            "_view_name": "HBoxView",
            "box_style": "",
            "children": [
              "IPY_MODEL_b6777d05cb86405bbbac958043624654",
              "IPY_MODEL_752d45934cc8408b8f7c8bc80ebc8662",
              "IPY_MODEL_16a9527af7814f11b51fcefa8a43f6ce"
            ],
            "layout": "IPY_MODEL_8fa6f1f7d5ff4f9aa7b03b1ec841e5c7"
          }
        },
        "7016f8e617844583ba4ffa8287ce89ce": {
          "model_module": "@jupyter-widgets/controls",
          "model_module_version": "1.5.0",
          "model_name": "FloatProgressModel",
          "state": {
            "_dom_classes": [],
            "_model_module": "@jupyter-widgets/controls",
            "_model_module_version": "1.5.0",
            "_model_name": "FloatProgressModel",
            "_view_count": null,
            "_view_module": "@jupyter-widgets/controls",
            "_view_module_version": "1.5.0",
            "_view_name": "ProgressView",
            "bar_style": "",
            "description": "",
            "description_tooltip": null,
            "layout": "IPY_MODEL_51d2783070b34caabdc533f68e690c14",
            "max": 4,
            "min": 0,
            "orientation": "horizontal",
            "style": "IPY_MODEL_284be0d527a74476940e704a14188893",
            "value": 4
          }
        },
        "752d45934cc8408b8f7c8bc80ebc8662": {
          "model_module": "@jupyter-widgets/controls",
          "model_module_version": "1.5.0",
          "model_name": "FloatProgressModel",
          "state": {
            "_dom_classes": [],
            "_model_module": "@jupyter-widgets/controls",
            "_model_module_version": "1.5.0",
            "_model_name": "FloatProgressModel",
            "_view_count": null,
            "_view_module": "@jupyter-widgets/controls",
            "_view_module_version": "1.5.0",
            "_view_name": "ProgressView",
            "bar_style": "",
            "description": "",
            "description_tooltip": null,
            "layout": "IPY_MODEL_374c5c5062de46d3a3f851dc4b5410a7",
            "max": 65,
            "min": 0,
            "orientation": "horizontal",
            "style": "IPY_MODEL_617a78a80d674186b6d3414e446f1ab4",
            "value": 65
          }
        },
        "7a5fa574192a4c6cb60a7c977a256df1": {
          "model_module": "@jupyter-widgets/controls",
          "model_module_version": "1.5.0",
          "model_name": "DescriptionStyleModel",
          "state": {
            "_model_module": "@jupyter-widgets/controls",
            "_model_module_version": "1.5.0",
            "_model_name": "DescriptionStyleModel",
            "_view_count": null,
            "_view_module": "@jupyter-widgets/base",
            "_view_module_version": "1.2.0",
            "_view_name": "StyleView",
            "description_width": ""
          }
        },
        "7e2176c94c2841ef93717e286797bc35": {
          "model_module": "@jupyter-widgets/base",
          "model_module_version": "1.2.0",
          "model_name": "LayoutModel",
          "state": {
            "_model_module": "@jupyter-widgets/base",
            "_model_module_version": "1.2.0",
            "_model_name": "LayoutModel",
            "_view_count": null,
            "_view_module": "@jupyter-widgets/base",
            "_view_module_version": "1.2.0",
            "_view_name": "LayoutView",
            "align_content": null,
            "align_items": null,
            "align_self": null,
            "border": null,
            "bottom": null,
            "display": null,
            "flex": null,
            "flex_flow": null,
            "grid_area": null,
            "grid_auto_columns": null,
            "grid_auto_flow": null,
            "grid_auto_rows": null,
            "grid_column": null,
            "grid_gap": null,
            "grid_row": null,
            "grid_template_areas": null,
            "grid_template_columns": null,
            "grid_template_rows": null,
            "height": null,
            "justify_content": null,
            "justify_items": null,
            "left": null,
            "margin": null,
            "max_height": null,
            "max_width": null,
            "min_height": null,
            "min_width": null,
            "object_fit": null,
            "object_position": null,
            "order": null,
            "overflow": null,
            "overflow_x": null,
            "overflow_y": null,
            "padding": null,
            "right": null,
            "top": null,
            "visibility": "hidden",
            "width": null
          }
        },
        "8fa6f1f7d5ff4f9aa7b03b1ec841e5c7": {
          "model_module": "@jupyter-widgets/base",
          "model_module_version": "1.2.0",
          "model_name": "LayoutModel",
          "state": {
            "_model_module": "@jupyter-widgets/base",
            "_model_module_version": "1.2.0",
            "_model_name": "LayoutModel",
            "_view_count": null,
            "_view_module": "@jupyter-widgets/base",
            "_view_module_version": "1.2.0",
            "_view_name": "LayoutView",
            "align_content": null,
            "align_items": null,
            "align_self": null,
            "border": null,
            "bottom": null,
            "display": null,
            "flex": null,
            "flex_flow": null,
            "grid_area": null,
            "grid_auto_columns": null,
            "grid_auto_flow": null,
            "grid_auto_rows": null,
            "grid_column": null,
            "grid_gap": null,
            "grid_row": null,
            "grid_template_areas": null,
            "grid_template_columns": null,
            "grid_template_rows": null,
            "height": null,
            "justify_content": null,
            "justify_items": null,
            "left": null,
            "margin": null,
            "max_height": null,
            "max_width": null,
            "min_height": null,
            "min_width": null,
            "object_fit": null,
            "object_position": null,
            "order": null,
            "overflow": null,
            "overflow_x": null,
            "overflow_y": null,
            "padding": null,
            "right": null,
            "top": null,
            "visibility": "hidden",
            "width": null
          }
        },
        "9d0dc4996fa745908b93ec684453929f": {
          "model_module": "@jupyter-widgets/controls",
          "model_module_version": "1.5.0",
          "model_name": "DescriptionStyleModel",
          "state": {
            "_model_module": "@jupyter-widgets/controls",
            "_model_module_version": "1.5.0",
            "_model_name": "DescriptionStyleModel",
            "_view_count": null,
            "_view_module": "@jupyter-widgets/base",
            "_view_module_version": "1.2.0",
            "_view_name": "StyleView",
            "description_width": ""
          }
        },
        "a2527565dec24d5b9b9f98473339255a": {
          "model_module": "@jupyter-widgets/base",
          "model_module_version": "1.2.0",
          "model_name": "LayoutModel",
          "state": {
            "_model_module": "@jupyter-widgets/base",
            "_model_module_version": "1.2.0",
            "_model_name": "LayoutModel",
            "_view_count": null,
            "_view_module": "@jupyter-widgets/base",
            "_view_module_version": "1.2.0",
            "_view_name": "LayoutView",
            "align_content": null,
            "align_items": null,
            "align_self": null,
            "border": null,
            "bottom": null,
            "display": null,
            "flex": null,
            "flex_flow": null,
            "grid_area": null,
            "grid_auto_columns": null,
            "grid_auto_flow": null,
            "grid_auto_rows": null,
            "grid_column": null,
            "grid_gap": null,
            "grid_row": null,
            "grid_template_areas": null,
            "grid_template_columns": null,
            "grid_template_rows": null,
            "height": null,
            "justify_content": null,
            "justify_items": null,
            "left": null,
            "margin": null,
            "max_height": null,
            "max_width": null,
            "min_height": null,
            "min_width": null,
            "object_fit": null,
            "object_position": null,
            "order": null,
            "overflow": null,
            "overflow_x": null,
            "overflow_y": null,
            "padding": null,
            "right": null,
            "top": null,
            "visibility": null,
            "width": null
          }
        },
        "a38cd088d2da45b595e6e2c737d0c03a": {
          "model_module": "@jupyter-widgets/controls",
          "model_module_version": "1.5.0",
          "model_name": "HTMLModel",
          "state": {
            "_dom_classes": [],
            "_model_module": "@jupyter-widgets/controls",
            "_model_module_version": "1.5.0",
            "_model_name": "HTMLModel",
            "_view_count": null,
            "_view_module": "@jupyter-widgets/controls",
            "_view_module_version": "1.5.0",
            "_view_name": "HTMLView",
            "description": "",
            "description_tooltip": null,
            "layout": "IPY_MODEL_b012d8f6bfc6408ba33b85bca65e6267",
            "placeholder": "​",
            "style": "IPY_MODEL_46eb2a140f144e40837839f405865da7",
            "value": "Processing: 100%"
          }
        },
        "a484894643f84d508e5c1d28fec46f8d": {
          "model_module": "@jupyter-widgets/controls",
          "model_module_version": "1.5.0",
          "model_name": "HTMLModel",
          "state": {
            "_dom_classes": [],
            "_model_module": "@jupyter-widgets/controls",
            "_model_module_version": "1.5.0",
            "_model_name": "HTMLModel",
            "_view_count": null,
            "_view_module": "@jupyter-widgets/controls",
            "_view_module_version": "1.5.0",
            "_view_name": "HTMLView",
            "description": "",
            "description_tooltip": null,
            "layout": "IPY_MODEL_a2527565dec24d5b9b9f98473339255a",
            "placeholder": "​",
            "style": "IPY_MODEL_ae2c434e0dcb4494af35ec0283066bd1",
            "value": " 65/65 [00:58&lt;00:00,  1.36it/s]"
          }
        },
        "a959966717ca4f2ca7ec96e246efdcc1": {
          "model_module": "@jupyter-widgets/controls",
          "model_module_version": "1.5.0",
          "model_name": "HTMLModel",
          "state": {
            "_dom_classes": [],
            "_model_module": "@jupyter-widgets/controls",
            "_model_module_version": "1.5.0",
            "_model_name": "HTMLModel",
            "_view_count": null,
            "_view_module": "@jupyter-widgets/controls",
            "_view_module_version": "1.5.0",
            "_view_name": "HTMLView",
            "description": "",
            "description_tooltip": null,
            "layout": "IPY_MODEL_f6a40823dcd5439ea194516d966b9cf7",
            "placeholder": "​",
            "style": "IPY_MODEL_28b25a75bd77418e87394427df4c6156",
            "value": " 4/4 [00:04&lt;00:00,  1.15s/it]"
          }
        },
        "aae93c3d41b54d049a119b6f483b6255": {
          "model_module": "@jupyter-widgets/base",
          "model_module_version": "1.2.0",
          "model_name": "LayoutModel",
          "state": {
            "_model_module": "@jupyter-widgets/base",
            "_model_module_version": "1.2.0",
            "_model_name": "LayoutModel",
            "_view_count": null,
            "_view_module": "@jupyter-widgets/base",
            "_view_module_version": "1.2.0",
            "_view_name": "LayoutView",
            "align_content": null,
            "align_items": null,
            "align_self": null,
            "border": null,
            "bottom": null,
            "display": null,
            "flex": null,
            "flex_flow": null,
            "grid_area": null,
            "grid_auto_columns": null,
            "grid_auto_flow": null,
            "grid_auto_rows": null,
            "grid_column": null,
            "grid_gap": null,
            "grid_row": null,
            "grid_template_areas": null,
            "grid_template_columns": null,
            "grid_template_rows": null,
            "height": null,
            "justify_content": null,
            "justify_items": null,
            "left": null,
            "margin": null,
            "max_height": null,
            "max_width": null,
            "min_height": null,
            "min_width": null,
            "object_fit": null,
            "object_position": null,
            "order": null,
            "overflow": null,
            "overflow_x": null,
            "overflow_y": null,
            "padding": null,
            "right": null,
            "top": null,
            "visibility": null,
            "width": null
          }
        },
        "ae2c434e0dcb4494af35ec0283066bd1": {
          "model_module": "@jupyter-widgets/controls",
          "model_module_version": "1.5.0",
          "model_name": "DescriptionStyleModel",
          "state": {
            "_model_module": "@jupyter-widgets/controls",
            "_model_module_version": "1.5.0",
            "_model_name": "DescriptionStyleModel",
            "_view_count": null,
            "_view_module": "@jupyter-widgets/base",
            "_view_module_version": "1.2.0",
            "_view_name": "StyleView",
            "description_width": ""
          }
        },
        "b012d8f6bfc6408ba33b85bca65e6267": {
          "model_module": "@jupyter-widgets/base",
          "model_module_version": "1.2.0",
          "model_name": "LayoutModel",
          "state": {
            "_model_module": "@jupyter-widgets/base",
            "_model_module_version": "1.2.0",
            "_model_name": "LayoutModel",
            "_view_count": null,
            "_view_module": "@jupyter-widgets/base",
            "_view_module_version": "1.2.0",
            "_view_name": "LayoutView",
            "align_content": null,
            "align_items": null,
            "align_self": null,
            "border": null,
            "bottom": null,
            "display": null,
            "flex": null,
            "flex_flow": null,
            "grid_area": null,
            "grid_auto_columns": null,
            "grid_auto_flow": null,
            "grid_auto_rows": null,
            "grid_column": null,
            "grid_gap": null,
            "grid_row": null,
            "grid_template_areas": null,
            "grid_template_columns": null,
            "grid_template_rows": null,
            "height": null,
            "justify_content": null,
            "justify_items": null,
            "left": null,
            "margin": null,
            "max_height": null,
            "max_width": null,
            "min_height": null,
            "min_width": null,
            "object_fit": null,
            "object_position": null,
            "order": null,
            "overflow": null,
            "overflow_x": null,
            "overflow_y": null,
            "padding": null,
            "right": null,
            "top": null,
            "visibility": null,
            "width": null
          }
        },
        "b16af99f91f94ce7bcb7a5a88c9db2dc": {
          "model_module": "@jupyter-widgets/base",
          "model_module_version": "1.2.0",
          "model_name": "LayoutModel",
          "state": {
            "_model_module": "@jupyter-widgets/base",
            "_model_module_version": "1.2.0",
            "_model_name": "LayoutModel",
            "_view_count": null,
            "_view_module": "@jupyter-widgets/base",
            "_view_module_version": "1.2.0",
            "_view_name": "LayoutView",
            "align_content": null,
            "align_items": null,
            "align_self": null,
            "border": null,
            "bottom": null,
            "display": null,
            "flex": null,
            "flex_flow": null,
            "grid_area": null,
            "grid_auto_columns": null,
            "grid_auto_flow": null,
            "grid_auto_rows": null,
            "grid_column": null,
            "grid_gap": null,
            "grid_row": null,
            "grid_template_areas": null,
            "grid_template_columns": null,
            "grid_template_rows": null,
            "height": null,
            "justify_content": null,
            "justify_items": null,
            "left": null,
            "margin": null,
            "max_height": null,
            "max_width": null,
            "min_height": null,
            "min_width": null,
            "object_fit": null,
            "object_position": null,
            "order": null,
            "overflow": null,
            "overflow_x": null,
            "overflow_y": null,
            "padding": null,
            "right": null,
            "top": null,
            "visibility": "hidden",
            "width": null
          }
        },
        "b6777d05cb86405bbbac958043624654": {
          "model_module": "@jupyter-widgets/controls",
          "model_module_version": "1.5.0",
          "model_name": "HTMLModel",
          "state": {
            "_dom_classes": [],
            "_model_module": "@jupyter-widgets/controls",
            "_model_module_version": "1.5.0",
            "_model_name": "HTMLModel",
            "_view_count": null,
            "_view_module": "@jupyter-widgets/controls",
            "_view_module_version": "1.5.0",
            "_view_name": "HTMLView",
            "description": "",
            "description_tooltip": null,
            "layout": "IPY_MODEL_636445022b2e4122bbf8dd370dac2f36",
            "placeholder": "​",
            "style": "IPY_MODEL_7a5fa574192a4c6cb60a7c977a256df1",
            "value": "Processing: 100%"
          }
        },
        "b790af3d5b3148eaad57cd32504a7e20": {
          "model_module": "@jupyter-widgets/base",
          "model_module_version": "1.2.0",
          "model_name": "LayoutModel",
          "state": {
            "_model_module": "@jupyter-widgets/base",
            "_model_module_version": "1.2.0",
            "_model_name": "LayoutModel",
            "_view_count": null,
            "_view_module": "@jupyter-widgets/base",
            "_view_module_version": "1.2.0",
            "_view_name": "LayoutView",
            "align_content": null,
            "align_items": null,
            "align_self": null,
            "border": null,
            "bottom": null,
            "display": null,
            "flex": null,
            "flex_flow": null,
            "grid_area": null,
            "grid_auto_columns": null,
            "grid_auto_flow": null,
            "grid_auto_rows": null,
            "grid_column": null,
            "grid_gap": null,
            "grid_row": null,
            "grid_template_areas": null,
            "grid_template_columns": null,
            "grid_template_rows": null,
            "height": null,
            "justify_content": null,
            "justify_items": null,
            "left": null,
            "margin": null,
            "max_height": null,
            "max_width": null,
            "min_height": null,
            "min_width": null,
            "object_fit": null,
            "object_position": null,
            "order": null,
            "overflow": null,
            "overflow_x": null,
            "overflow_y": null,
            "padding": null,
            "right": null,
            "top": null,
            "visibility": null,
            "width": null
          }
        },
        "c18a4edd0bfa49f2b2ee242dfe447234": {
          "model_module": "@jupyter-widgets/controls",
          "model_module_version": "1.5.0",
          "model_name": "ProgressStyleModel",
          "state": {
            "_model_module": "@jupyter-widgets/controls",
            "_model_module_version": "1.5.0",
            "_model_name": "ProgressStyleModel",
            "_view_count": null,
            "_view_module": "@jupyter-widgets/base",
            "_view_module_version": "1.2.0",
            "_view_name": "StyleView",
            "bar_color": null,
            "description_width": ""
          }
        },
        "f6a40823dcd5439ea194516d966b9cf7": {
          "model_module": "@jupyter-widgets/base",
          "model_module_version": "1.2.0",
          "model_name": "LayoutModel",
          "state": {
            "_model_module": "@jupyter-widgets/base",
            "_model_module_version": "1.2.0",
            "_model_name": "LayoutModel",
            "_view_count": null,
            "_view_module": "@jupyter-widgets/base",
            "_view_module_version": "1.2.0",
            "_view_name": "LayoutView",
            "align_content": null,
            "align_items": null,
            "align_self": null,
            "border": null,
            "bottom": null,
            "display": null,
            "flex": null,
            "flex_flow": null,
            "grid_area": null,
            "grid_auto_columns": null,
            "grid_auto_flow": null,
            "grid_auto_rows": null,
            "grid_column": null,
            "grid_gap": null,
            "grid_row": null,
            "grid_template_areas": null,
            "grid_template_columns": null,
            "grid_template_rows": null,
            "height": null,
            "justify_content": null,
            "justify_items": null,
            "left": null,
            "margin": null,
            "max_height": null,
            "max_width": null,
            "min_height": null,
            "min_width": null,
            "object_fit": null,
            "object_position": null,
            "order": null,
            "overflow": null,
            "overflow_x": null,
            "overflow_y": null,
            "padding": null,
            "right": null,
            "top": null,
            "visibility": null,
            "width": null
          }
        },
        "f88f26de08f84fa1a618bb201b8377cc": {
          "model_module": "@jupyter-widgets/controls",
          "model_module_version": "1.5.0",
          "model_name": "FloatProgressModel",
          "state": {
            "_dom_classes": [],
            "_model_module": "@jupyter-widgets/controls",
            "_model_module_version": "1.5.0",
            "_model_name": "FloatProgressModel",
            "_view_count": null,
            "_view_module": "@jupyter-widgets/controls",
            "_view_module_version": "1.5.0",
            "_view_name": "ProgressView",
            "bar_style": "",
            "description": "",
            "description_tooltip": null,
            "layout": "IPY_MODEL_1cecbb592d5242139133f7819e6ae3c6",
            "max": 65,
            "min": 0,
            "orientation": "horizontal",
            "style": "IPY_MODEL_278d2467236e4976a023810389656c59",
            "value": 65
          }
        },
        "f96ee060dd3546fb86ac9eb679b889ab": {
          "model_module": "@jupyter-widgets/controls",
          "model_module_version": "1.5.0",
          "model_name": "HBoxModel",
          "state": {
            "_dom_classes": [],
            "_model_module": "@jupyter-widgets/controls",
            "_model_module_version": "1.5.0",
            "_model_name": "HBoxModel",
            "_view_count": null,
            "_view_module": "@jupyter-widgets/controls",
            "_view_module_version": "1.5.0",
            "_view_name": "HBoxView",
            "box_style": "",
            "children": [
              "IPY_MODEL_491487758be049febcca0bb0205f8aca",
              "IPY_MODEL_7016f8e617844583ba4ffa8287ce89ce",
              "IPY_MODEL_a959966717ca4f2ca7ec96e246efdcc1"
            ],
            "layout": "IPY_MODEL_7e2176c94c2841ef93717e286797bc35"
          }
        },
        "fcbc397830304b1c910cca44705a3c66": {
          "model_module": "@jupyter-widgets/base",
          "model_module_version": "1.2.0",
          "model_name": "LayoutModel",
          "state": {
            "_model_module": "@jupyter-widgets/base",
            "_model_module_version": "1.2.0",
            "_model_name": "LayoutModel",
            "_view_count": null,
            "_view_module": "@jupyter-widgets/base",
            "_view_module_version": "1.2.0",
            "_view_name": "LayoutView",
            "align_content": null,
            "align_items": null,
            "align_self": null,
            "border": null,
            "bottom": null,
            "display": null,
            "flex": null,
            "flex_flow": null,
            "grid_area": null,
            "grid_auto_columns": null,
            "grid_auto_flow": null,
            "grid_auto_rows": null,
            "grid_column": null,
            "grid_gap": null,
            "grid_row": null,
            "grid_template_areas": null,
            "grid_template_columns": null,
            "grid_template_rows": null,
            "height": null,
            "justify_content": null,
            "justify_items": null,
            "left": null,
            "margin": null,
            "max_height": null,
            "max_width": null,
            "min_height": null,
            "min_width": null,
            "object_fit": null,
            "object_position": null,
            "order": null,
            "overflow": null,
            "overflow_x": null,
            "overflow_y": null,
            "padding": null,
            "right": null,
            "top": null,
            "visibility": null,
            "width": null
          }
        }
      }
    }
  },
  "nbformat": 4,
  "nbformat_minor": 0
}
