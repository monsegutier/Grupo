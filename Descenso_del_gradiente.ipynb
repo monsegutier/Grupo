{
  "nbformat": 4,
  "nbformat_minor": 0,
  "metadata": {
    "colab": {
      "provenance": [],
      "authorship_tag": "ABX9TyMt3RdV/qw0uKdYZUdkA5fS",
      "include_colab_link": true
    },
    "kernelspec": {
      "name": "python3",
      "display_name": "Python 3"
    },
    "language_info": {
      "name": "python"
    }
  },
  "cells": [
    {
      "cell_type": "markdown",
      "metadata": {
        "id": "view-in-github",
        "colab_type": "text"
      },
      "source": [
        "<a href=\"https://colab.research.google.com/github/monsegutier/Grupo/blob/main/Descenso_del_gradiente.ipynb\" target=\"_parent\"><img src=\"https://colab.research.google.com/assets/colab-badge.svg\" alt=\"Open In Colab\"/></a>"
      ]
    },
    {
      "cell_type": "markdown",
      "source": [
        "En el ámbito del aprendizaje automático, la propagación hacia adelante y la propagación hacia atrás son dos conceptos fundamentales que sustentan el funcionamiento de las redes neuronales artificiales. Estas técnicas permiten que las redes aprendan de manera eficiente a partir de datos, ajustando sus parámetros para minimizar el error y mejorar su rendimiento predictivo.\n",
        "\n",
        "**Propagación hacia adelante:**\n",
        "\n",
        "La propagación hacia adelante, también conocida como feedforward, es el proceso de calcular la salida de una red neuronal a partir de una entrada dada. Comienza con la entrada, que se propaga a través de las capas de la red, pasando por cada neurona y aplicando la función de activación correspondiente. En cada capa, las salidas de las neuronas se combinan y se pasan a la siguiente capa hasta llegar a la capa de salida, donde se obtiene la predicción final.\n",
        "\n",
        "**Propagación hacia atrás:**\n",
        "\n",
        "La propagación hacia atrás, también conocida como backpropagation, es el proceso de calcular el error de la red neuronal y propagarlo hacia atrás a través de las capas para actualizar los pesos y sesgos de las neuronas. Este proceso se realiza iterativamente, utilizando un algoritmo de optimización como el descenso del gradiente estocástico.\n",
        "\n",
        "La propagación hacia adelante y la propagación hacia atrás son dos técnicas fundamentales que permiten a las redes neuronales aprender de manera eficiente a partir de datos. La propagación hacia adelante calcula la salida de la red, mientras que la propagación hacia atrás calcula el error y actualiza los pesos y sesgos para minimizarlo. Estas técnicas permiten que las redes neuronales se adapten a una amplia gama de tareas de aprendizaje automático, como clasificación, regresión y procesamiento del lenguaje natural."
      ],
      "metadata": {
        "id": "kllX1ANfGgCh"
      }
    },
    {
      "cell_type": "code",
      "execution_count": 1,
      "metadata": {
        "id": "7TNgvKy11s45"
      },
      "outputs": [],
      "source": [
        "#Importación de librerías\n",
        "import numpy as np\n",
        "from tensorflow.keras.datasets import mnist"
      ]
    },
    {
      "cell_type": "code",
      "source": [
        "# Paso 1: Cargar y preprocesar los datos\n",
        "(X_train, y_train), (X_test, y_test) = mnist.load_data()\n",
        "X_train = X_train.reshape(X_train.shape[0], -1) / 255.0\n",
        "X_test = X_test.reshape(X_test.shape[0], -1) / 255.0\n",
        "y_train_one_hot = np.eye(10)[y_train]  # Codificar las etiquetas en one-hot\n",
        "y_test_one_hot = np.eye(10)[y_test]  # Codificar las etiquetas en one-hot\n"
      ],
      "metadata": {
        "colab": {
          "base_uri": "https://localhost:8080/"
        },
        "id": "JqrU4zYy2DYJ",
        "outputId": "000c5698-b093-40af-e0d5-c44081287fa8"
      },
      "execution_count": 2,
      "outputs": [
        {
          "output_type": "stream",
          "name": "stdout",
          "text": [
            "Downloading data from https://storage.googleapis.com/tensorflow/tf-keras-datasets/mnist.npz\n",
            "11490434/11490434 [==============================] - 0s 0us/step\n"
          ]
        }
      ]
    },
    {
      "cell_type": "markdown",
      "source": [
        "Cargar los datos: Utiliza la función mnist.load_data() para cargar el conjunto de datos MNIST, que consiste en imágenes de dígitos escritos a mano junto con sus etiquetas correspondientes de 0 a 9.\n",
        "Preprocesar los datos: Las imágenes de MNIST se almacenan inicialmente en tensores tridimensionales, donde las dimensiones representan el número de muestras, el ancho y la altura de la imagen. Sin embargo, para alimentarlas a un modelo de aprendizaje automático, necesitamos convertirlas en tensores bidimensionales. Por lo tanto, el código utiliza reshape para aplanar las imágenes en un solo vector, manteniendo el número de muestras. Además, normaliza los valores de píxeles de las imágenes dividiéndolos por 255.0, lo que escala los valores de píxeles al rango [0, 1].\n",
        "Codificar las etiquetas en one-hot: Las etiquetas originales del conjunto de datos MNIST son enteros que van de 0 a 9, cada uno representando un dígito. Para el entrenamiento de un modelo de clasificación, es común codificar estas etiquetas en forma de vectores one-hot. En el código, se utiliza np.eye(10)[y_train] para convertir las etiquetas de entrenamiento y_train en vectores one-hot. Este proceso crea una matriz identidad de 10x10 (ya que hay 10 clases en total) y selecciona la fila correspondiente a cada etiqueta de entrenamiento para obtener su representación one-hot. El mismo proceso se aplica a las etiquetas de prueba y_test.\n"
      ],
      "metadata": {
        "id": "E8iXbpdTHk6H"
      }
    },
    {
      "cell_type": "code",
      "source": [
        "# Paso 2: Inicializar los parámetros de la red neuronal\n",
        "input_size = X_train.shape[1]\n",
        "hidden_size = 128\n",
        "output_size = 10\n",
        "learning_rate = 0.001\n",
        "epochs = 10\n",
        "\n",
        "W1 = np.random.randn(input_size, hidden_size)\n",
        "b1 = np.zeros(hidden_size)\n",
        "W2 = np.random.randn(hidden_size, output_size)\n",
        "b2 = np.zeros(output_size)\n",
        "\n"
      ],
      "metadata": {
        "id": "lXux3X9h2JHD"
      },
      "execution_count": 3,
      "outputs": []
    },
    {
      "cell_type": "markdown",
      "source": [
        "Este código inicializa los parámetros de una red neuronal de dos capas (una capa oculta y una capa de salida) para un problema de clasificación multiclase utilizando la técnica de aprendizaje supervisado.\n",
        "\n",
        "input_size = X_train.shape[1]: Calcula el tamaño de entrada de la red neuronal, que es igual al número de características de las muestras de entrenamiento. Esto se obtiene de la forma de la matriz X_train, que representa las características de entrada.\n",
        "hidden_size = 128: Define el tamaño de la capa oculta de la red neuronal. En este caso, se establece en 128 neuronas, pero este valor puede variar dependiendo del problema y de la arquitectura de la red.\n",
        "output_size = 10: Establece el tamaño de la capa de salida de la red neuronal. Para el conjunto de datos MNIST, que consta de 10 clases (dígitos del 0 al 9), el tamaño de salida se fija en 10, una neurona por cada clase.\n",
        "learning_rate = 0.001: Define la tasa de aprendizaje para el algoritmo de optimización. Es un hiperparámetro importante que controla el tamaño de los pasos que el algoritmo da para minimizar la función de pérdida durante el entrenamiento.\n",
        "epochs = 10: Indica el número de épocas o iteraciones completas a través de todo el conjunto de datos de entrenamiento durante el entrenamiento de la red neuronal.\n",
        "W1, b1, W2, b2: Son los parámetros de la red neuronal que se inicializan aleatoriamente. W1 es la matriz de pesos que conecta las neuronas de entrada a las de la capa oculta, b1 es el vector de sesgo de la capa oculta, W2 es la matriz de pesos que conecta las neuronas de la capa oculta a las de salida, y b2 es el vector de sesgo de la capa de salida. Estos parámetros se inicializan aleatoriamente para permitir que la red neuronal comience a aprender desde una posición no sesgada.\n",
        "\n",
        "\n",
        "\n",
        "\n"
      ],
      "metadata": {
        "id": "D41C6a4PICHF"
      }
    },
    {
      "cell_type": "code",
      "source": [
        "# Paso 3: Entrenamiento de la red neuronal utilizando descenso del gradiente\n",
        "for epoch in range(epochs):\n",
        "    # Propagación hacia adelante (Forward Propagation)\n",
        "    z1 = np.dot(X_train, W1) + b1\n",
        "    a1 = np.maximum(z1, 0)  # ReLU activation function\n",
        "    z2 = np.dot(a1, W2) + b2\n",
        "    exp_scores = np.exp(z2)\n",
        "    probs = exp_scores / np.sum(exp_scores, axis=1, keepdims=True)\n",
        "\n",
        "    # Cálculo de la pérdida\n",
        "    correct_logprobs = -np.log(probs[range(len(X_train)), y_train])\n",
        "    loss = np.sum(correct_logprobs) / len(X_train)\n",
        "\n",
        "    # Mostrar la pérdida en cada epoch\n",
        "    if epoch % 10 == 0:\n",
        "        print(f'Epoch {epoch}: loss {loss}')\n",
        "\n",
        "    # Cálculo de los gradientes (Backpropagation)\n",
        "    dprobs = probs\n",
        "    dprobs[range(len(X_train)), y_train] -= 1\n",
        "    dprobs /= len(X_train)\n",
        "\n",
        "    dW2 = np.dot(a1.T, dprobs)\n",
        "    db2 = np.sum(dprobs, axis=0, keepdims=True)\n",
        "    dhidden = np.dot(dprobs, W2.T)\n",
        "    dhidden[a1 <= 0] = 0\n",
        "\n",
        "    dW1 = np.dot(X_train.T, dhidden)\n",
        "    db1 = np.sum(dhidden, axis=0, keepdims=True)\n",
        "\n",
        "    # Actualización de los pesos y sesgos\n",
        "    W1 -= learning_rate * dW1\n",
        "    b1 -= learning_rate * db1.squeeze()\n",
        "    W2 -= learning_rate * dW2\n",
        "    b2 -= learning_rate * db2.squeeze()\n",
        "\n"
      ],
      "metadata": {
        "colab": {
          "base_uri": "https://localhost:8080/"
        },
        "id": "ewHhLhgm2R6l",
        "outputId": "13a0b5c6-d720-4230-8b47-220fcab597f8"
      },
      "execution_count": 4,
      "outputs": [
        {
          "output_type": "stream",
          "name": "stdout",
          "text": [
            "Epoch 0: loss 152.71841244050358\n"
          ]
        }
      ]
    },
    {
      "cell_type": "markdown",
      "source": [
        "**Propagación hacia adelante (Forward Propagation):** Se calculan las activaciones de las neuronas en cada capa de la red neuronal utilizando las entradas actuales y los parámetros (pesos y sesgos). En este caso, se utiliza una capa oculta con una función de activación ReLU y una capa de salida con una función softmax para obtener las probabilidades de clase.\n",
        "\n",
        "**Cálculo de la pérdida:** Se calcula la pérdida total de la red neuronal utilizando la función de pérdida adecuada para el problema de clasificación multiclase. En este caso, se utiliza la entropía cruzada categórica como función de pérdida.\n",
        "\n",
        "**Cálculo de los gradientes (Backpropagation)**: Se calculan los gradientes de la función de pérdida con respecto a los parámetros de la red neuronal utilizando el algoritmo de retropropagación (backpropagation). Estos gradientes indican cómo deben ajustarse los pesos y sesgos para reducir la pérdida.\n",
        "\n",
        "**Actualización de los pesos y sesgos:** Se actualizan los parámetros de la red neuronal utilizando los gradientes calculados y la tasa de aprendizaje especificada. Esto se realiza para mover los parámetros en la dirección que minimiza la pérdida.\n",
        "El bucle for se repite durante el número especificado de épocas (epochs), y en cada época se muestra la pérdida actual para monitorear el progreso del entrenamiento. Al final del proceso de entrenamiento, se espera que la pérdida disminuya y la precisión aumente, lo que indica que la red neuronal está aprendiendo adecuadamente a partir de los datos de entrenamiento."
      ],
      "metadata": {
        "id": "WpMzaS3vIYog"
      }
    },
    {
      "cell_type": "code",
      "source": [
        "# Paso 4: Evaluación del modelo\n",
        "z1 = np.dot(X_test, W1) + b1\n",
        "a1 = np.maximum(z1, 0)\n",
        "scores = np.dot(a1, W2) + b2\n",
        "predicted_class = np.argmax(scores, axis=1)\n",
        "accuracy = np.mean(predicted_class == y_test)\n",
        "print(f'Accuracy: {accuracy}')\n"
      ],
      "metadata": {
        "colab": {
          "base_uri": "https://localhost:8080/"
        },
        "id": "iQ4m-8nP2avp",
        "outputId": "374f2230-1f90-48b9-9eb2-5b47b05bae4a"
      },
      "execution_count": 5,
      "outputs": [
        {
          "output_type": "stream",
          "name": "stdout",
          "text": [
            "Accuracy: 0.0962\n"
          ]
        }
      ]
    },
    {
      "cell_type": "markdown",
      "source": [
        "**Propagación hacia adelante (Forward Propagation):** Se aplican las mismas operaciones de propagación hacia adelante que durante el entrenamiento, utilizando los parámetros (pesos y sesgos) que se han aprendido durante el proceso de entrenamiento. Esto implica calcular las activaciones de las neuronas en la capa oculta y la capa de salida.\n",
        "\n",
        "**Predicción de clases:** Se calculan las puntuaciones de salida para cada ejemplo en el conjunto de datos de prueba. Estas puntuaciones se obtienen multiplicando las activaciones de la capa oculta por los pesos de la capa de salida y sumando el sesgo correspondiente. Luego, se determina la clase predicha para cada ejemplo seleccionando la clase con la puntuación más alta utilizando np.argmax.\n",
        "\n",
        "**Cálculo de precisión:** Se compara la clase predicha con las etiquetas reales en el conjunto de datos de prueba para calcular la precisión del modelo. La precisión se define como el porcentaje de ejemplos para los cuales la clase predicha coincide con la etiqueta real.\n",
        "\n",
        "**Impresión de resultados:** Se imprime la precisión del modelo en el conjunto de datos de prueba para evaluar su rendimiento. Una mayor precisión indica que el modelo está haciendo predicciones más precisas sobre los datos de prueba.\n"
      ],
      "metadata": {
        "id": "0bXQmyEkI7fc"
      }
    },
    {
      "cell_type": "markdown",
      "source": [
        "Para mejorar el rendimiento del modelo y optimizar la precisión, hay varias estrategias que  se pueden probar.\n",
        "\n",
        "**Ajuste de hiperparámetros:** Experimentar con diferentes valores para la tasa de aprendizaje, el número de neuronas en la capa oculta, el número de épocas de entrenamiento y otros hiperparámetros.\n",
        "\n",
        "**Regularización**: Agrega técnicas de regularización como la regularización L1 o L2 para evitar el sobreajuste.\n",
        "\n",
        "**Inicialización de pesos:** Probar diferentes métodos de inicialización de pesos para la capa oculta y la capa de salida.\n",
        "\n",
        "**Optimización del algoritmo:**  Utilizar algoritmos de optimización más avanzados como el descenso del gradiente estocástico (SGD), Adam, RMSprop, entre otros.\n",
        "\n",
        "**Exploración de arquitecturas:** Experimentar con arquitecturas de red más complejas, con más capas ocultas y más neuronas por capa."
      ],
      "metadata": {
        "id": "eUJvjtGV3ImN"
      }
    },
    {
      "cell_type": "markdown",
      "source": [
        "Mejoramiento accuracy"
      ],
      "metadata": {
        "id": "DUJZZrfK31rL"
      }
    },
    {
      "cell_type": "code",
      "source": [
        "# Paso 1: Cargar y preprocesar los datos\n",
        "(X_train, y_train), (X_test, y_test) = mnist.load_data()\n",
        "X_train = X_train.reshape(X_train.shape[0], -1) / 255.0\n",
        "X_test = X_test.reshape(X_test.shape[0], -1) / 255.0\n",
        "y_train_one_hot = np.eye(10)[y_train]  # Codificar las etiquetas en one-hot\n",
        "y_test_one_hot = np.eye(10)[y_test]  # Codificar las etiquetas en one-hot\n",
        "\n"
      ],
      "metadata": {
        "id": "RHck2n1z3pF8"
      },
      "execution_count": 6,
      "outputs": []
    },
    {
      "cell_type": "code",
      "source": [
        "# Paso 2: Inicializar los parámetros de la red neuronal\n",
        "input_size = X_train.shape[1]\n",
        "hidden_size = 256\n",
        "output_size = 10\n",
        "learning_rate = 0.01\n",
        "epochs = 50\n",
        "\n",
        "W1 = np.random.randn(input_size, hidden_size) * 0.01\n",
        "b1 = np.zeros(hidden_size)\n",
        "W2 = np.random.randn(hidden_size, output_size) * 0.01\n",
        "b2 = np.zeros(output_size)"
      ],
      "metadata": {
        "id": "i_iCE1EW3-PJ"
      },
      "execution_count": 7,
      "outputs": []
    },
    {
      "cell_type": "code",
      "source": [
        "# Paso 3: Entrenamiento de la red neuronal utilizando descenso del gradiente\n",
        "for epoch in range(epochs):\n",
        "    # Propagación hacia adelante (Forward Propagation)\n",
        "    z1 = np.dot(X_train, W1) + b1\n",
        "    a1 = np.maximum(z1, 0)  # ReLU activation function\n",
        "    z2 = np.dot(a1, W2) + b2\n",
        "    exp_scores = np.exp(z2)\n",
        "    probs = exp_scores / np.sum(exp_scores, axis=1, keepdims=True)\n",
        "\n",
        "    # Cálculo de la pérdida\n",
        "    correct_logprobs = -np.log(probs[range(len(X_train)), y_train])\n",
        "    loss = np.sum(correct_logprobs) / len(X_train)\n",
        "\n",
        "    # Mostrar la pérdida en cada epoch\n",
        "    if epoch % 10 == 0:\n",
        "        print(f'Epoch {epoch}: loss {loss}')\n",
        "\n",
        "    # Cálculo de los gradientes (Backpropagation)\n",
        "    dprobs = probs\n",
        "    dprobs[range(len(X_train)), y_train] -= 1\n",
        "    dprobs /= len(X_train)\n",
        "\n",
        "    dW2 = np.dot(a1.T, dprobs)\n",
        "    db2 = np.sum(dprobs, axis=0, keepdims=True)\n",
        "    dhidden = np.dot(dprobs, W2.T)\n",
        "    dhidden[a1 <= 0] = 0\n",
        "\n",
        "    dW1 = np.dot(X_train.T, dhidden)\n",
        "    db1 = np.sum(dhidden, axis=0, keepdims=True)\n",
        "\n",
        "    # Actualización de los pesos y sesgos\n",
        "    W1 -= learning_rate * dW1\n",
        "    b1 -= learning_rate * db1.squeeze()\n",
        "    W2 -= learning_rate * dW2\n",
        "    b2 -= learning_rate * db2.squeeze()"
      ],
      "metadata": {
        "colab": {
          "base_uri": "https://localhost:8080/"
        },
        "id": "A5YkxKMW4IQ9",
        "outputId": "6965c135-2863-43e9-af0a-0ebdc8e8e5ea"
      },
      "execution_count": 8,
      "outputs": [
        {
          "output_type": "stream",
          "name": "stdout",
          "text": [
            "Epoch 0: loss 2.303269507319099\n",
            "Epoch 10: loss 2.301016712980027\n",
            "Epoch 20: loss 2.2987634558436705\n",
            "Epoch 30: loss 2.2964879764775015\n",
            "Epoch 40: loss 2.29416871266125\n"
          ]
        }
      ]
    },
    {
      "cell_type": "code",
      "source": [
        "# Paso 4: Evaluación del modelo\n",
        "z1 = np.dot(X_test, W1) + b1\n",
        "a1 = np.maximum(z1, 0)\n",
        "scores = np.dot(a1, W2) + b2\n",
        "predicted_class = np.argmax(scores, axis=1)\n",
        "accuracy = np.mean(predicted_class == y_test)\n",
        "print(f'Accuracy: {accuracy}')"
      ],
      "metadata": {
        "colab": {
          "base_uri": "https://localhost:8080/"
        },
        "id": "cMgm_lek4q9w",
        "outputId": "0d3d30ef-74fd-4565-8ef3-ea8be33feaf1"
      },
      "execution_count": 9,
      "outputs": [
        {
          "output_type": "stream",
          "name": "stdout",
          "text": [
            "Accuracy: 0.3969\n"
          ]
        }
      ]
    },
    {
      "cell_type": "markdown",
      "source": [
        "Pudimos mejorar Accuracy cambiando algunos hiperpametros del modelo"
      ],
      "metadata": {
        "id": "HAIX43qk4wt4"
      }
    },
    {
      "cell_type": "markdown",
      "source": [
        "Implementación con arquitectura CNN"
      ],
      "metadata": {
        "id": "nyjCDpoPJLgW"
      }
    },
    {
      "cell_type": "code",
      "source": [
        "from tensorflow.keras.models import Sequential\n",
        "from tensorflow.keras.layers import Conv2D, MaxPooling2D, Flatten, Dense"
      ],
      "metadata": {
        "id": "6W3FEsjn4v9t"
      },
      "execution_count": 10,
      "outputs": []
    },
    {
      "cell_type": "code",
      "source": [
        "# Paso 1: Cargar y preprocesar los datos\n",
        "(X_train, y_train), (X_test, y_test) = mnist.load_data()\n",
        "X_train = X_train.reshape(X_train.shape[0], 28, 28, 1).astype('float32') / 255.0\n",
        "X_test = X_test.reshape(X_test.shape[0], 28, 28, 1).astype('float32') / 255.0\n",
        "y_train_one_hot = np.eye(10)[y_train]  # Codificar las etiquetas en one-hot\n",
        "y_test_one_hot = np.eye(10)[y_test]  # Codificar las etiquetas en one-hot\n",
        "\n"
      ],
      "metadata": {
        "id": "r9m-ykmb5ntk"
      },
      "execution_count": 11,
      "outputs": []
    },
    {
      "cell_type": "code",
      "source": [
        "# Paso 2: Construir el modelo CNN\n",
        "model = Sequential([\n",
        "    Conv2D(32, (3, 3), activation='relu', input_shape=(28, 28, 1)),\n",
        "    MaxPooling2D((2, 2)),\n",
        "    Conv2D(64, (3, 3), activation='relu'),\n",
        "    MaxPooling2D((2, 2)),\n",
        "    Flatten(),\n",
        "    Dense(64, activation='relu'),\n",
        "    Dense(10, activation='softmax')\n",
        "])\n",
        "\n",
        "\n"
      ],
      "metadata": {
        "id": "33fPA40P5q8B"
      },
      "execution_count": 12,
      "outputs": []
    },
    {
      "cell_type": "code",
      "source": [
        "# Paso 3: Compilar el modelo\n",
        "model.compile(optimizer='adam', loss='sparse_categorical_crossentropy', metrics=['accuracy'])\n"
      ],
      "metadata": {
        "id": "Ux9kXgA55ulF"
      },
      "execution_count": 13,
      "outputs": []
    },
    {
      "cell_type": "code",
      "source": [
        "# Entrenar el modelo y guardar el historial\n",
        "history = model.fit(X_train, y_train, epochs=50, validation_data=(X_test, y_test), verbose=1)"
      ],
      "metadata": {
        "colab": {
          "base_uri": "https://localhost:8080/"
        },
        "id": "NPOGyyJU5zAY",
        "outputId": "4be688ec-629f-443c-a1df-f14098842b63"
      },
      "execution_count": 14,
      "outputs": [
        {
          "output_type": "stream",
          "name": "stdout",
          "text": [
            "Epoch 1/50\n",
            "1875/1875 [==============================] - 60s 31ms/step - loss: 0.1455 - accuracy: 0.9561 - val_loss: 0.0519 - val_accuracy: 0.9831\n",
            "Epoch 2/50\n",
            "1875/1875 [==============================] - 60s 32ms/step - loss: 0.0464 - accuracy: 0.9853 - val_loss: 0.0441 - val_accuracy: 0.9855\n",
            "Epoch 3/50\n",
            "1875/1875 [==============================] - 58s 31ms/step - loss: 0.0330 - accuracy: 0.9896 - val_loss: 0.0333 - val_accuracy: 0.9896\n",
            "Epoch 4/50\n",
            "1875/1875 [==============================] - 60s 32ms/step - loss: 0.0232 - accuracy: 0.9926 - val_loss: 0.0344 - val_accuracy: 0.9881\n",
            "Epoch 5/50\n",
            "1875/1875 [==============================] - 57s 30ms/step - loss: 0.0188 - accuracy: 0.9941 - val_loss: 0.0361 - val_accuracy: 0.9892\n",
            "Epoch 6/50\n",
            "1875/1875 [==============================] - 56s 30ms/step - loss: 0.0146 - accuracy: 0.9952 - val_loss: 0.0327 - val_accuracy: 0.9899\n",
            "Epoch 7/50\n",
            "1875/1875 [==============================] - 58s 31ms/step - loss: 0.0111 - accuracy: 0.9963 - val_loss: 0.0366 - val_accuracy: 0.9890\n",
            "Epoch 8/50\n",
            "1875/1875 [==============================] - 59s 31ms/step - loss: 0.0085 - accuracy: 0.9974 - val_loss: 0.0346 - val_accuracy: 0.9913\n",
            "Epoch 9/50\n",
            "1875/1875 [==============================] - 61s 32ms/step - loss: 0.0081 - accuracy: 0.9976 - val_loss: 0.0409 - val_accuracy: 0.9892\n",
            "Epoch 10/50\n",
            "1875/1875 [==============================] - 57s 30ms/step - loss: 0.0073 - accuracy: 0.9976 - val_loss: 0.0399 - val_accuracy: 0.9909\n",
            "Epoch 11/50\n",
            "1875/1875 [==============================] - 56s 30ms/step - loss: 0.0062 - accuracy: 0.9980 - val_loss: 0.0412 - val_accuracy: 0.9903\n",
            "Epoch 12/50\n",
            "1875/1875 [==============================] - 58s 31ms/step - loss: 0.0052 - accuracy: 0.9981 - val_loss: 0.0435 - val_accuracy: 0.9899\n",
            "Epoch 13/50\n",
            "1875/1875 [==============================] - 57s 31ms/step - loss: 0.0056 - accuracy: 0.9979 - val_loss: 0.0470 - val_accuracy: 0.9902\n",
            "Epoch 14/50\n",
            "1875/1875 [==============================] - 56s 30ms/step - loss: 0.0050 - accuracy: 0.9984 - val_loss: 0.0354 - val_accuracy: 0.9928\n",
            "Epoch 15/50\n",
            "1875/1875 [==============================] - 60s 32ms/step - loss: 0.0042 - accuracy: 0.9985 - val_loss: 0.0471 - val_accuracy: 0.9907\n",
            "Epoch 16/50\n",
            "1875/1875 [==============================] - 57s 30ms/step - loss: 0.0041 - accuracy: 0.9987 - val_loss: 0.0452 - val_accuracy: 0.9912\n",
            "Epoch 17/50\n",
            "1875/1875 [==============================] - 58s 31ms/step - loss: 0.0043 - accuracy: 0.9985 - val_loss: 0.0646 - val_accuracy: 0.9888\n",
            "Epoch 18/50\n",
            "1875/1875 [==============================] - 58s 31ms/step - loss: 0.0039 - accuracy: 0.9989 - val_loss: 0.0478 - val_accuracy: 0.9897\n",
            "Epoch 19/50\n",
            "1875/1875 [==============================] - 58s 31ms/step - loss: 0.0039 - accuracy: 0.9987 - val_loss: 0.0544 - val_accuracy: 0.9902\n",
            "Epoch 20/50\n",
            "1875/1875 [==============================] - 59s 32ms/step - loss: 0.0028 - accuracy: 0.9990 - val_loss: 0.0707 - val_accuracy: 0.9882\n",
            "Epoch 21/50\n",
            "1875/1875 [==============================] - 57s 30ms/step - loss: 0.0030 - accuracy: 0.9990 - val_loss: 0.0594 - val_accuracy: 0.9892\n",
            "Epoch 22/50\n",
            "1875/1875 [==============================] - 59s 32ms/step - loss: 0.0028 - accuracy: 0.9991 - val_loss: 0.0591 - val_accuracy: 0.9905\n",
            "Epoch 23/50\n",
            "1875/1875 [==============================] - 57s 31ms/step - loss: 0.0035 - accuracy: 0.9988 - val_loss: 0.0686 - val_accuracy: 0.9901\n",
            "Epoch 24/50\n",
            "1875/1875 [==============================] - 60s 32ms/step - loss: 0.0021 - accuracy: 0.9994 - val_loss: 0.0571 - val_accuracy: 0.9908\n",
            "Epoch 25/50\n",
            "1875/1875 [==============================] - 60s 32ms/step - loss: 0.0038 - accuracy: 0.9989 - val_loss: 0.0588 - val_accuracy: 0.9905\n",
            "Epoch 26/50\n",
            "1875/1875 [==============================] - 60s 32ms/step - loss: 0.0019 - accuracy: 0.9994 - val_loss: 0.0593 - val_accuracy: 0.9902\n",
            "Epoch 27/50\n",
            "1875/1875 [==============================] - 57s 30ms/step - loss: 0.0039 - accuracy: 0.9988 - val_loss: 0.0601 - val_accuracy: 0.9914\n",
            "Epoch 28/50\n",
            "1875/1875 [==============================] - 58s 31ms/step - loss: 0.0030 - accuracy: 0.9989 - val_loss: 0.0533 - val_accuracy: 0.9921\n",
            "Epoch 29/50\n",
            "1875/1875 [==============================] - 57s 30ms/step - loss: 0.0022 - accuracy: 0.9993 - val_loss: 0.0715 - val_accuracy: 0.9911\n",
            "Epoch 30/50\n",
            "1875/1875 [==============================] - 58s 31ms/step - loss: 0.0031 - accuracy: 0.9990 - val_loss: 0.0827 - val_accuracy: 0.9875\n",
            "Epoch 31/50\n",
            "1875/1875 [==============================] - 57s 30ms/step - loss: 0.0025 - accuracy: 0.9992 - val_loss: 0.0592 - val_accuracy: 0.9920\n",
            "Epoch 32/50\n",
            "1875/1875 [==============================] - 57s 30ms/step - loss: 0.0025 - accuracy: 0.9993 - val_loss: 0.0716 - val_accuracy: 0.9900\n",
            "Epoch 33/50\n",
            "1875/1875 [==============================] - 56s 30ms/step - loss: 0.0028 - accuracy: 0.9990 - val_loss: 0.0716 - val_accuracy: 0.9908\n",
            "Epoch 34/50\n",
            "1875/1875 [==============================] - 54s 29ms/step - loss: 0.0015 - accuracy: 0.9995 - val_loss: 0.0798 - val_accuracy: 0.9895\n",
            "Epoch 35/50\n",
            "1875/1875 [==============================] - 56s 30ms/step - loss: 0.0029 - accuracy: 0.9992 - val_loss: 0.0608 - val_accuracy: 0.9915\n",
            "Epoch 36/50\n",
            "1875/1875 [==============================] - 55s 29ms/step - loss: 0.0018 - accuracy: 0.9996 - val_loss: 0.0578 - val_accuracy: 0.9912\n",
            "Epoch 37/50\n",
            "1875/1875 [==============================] - 58s 31ms/step - loss: 0.0042 - accuracy: 0.9988 - val_loss: 0.0732 - val_accuracy: 0.9915\n",
            "Epoch 38/50\n",
            "1875/1875 [==============================] - 56s 30ms/step - loss: 0.0020 - accuracy: 0.9995 - val_loss: 0.0804 - val_accuracy: 0.9905\n",
            "Epoch 39/50\n",
            "1875/1875 [==============================] - 56s 30ms/step - loss: 0.0019 - accuracy: 0.9995 - val_loss: 0.0977 - val_accuracy: 0.9890\n",
            "Epoch 40/50\n",
            "1875/1875 [==============================] - 60s 32ms/step - loss: 0.0021 - accuracy: 0.9994 - val_loss: 0.1047 - val_accuracy: 0.9904\n",
            "Epoch 41/50\n",
            "1875/1875 [==============================] - 57s 30ms/step - loss: 0.0027 - accuracy: 0.9990 - val_loss: 0.0986 - val_accuracy: 0.9893\n",
            "Epoch 42/50\n",
            "1875/1875 [==============================] - 57s 30ms/step - loss: 0.0024 - accuracy: 0.9994 - val_loss: 0.0784 - val_accuracy: 0.9907\n",
            "Epoch 43/50\n",
            "1875/1875 [==============================] - 59s 31ms/step - loss: 0.0021 - accuracy: 0.9995 - val_loss: 0.1116 - val_accuracy: 0.9891\n",
            "Epoch 44/50\n",
            "1875/1875 [==============================] - 58s 31ms/step - loss: 0.0017 - accuracy: 0.9996 - val_loss: 0.0886 - val_accuracy: 0.9913\n",
            "Epoch 45/50\n",
            "1875/1875 [==============================] - 56s 30ms/step - loss: 0.0023 - accuracy: 0.9994 - val_loss: 0.0979 - val_accuracy: 0.9914\n",
            "Epoch 46/50\n",
            "1875/1875 [==============================] - 60s 32ms/step - loss: 0.0021 - accuracy: 0.9995 - val_loss: 0.1317 - val_accuracy: 0.9882\n",
            "Epoch 47/50\n",
            "1875/1875 [==============================] - 57s 30ms/step - loss: 0.0027 - accuracy: 0.9994 - val_loss: 0.1137 - val_accuracy: 0.9895\n",
            "Epoch 48/50\n",
            "1875/1875 [==============================] - 59s 32ms/step - loss: 0.0024 - accuracy: 0.9995 - val_loss: 0.0862 - val_accuracy: 0.9916\n",
            "Epoch 49/50\n",
            "1875/1875 [==============================] - 60s 32ms/step - loss: 0.0026 - accuracy: 0.9992 - val_loss: 0.0985 - val_accuracy: 0.9911\n",
            "Epoch 50/50\n",
            "1875/1875 [==============================] - 57s 31ms/step - loss: 0.0018 - accuracy: 0.9995 - val_loss: 0.1241 - val_accuracy: 0.9888\n"
          ]
        }
      ]
    },
    {
      "cell_type": "code",
      "source": [
        "# Paso 5: Evaluar el modelo\n",
        "test_loss, test_accuracy = model.evaluate(X_test, y_test)\n",
        "print(f'Accuracy: {test_accuracy}')"
      ],
      "metadata": {
        "colab": {
          "base_uri": "https://localhost:8080/"
        },
        "id": "M6bSFlA053EF",
        "outputId": "e4f66343-3c41-415a-d87c-943776c1608c"
      },
      "execution_count": 15,
      "outputs": [
        {
          "output_type": "stream",
          "name": "stdout",
          "text": [
            "313/313 [==============================] - 3s 9ms/step - loss: 0.1241 - accuracy: 0.9888\n",
            "Accuracy: 0.9887999892234802\n"
          ]
        }
      ]
    },
    {
      "cell_type": "code",
      "source": [
        "# Obtener los valores de pérdida y precisión durante el entrenamiento\n",
        "train_loss = history.history['loss']\n",
        "train_accuracy = history.history['accuracy']\n",
        "test_loss = history.history['val_loss']\n",
        "test_accuracy = history.history['val_accuracy']"
      ],
      "metadata": {
        "id": "0LG6vJmv8mFS"
      },
      "execution_count": 16,
      "outputs": []
    },
    {
      "cell_type": "markdown",
      "source": [
        "Verificación de overfitting"
      ],
      "metadata": {
        "id": "JLxJgtCP8Pd7"
      }
    },
    {
      "cell_type": "code",
      "source": [
        "import matplotlib.pyplot as plt\n",
        "\n",
        "# Obtener el número de épocas\n",
        "epochs = range(1, len(train_loss) + 1)\n",
        "\n",
        "# Graficar la pérdida\n",
        "plt.figure(figsize=(10, 6))\n",
        "plt.plot(epochs, train_loss, 'r', label='Pérdida de entrenamiento')\n",
        "plt.plot(epochs, test_loss, 'b', label='Pérdida de validación')\n",
        "plt.title('Pérdida durante el entrenamiento')\n",
        "plt.xlabel('Épocas')\n",
        "plt.ylabel('Pérdida')\n",
        "plt.legend()\n",
        "plt.show()\n",
        "\n",
        "# Graficar la precisión\n",
        "plt.figure(figsize=(10, 6))\n",
        "plt.plot(epochs, train_accuracy, 'r', label='Precisión de entrenamiento')\n",
        "plt.plot(epochs, test_accuracy, 'b', label='Precisión de validación')\n",
        "plt.title('Precisión durante el entrenamiento')\n",
        "plt.xlabel('Épocas')\n",
        "plt.ylabel('Precisión')\n",
        "plt.legend()\n",
        "plt.show()"
      ],
      "metadata": {
        "colab": {
          "base_uri": "https://localhost:8080/",
          "height": 1000
        },
        "id": "R84TF65y-ex2",
        "outputId": "84483874-879a-4f8d-c87d-c6f840f4e124"
      },
      "execution_count": 18,
      "outputs": [
        {
          "output_type": "display_data",
          "data": {
            "text/plain": [
              "<Figure size 1000x600 with 1 Axes>"
            ],
            "image/png": "[encoded data removed]"
          },
          "metadata": {}
        },
        {
          "output_type": "display_data",
          "data": {
            "text/plain": [
              "<Figure size 1000x600 with 1 Axes>"
            ],
            "image/png": "[encoded data removed]"
          },
          "metadata": {}
        }
      ]
    },
    {
      "cell_type": "markdown",
      "source": [
        "La gráfica muestra que el modelo está aprendiendo y mejorando su rendimiento tanto en los datos de entrenamiento como en los datos de validación. Esto es una señal positiva de que el modelo está en camino de alcanzar un buen rendimiento.\n",
        "\n",
        "**Detalles adicionales:**\n",
        "\n",
        "**Épocas:** Una época es una iteración completa sobre el conjunto de datos de entrenamiento. En este caso, el modelo se entrenó con 50 épocas, lo que significa que se pasó por el conjunto de datos de entrenamiento 50 veces.\n",
        "\n",
        "**Pérdida:** La pérdida se mide en una unidad arbitraria. La escala específica de la unidad de pérdida no es importante, ya que solo nos interesa la tendencia general de la pérdida a lo largo de las épocas.\n",
        "\n",
        "**Conclusión:**\n",
        "\n",
        "La gráfica muestra que el modelo está aprendiendo y mejorando su rendimiento. Es una señal positiva de que el modelo está en camino de alcanzar un buen rendimiento.\n",
        "\n",
        "En el segunndo gráfico se muestra  la precisión de un modelo de aprendizaje automático durante una sesión de entrenamiento. La precisión se mide en porcentaje y representa la proporción de veces que el modelo predice correctamente la clase de una instancia.\n",
        "\n",
        "**Eje X**: El eje X representa el número de épocas. Una época es una iteración completa sobre el conjunto de datos de entrenamiento.\n",
        "\n",
        "Eje Y: El eje Y representa la precisión del modelo. La precisión se mide en porcentaje y representa la proporción de veces que el modelo predice correctamente la clase de una instancia.\n",
        "\n",
        "**Curvas:**\n",
        "\n",
        "**Precisión de entrenamiento:** La curva roja representa la precisión del modelo en los datos de entrenamiento. En general, la precisión de entrenamiento aumenta a lo largo de las épocas. Esto significa que el modelo está aprendiendo y mejorando su capacidad para predecir correctamente las clases de las instancias de entrenamiento.\n",
        "\n",
        "**Precisión de validación:** La curva azul representa la precisión del modelo en los datos de validación. Los datos de validación no se utilizan para entrenar el modelo, sino para evaluar su rendimiento en datos nuevos. En general, la precisión de validación también aumenta a lo largo de las épocas, pero a un ritmo más lento que la precisión de entrenamiento. Esto es normal, ya que el modelo se optimiza para los datos de entrenamiento, pero también debe ser capaz de generalizar a los datos de validación.\n",
        "\n",
        "**Interpretación general:**\n",
        "\n",
        "En general, la gráfica muestra que el modelo está aprendiendo y mejorando su rendimiento tanto en los datos de entrenamiento como en los datos de validación.\n",
        "\n",
        "**Detalles adicionales:**\n",
        "\n",
        "Convergencia: La gráfica muestra que el modelo converge en una precisión de alrededor del 99%. Esto significa que el modelo no está mejorando significativamente a partir de la época 30 aproximadamente.\n",
        "\n",
        "Sobreajuste: Es importante vigilar la precisión de validación para asegurarse de que el modelo no está sobreajustándose a los datos de entrenamiento. El sobreajuste se produce cuando el modelo aprende los datos de entrenamiento tan bien que no puede generalizar a los datos nuevos. En el gráfico, la precisión de validación sigue aumentando incluso después de que la precisión de entrenamiento ha convergido. Esto es una señal positiva de que el modelo no está sobreajustándose.\n",
        "\n"
      ],
      "metadata": {
        "id": "WkIpZWYpCSGa"
      }
    },
    {
      "cell_type": "markdown",
      "source": [
        "Vamos a probar con otro código para el descenso del gradiente sin pasar por CNN que es una arquitectura definida para imagénes"
      ],
      "metadata": {
        "id": "3Lh4TUUfEHFP"
      }
    },
    {
      "cell_type": "code",
      "source": [
        "# Cargar el dataset MNIST\n",
        "(X_train, y_train), (X_test, y_test) = mnist.load_data()"
      ],
      "metadata": {
        "id": "sJZ_L6NkERii"
      },
      "execution_count": 19,
      "outputs": []
    },
    {
      "cell_type": "code",
      "source": [
        "# Preprocesar los datos\n",
        "X_train = X_train.reshape(-1, 784) / 255.0\n",
        "X_test = X_test.reshape(-1, 784) / 255.0"
      ],
      "metadata": {
        "id": "sPbeJtu_EU7Q"
      },
      "execution_count": 20,
      "outputs": []
    },
    {
      "cell_type": "markdown",
      "source": [
        "El reshape(-1, 784) se utiliza para aplanar las imágenes MNIST en vectores de características de 784 dimensiones.\n",
        "\n",
        "Las imágenes MNIST tienen un tamaño de 28x28 píxeles. Cada imagen tiene 28 * 28 = 784 píxeles. Originalmente, los datos X_train y X_test tienen la forma (num_ejemplos, 28, 28), donde num_ejemplos es el número de imágenes en el conjunto de entrenamiento o prueba, respectivamente. Para poder realizar operaciones algebraicas con las imágenes (como multiplicación de matrices), necesitamos convertirlas en vectores de características de una sola dimensión. El reshape(-1, 784) realiza esta conversión de la siguiente manera:\n",
        "\n",
        "-1 indica que NumPy debe calcular automáticamente el valor de esa dimensión para que la operación de reshape sea consistente con los datos originales. 784 es la nueva dimensión que queremos para cada ejemplo (imagen aplanada).\n",
        "\n",
        "Después de aplicar reshape(-1, 784):\n",
        "\n",
        "X_train tendrá una forma (num_ejemplos_entrenamiento, 784), donde cada fila representa una imagen aplanada como un vector de 784 dimensiones. X_test tendrá una forma (num_ejemplos_prueba, 784), con la misma interpretación que X_train."
      ],
      "metadata": {
        "id": "PxDQYAFGEW0r"
      }
    },
    {
      "cell_type": "code",
      "source": [
        "# Convertir las etiquetas a vectores one-hot\n",
        "y_train = np.eye(10)[y_train]\n",
        "y_test = np.eye(10)[y_test]"
      ],
      "metadata": {
        "id": "5QWZZzG5EZHg"
      },
      "execution_count": 21,
      "outputs": []
    },
    {
      "cell_type": "markdown",
      "source": [
        "La función np.eye(10) crea una matriz identidad de tamaño 10x10, donde cada fila representa una clase diferente. Luego, se accede a las filas correspondientes a las etiquetas de las clases originales (y_train y y_test) utilizando indexación por array, lo que efectivamente convierte cada etiqueta de clase en un vector one-hot encoding.\n",
        "\n",
        "Por ejemplo, si y_train o y_test es un array de forma (m,) donde m es el número de ejemplos y cada valor representa la clase a la que pertenece ese ejemplo, la operación np.eye(10)[y_train] o np.eye(10)[y_test] convertirá cada valor en un vector one-hot encoding de longitud 10, donde todas las entradas son cero excepto la correspondiente a la clase, que será uno."
      ],
      "metadata": {
        "id": "LP8_HfclEdb-"
      }
    },
    {
      "cell_type": "code",
      "source": [
        "# Definir la función de costo (cross-entropy) y la función de predicción\n",
        "def cross_entropy(y_true, y_pred):\n",
        "    return -np.sum(y_true * np.log(y_pred), axis=1)\n",
        "\n",
        "def softmax(x):\n",
        "    exp_x = np.exp(x - np.max(x, axis=1, keepdims=True))\n",
        "    return exp_x / np.sum(exp_x, axis=1, keepdims=True)"
      ],
      "metadata": {
        "id": "hLMTm_EPEeHp"
      },
      "execution_count": 22,
      "outputs": []
    },
    {
      "cell_type": "markdown",
      "source": [
        "\n",
        "Descenso del gradiente\n",
        "[ ]\n",
        "# Importación de librerías\n",
        "import numpy as np\n",
        "import tensorflow as tf\n",
        "from tensorflow.keras.datasets import mnist\n",
        "[ ]\n",
        "# Cargar el dataset MNIST\n",
        "(X_train, y_train), (X_test, y_test) = mnist.load_data()\n",
        "[ ]\n",
        "# Preprocesar los datos\n",
        "X_train = X_train.reshape(-1, 784) / 255.0\n",
        "X_test = X_test.reshape(-1, 784) / 255.0\n",
        "El reshape(-1, 784) se utiliza para aplanar las imágenes MNIST en vectores de características de 784 dimensiones.\n",
        "\n",
        "Las imágenes MNIST tienen un tamaño de 28x28 píxeles. Cada imagen tiene 28 * 28 = 784 píxeles. Originalmente, los datos X_train y X_test tienen la forma (num_ejemplos, 28, 28), donde num_ejemplos es el número de imágenes en el conjunto de entrenamiento o prueba, respectivamente. Para poder realizar operaciones algebraicas con las imágenes (como multiplicación de matrices), necesitamos convertirlas en vectores de características de una sola dimensión. El reshape(-1, 784) realiza esta conversión de la siguiente manera:\n",
        "\n",
        "-1 indica que NumPy debe calcular automáticamente el valor de esa dimensión para que la operación de reshape sea consistente con los datos originales. 784 es la nueva dimensión que queremos para cada ejemplo (imagen aplanada).\n",
        "\n",
        "Después de aplicar reshape(-1, 784):\n",
        "\n",
        "X_train tendrá una forma (num_ejemplos_entrenamiento, 784), donde cada fila representa una imagen aplanada como un vector de 784 dimensiones. X_test tendrá una forma (num_ejemplos_prueba, 784), con la misma interpretación que X_train.\n",
        "\n",
        "[ ]\n",
        "# Convertir las etiquetas a vectores one-hot\n",
        "y_train = np.eye(10)[y_train]\n",
        "y_test = np.eye(10)[y_test]\n",
        "\n",
        "La función np.eye(10) crea una matriz identidad de tamaño 10x10, donde cada fila representa una clase diferente. Luego, se accede a las filas correspondientes a las etiquetas de las clases originales (y_train y y_test) utilizando indexación por array, lo que efectivamente convierte cada etiqueta de clase en un vector one-hot encoding.\n",
        "\n",
        "Por ejemplo, si y_train o y_test es un array de forma (m,) donde m es el número de ejemplos y cada valor representa la clase a la que pertenece ese ejemplo, la operación np.eye(10)[y_train] o np.eye(10)[y_test] convertirá cada valor en un vector one-hot encoding de longitud 10, donde todas las entradas son cero excepto la correspondiente a la clase, que será uno.\n",
        "\n",
        "[ ]\n",
        "# Definir la función de costo (cross-entropy) y la función de predicción\n",
        "def cross_entropy(y_true, y_pred):\n",
        "    return -np.sum(y_true * np.log(y_pred), axis=1)\n",
        "\n",
        "def softmax(x):\n",
        "    exp_x = np.exp(x - np.max(x, axis=1, keepdims=True))\n",
        "    return exp_x / np.sum(exp_x, axis=1, keepdims=True)\n",
        "Estas dos funciones son comúnmente utilizadas en problemas de clasificación para calcular la pérdida (entropía cruzada) y aplicar la función softmax para obtener probabilidades normalizadas.\n",
        "\n",
        "La función cross_entropy(y_true, y_pred) calcula la entropía cruzada entre las etiquetas reales (y_true) y las predicciones del modelo (y_pred). En el contexto de clasificación multiclase, la entropía cruzada mide la discrepancia entre las distribuciones de probabilidad de las etiquetas reales y las predichas por el modelo. La función softmax(x) calcula la función softmax de un array de valores. La función softmax toma un vector de valores y los convierte en una distribución de probabilidad, donde cada valor es transformado en un valor entre 0 y 1 que representa la probabilidad de pertenecer a una de las clases."
      ],
      "metadata": {
        "id": "zgK966MMEgvW"
      }
    },
    {
      "cell_type": "code",
      "source": [
        "def predict(X, W, b):\n",
        "    return softmax(np.dot(X, W) + b)\n"
      ],
      "metadata": {
        "id": "OtaprxPrEi6k"
      },
      "execution_count": 23,
      "outputs": []
    },
    {
      "cell_type": "markdown",
      "source": [
        "El código proporciona una función para realizar predicciones utilizando un modelo de clasificación lineal (también conocido como regresión logística multinomial) con la función softmax para generar probabilidades de clase.\n",
        "\n",
        "X: Es una matriz de características de entrada, donde cada fila representa una muestra y cada columna representa una característica. W: Es una matriz de pesos que define la relación entre las características de entrada y las clases de salida. b: Es un vector de sesgo que permite al modelo ajustar la predicción. La función realiza los siguientes pasos:\n",
        "\n",
        "Calcula la salida del modelo lineal multiplicando la matriz de características de entrada X por la matriz de pesos W y sumando el sesgo b: np.dot(X, W) + b. Aplica la función softmax a la salida del modelo lineal para obtener las probabilidades de cada clase. La función softmax transforma los valores de la salida en una distribución de probabilidad, asegurando que la suma de las probabilidades sea igual a 1 y que cada valor esté en el rango [0, 1]."
      ],
      "metadata": {
        "id": "Amk5TBUHEoFT"
      }
    },
    {
      "cell_type": "code",
      "source": [
        "# Inicializar los pesos y los sesgos\n",
        "np.random.seed(42)\n",
        "W = np.random.randn(784, 10) * 0.01\n",
        "b = np.zeros(10)"
      ],
      "metadata": {
        "id": "a1V3EL5jEqFt"
      },
      "execution_count": 24,
      "outputs": []
    },
    {
      "cell_type": "markdown",
      "source": [
        "np.random.seed(42): Esta línea establece la semilla aleatoria para el generador de números aleatorios de NumPy. Al fijar la semilla, garantizamos que los números aleatorios generados sean los mismos en cada ejecución del código. Esto proporciona reproducibilidad en los experimentos y resultados consistentes. W = np.random.randn(784, 10) * 0.01: Aquí se inicializa la matriz de pesos W. La función np.random.randn genera números aleatorios distribuidos normalmente con media 0 y varianza 1. Multiplicar por 0.01 escala los valores para que sean pequeños. La matriz resultante tiene dimensiones (784, 10), donde 784 representa el número de características de entrada y 10 el número de clases de salida. b = np.zeros(10): Esta línea inicializa el vector de sesgo b con ceros. El sesgo proporciona al modelo cierta flexibilidad para ajustar la predicción incluso si todas las características son cero. La dimensión del vector de sesgo es (10,), ya que hay un sesgo para cada una de las 10 clases de salida."
      ],
      "metadata": {
        "id": "B5Futct5Esxt"
      }
    },
    {
      "cell_type": "code",
      "source": [
        "# Descenso del gradiente\n",
        "learning_rate = 0.1\n",
        "batch_size = 32\n",
        "num_epochs = 10\n",
        "\n",
        "for epoch in range(num_epochs):\n",
        "    for i in range(0, X_train.shape[0], batch_size):\n",
        "        X_batch = X_train[i:i+batch_size]\n",
        "        y_batch = y_train[i:i+batch_size]\n",
        "\n",
        "        # Calcular las predicciones y el error\n",
        "        y_pred = predict(X_batch, W, b)\n",
        "        error = cross_entropy(y_batch, y_pred)\n",
        "\n",
        "        # Calcular los gradientes\n",
        "        grad_W = np.dot(X_batch.T, (y_pred - y_batch)) / batch_size\n",
        "        grad_b = np.mean(y_pred - y_batch, axis=0)\n",
        "\n",
        "        # Actualizar los pesos y los sesgos\n",
        "        W -= learning_rate * grad_W\n",
        "        b -= learning_rate * grad_b\n",
        "\n",
        "    # Calcular la precisión en el conjunto de entrenamiento\n",
        "    y_pred_train = predict(X_train, W, b)\n",
        "    accuracy_train = np.mean(np.argmax(y_pred_train, axis=1) == np.argmax(y_train, axis=1))\n",
        "\n",
        "    # Calcular la precisión en el conjunto de prueba\n",
        "    y_pred_test = predict(X_test, W, b)\n",
        "    accuracy_test = np.mean(np.argmax(y_pred_test, axis=1) == np.argmax(y_test, axis=1))\n",
        "\n",
        "    print(f\"Epoch {epoch+1}/{num_epochs}, Train Accuracy: {accuracy_train:.4f}, Test Accuracy: {accuracy_test:.4f}\")"
      ],
      "metadata": {
        "colab": {
          "base_uri": "https://localhost:8080/"
        },
        "id": "Hu3soH9mEu-G",
        "outputId": "0f2d42a7-bbcd-4965-be97-4a18ac87d97e"
      },
      "execution_count": 25,
      "outputs": [
        {
          "output_type": "stream",
          "name": "stdout",
          "text": [
            "Epoch 1/10, Train Accuracy: 0.9034, Test Accuracy: 0.9088\n",
            "Epoch 2/10, Train Accuracy: 0.9108, Test Accuracy: 0.9139\n",
            "Epoch 3/10, Train Accuracy: 0.9144, Test Accuracy: 0.9150\n",
            "Epoch 4/10, Train Accuracy: 0.9168, Test Accuracy: 0.9164\n",
            "Epoch 5/10, Train Accuracy: 0.9182, Test Accuracy: 0.9167\n",
            "Epoch 6/10, Train Accuracy: 0.9193, Test Accuracy: 0.9175\n",
            "Epoch 7/10, Train Accuracy: 0.9201, Test Accuracy: 0.9185\n",
            "Epoch 8/10, Train Accuracy: 0.9210, Test Accuracy: 0.9195\n",
            "Epoch 9/10, Train Accuracy: 0.9219, Test Accuracy: 0.9194\n",
            "Epoch 10/10, Train Accuracy: 0.9222, Test Accuracy: 0.9194\n"
          ]
        }
      ]
    },
    {
      "cell_type": "markdown",
      "source": [
        "Configuración de hiperparámetros: Se establecen tres hiperparámetros importantes: la tasa de aprendizaje (learning_rate), el tamaño del lote (batch_size) y el número de épocas (num_epochs). Estos valores controlan cómo se actualizan los pesos del modelo y cuántas veces se repite el proceso de entrenamiento. Bucle de épocas: Se ejecuta un bucle principal a lo largo de las épocas. Cada época representa una pasada completa a través de todo el conjunto de datos de entrenamiento. Bucle de lotes: Dentro de cada época, se divide el conjunto de entrenamiento en lotes de tamaño batch_size. Esto permite procesar el conjunto de datos en pequeñas porciones, lo que es útil para la eficiencia del cálculo y la estabilidad del entrenamiento. Cálculo de predicciones y error: Para cada lote, se calculan las predicciones del modelo y se calcula el error utilizando una función de pérdida llamada entropía cruzada (cross_entropy). Cálculo de gradientes: Se calculan los gradientes de la función de pérdida con respecto a los pesos y sesgos del modelo. Estos gradientes indican cómo cambiar los parámetros del modelo para reducir el error. Actualización de parámetros: Se actualizan los pesos y sesgos del modelo utilizando los gradientes calculados y la tasa de aprendizaje. Esto ajusta gradualmente el modelo para que se ajuste mejor a los datos de entrenamiento. Evaluación del desempeño: Después de cada época, se evalúa el desempeño del modelo en el conjunto de entrenamiento y en el conjunto de prueba. Se calcula la precisión, que es la fracción de ejemplos clasificados correctamente, y se muestra en la salida.\n",
        "\n",
        "Hay varias optimizaciones y mejoras adicionales que se pueden implementar en el código del descenso del gradiente para el conjunto de datos MNIST.\n",
        "\n",
        "**Regularización:**\n",
        "\n",
        "Agregar un término de regularización (como L1 o L2) a la función de costo para evitar el sobreajuste (overfitting) del modelo. Implementar técnicas como dropout o batch normalization.\n",
        "\n",
        "**Optimizadores:**\n",
        "\n",
        "Utilizar optimizadores más avanzados que el descenso del gradiente estocástico (SGD), como Adam, RMSProp o Adagrad. Estos optimizadores pueden mejorar la convergencia y el rendimiento del entrenamiento.\n",
        "\n",
        "**Momentum y Nesterov Accelerated Gradient:**\n",
        "\n",
        "Agregar el término de momentum al descenso del gradiente para acelerar la convergencia. Implementar el algoritmo de Nesterov Accelerated Gradient, que puede mejorar aún más la velocidad de convergencia.\n",
        "\n",
        "**Ajuste de tasas de aprendizaje:**\n",
        "\n",
        "Implementar técnicas de ajuste de tasas de aprendizaje, como el decaimiento de la tasa de aprendizaje o el ajuste basado en el progreso del entrenamiento.\n",
        "\n",
        "**Preprocesamiento de datos adicional:**\n",
        "\n",
        "Aplicar técnicas de aumentación de datos (data augmentation) como rotaciones, traslaciones o cambios de escala en las imágenes de entrenamiento. Normalizar los datos de entrada utilizando técnicas como la normalización por lotes (batch normalization).\n",
        "\n",
        "**Arquitectura de red:**\n",
        "\n",
        "Explorar arquitecturas de redes neuronales más complejas, como redes convolucionales (CNN), que pueden ser más efectivas para el reconocimiento de dígitos escritos a mano.\n",
        "\n",
        "**Evaluación y métricas adicionales:**\n",
        "\n",
        "Implementar métricas adicionales para evaluar el rendimiento del modelo, como la curva ROC, la precisión por clase, la matriz de confusión, etc. Visualizar los resultados utilizando gráficos y diagramas.\n",
        "\n",
        "**Paralelización y GPU:**\n",
        "\n",
        "Implementar paralelización en el entrenamiento utilizando bibliotecas como NumPy o TensorFlow para aprovechar múltiples núcleos de CPU o GPU.\n",
        "\n",
        "**Guardado y carga de modelos:**\n",
        "\n",
        "Implementar funciones para guardar y cargar los pesos entrenados del modelo, lo que permite continuar el entrenamiento o usar el modelo en otras aplicaciones.\n",
        "\n",
        "**Pruebas y validación:**\n",
        "\n",
        "Agregar pruebas unitarias y de integración para verificar el correcto funcionamiento del código. Implementar una validación cruzada (cross-validation) para evaluar el rendimiento del modelo de manera más robusta."
      ],
      "metadata": {
        "id": "lIABC1KOE2bL"
      }
    },
    {
      "cell_type": "markdown",
      "source": [
        "Este código presenta las conclusiones preliminares de la implementación y evaluación de Forward Propagation, Backpropagation y Descenso del Gradiente (GD) para una red neuronal convolucional (CNN) utilizando la biblioteca NumPy. El objetivo principal fue observar el impacto de la modificación de hiperparámetros y la habilitación de una arquitectura CNN en la precisión del modelo.\n",
        "\n",
        "**Metodología:**\n",
        "\n",
        "**Implementación de Forward Propagation, Backpropagation y GD:**\n",
        "Se implementaron los algoritmos de Forward Propagation, Backpropagation y GD utilizando la biblioteca NumPy. Estos algoritmos son esenciales para el entrenamiento de redes neuronales, permitiendo calcular la salida de la red, propagar el error y actualizar los pesos y sesgos de las neuronas, respectivamente.\n",
        "\n",
        "**Modificación de hiperparámetros:** Se experimentó con diferentes valores para hiperparámetros como la tasa de aprendizaje, el número de épocas y el tamaño del batch. Estos parámetros influyen significativamente en el rendimiento del modelo durante el entrenamiento.\n",
        "\n",
        "**Habilitación de una arquitectura CNN**: Se implementó una arquitectura CNN, la cual utiliza capas convolucionales y de pooling para extraer características espaciales de los datos de entrada. Las CNNs son particularmente efectivas para tareas de visión por computador como la clasificación de imágenes.\n",
        "\n",
        "**Resultados:**\n",
        "\n",
        "Se observó una notable mejora en la precisión del modelo como resultado de la modificación de hiperparámetros y la habilitación de una arquitectura CNN. Los resultados específicos dependen de la configuración particular de los hiperparámetros y la arquitectura de la red.\n",
        "\n",
        "Conclusiones:\n",
        "\n",
        "La implementación de Forward Propagation, Backpropagation y GD utilizando NumPy permite evaluar el comportamiento de estos algoritmos y su impacto en el entrenamiento de redes neuronales.\n",
        "\n",
        "La modificación de hiperparámetros juega un papel fundamental en la optimización del rendimiento del modelo.\n",
        "\n",
        "La arquitectura CNN demostró ser efectiva para mejorar la precisión del modelo en la tarea de clasificación de imágenes.\n",
        "\n"
      ],
      "metadata": {
        "id": "FWfW0MGfJgwW"
      }
    }
  ]
}