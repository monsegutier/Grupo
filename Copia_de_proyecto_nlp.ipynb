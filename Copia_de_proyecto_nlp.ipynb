{
  "nbformat": 4,
  "nbformat_minor": 0,
  "metadata": {
    "colab": {
      "provenance": [],
      "gpuType": "T4",
      "include_colab_link": true
    },
    "kernelspec": {
      "name": "python3",
      "display_name": "Python 3"
    },
    "language_info": {
      "name": "python"
    },
    "accelerator": "GPU"
  },
  "cells": [
    {
      "cell_type": "markdown",
      "metadata": {
        "id": "view-in-github",
        "colab_type": "text"
      },
      "source": [
        "<a href=\"https://colab.research.google.com/github/monsegutier/Grupo4/blob/main/Copia_de_proyecto_nlp.ipynb\" target=\"_parent\"><img src=\"https://colab.research.google.com/assets/colab-badge.svg\" alt=\"Open In Colab\"/></a>"
      ]
    },
    {
      "cell_type": "markdown",
      "source": [
        "# PROYECTO DE DEEP LEARNING EN EL AREA DE LA GENÓMICA\n",
        "# Clasificación de secuencias de ADN codificantes y no codificantes\n"
      ],
      "metadata": {
        "id": "PnE4tygjvnYP"
      }
    },
    {
      "cell_type": "markdown",
      "source": [
        "# Introducción"
      ],
      "metadata": {
        "id": "rVWOH6kLNw0x"
      }
    },
    {
      "cell_type": "markdown",
      "source": [
        "\n",
        "El siguiente proyecto tiene como finalidad desarrollar un modelo de clasificacion, mediante redes neuronales y basado en procesamiento de lenguaje natural, que pueda procesar secuencias genomicas, en este caso, de la bacteria E.coli, e identificar las regiones codificantes y no codificantes, dentro de su secuencia de ADN.\n",
        "\n",
        "\n"
      ],
      "metadata": {
        "id": "FpV2XbIaOZHs"
      }
    },
    {
      "cell_type": "markdown",
      "source": [
        "# Que es el ADN y como está formado?"
      ],
      "metadata": {
        "id": "IIXbfcpyN_Yl"
      }
    },
    {
      "cell_type": "markdown",
      "source": [
        "El ADN, o ácido desoxirribonucleico, es la molécula que contiene la información genética y las instrucciones necesarias para el funcionamiento de todos los organismos vivos, desde bacterias hasta seres humanos. Es una estructura universal, presente en todas las células de todas las especies.\n",
        "\n",
        "Está compuesto por cuatro bloques de construcción básicos, llamados nucleótidos: **adenina (A)**, **guanina (G)**, **citosina (C)** y **timina (T)**. Estos nucleótidos se unen para formar largas cadenas de ADN que contienen información genética codificada. la codificacion se da en tripletes o tambien llamados codones, que estan formados justamente por 3 nucleotidos consecutivos y los cuales codifican informacion para iniciar la lectura de una secuencia, detenerla, o para sintetizar aminoacidos, los bloques estructurales basicos de las proteinas.\n",
        "\n",
        "Las proteínas son macromoléculas poliméricas importantes para la estructura, función y regulación del cuerpo de los organismos vivos."
      ],
      "metadata": {
        "id": "9NpOki0wONLF"
      }
    },
    {
      "cell_type": "markdown",
      "source": [
        "# Regiones codificantes y no codificantes"
      ],
      "metadata": {
        "id": "mNFqum7COm1N"
      }
    },
    {
      "cell_type": "markdown",
      "source": [
        "\n",
        "Dentro del ADN se pueden identificar regiones que son codificantes y no codificantes. A continuacion se desarrolla su diferencia principal:\n",
        "\n",
        "**- Regiones codificantes:** Las regiones codificantes, también conocidas como regiones de codificación abierta, son secuencias de ADN que se transcriben en otra macromolecula llamada ARN mensajero (ARNm) y, finalmente, se traducen en proteínas. los organismos producen estas proteinas para llevar a cabo multiples funciones.\n",
        "\n",
        "**- Regiones no codificantes:** Las regiones no codificantes son secuencias de ADN que no se traducen en proteínas. Sin embargo, estas regiones pueden tener funciones reguladoras, como la regulación de la expresión génica, la replicación del ADN, y la estructura y estabilidad de la molécula de ADN."
      ],
      "metadata": {
        "id": "uIAarhJrJaJP"
      }
    },
    {
      "cell_type": "markdown",
      "source": [
        "# Aporte del proyecto al campo investigativo\n",
        "\n",
        "Clasificar y distinguir entre estas dos categorías de regiones de ADN, ayuda a los investigadores a comprender mejor cómo funciona la genética y cómo se regulan los procesos celulares. Es fundamental en campos como la medicina, la biotecnología y la biología molecular, donde el entendimiento preciso del ADN es esencial para el desarrollo de terapias, diagnósticos y tecnologías innovadoras.\n",
        "\n",
        "## Ejemplos Prácticos\n",
        "\n",
        "1. **Medicina Personalizada**: Ayudar a identificar variantes genéticas específicas en regiones codificantes del ADN que están asociadas con enfermedades hereditarias, permitiendo diagnósticos precisos y tratamientos personalizados.\n",
        "\n",
        "2. **Descubrimiento de Fármacos**: Identificar regiones no codificantes del ADN que regulan la expresión génica permite el desarrollo de medicamentos que actúan sobre estas regiones para tratar enfermedades como el cáncer.\n",
        "\n",
        "3. **Agricultura y Biotecnología**: Identificar genes específicos en plantas que están involucrados en rasgos deseables, facilitando el desarrollo de cultivos genéticamente modificados con características mejoradas.\n",
        "\n",
        "4. **Investigación Básica en Biología Molecular**: Entender cómo se regulan los procesos celulares en condiciones normales y patológicas."
      ],
      "metadata": {
        "id": "b-xmNJGDIEeM"
      }
    },
    {
      "cell_type": "markdown",
      "source": [
        "# El lenguaje natural comparado al lenguaje de la vida"
      ],
      "metadata": {
        "id": "ZjGIVETLQdve"
      }
    },
    {
      "cell_type": "markdown",
      "source": [
        "El procesamiento de lenguaje natural (PLN) podria aplicarse a las secuencias de ADN debido a ciertas similitudes entre las estructuras y las características de ambos. Estas similitudes permiten utilizar métodos y técnicas desarrolladas en PLN para analizar y extraer información significativa de las secuencias de ADN.\n",
        "\n",
        "\n",
        "A continuación, se exploran las similitudes entre el lenguaje natural y las secuencias de ADN:\n",
        "\n",
        "\n",
        "**1. Unidades básicas: letras y nucleótidos**\n",
        "\n",
        "En el lenguaje natural, las letras son los bloques de construcción básicos de las palabras y las oraciones.\n",
        "En el ADN, los nucleótidos (adenina, guanina, citosina y timina) son los bloques de construcción básicos de la molécula de ADN y las secuencias de ADN.\n",
        "\n",
        "**2. Palabras y codones**\n",
        "\n",
        "En el lenguaje natural, las palabras son unidades significativas que transmiten información y significado.\n",
        "En el ADN, los codones (secuencias de tres nucleótidos) son unidades significativas que codifican información para la síntesis de proteínas.\n",
        "También existen codones de inicio y terminación de secuencias codificantes, análogamente a signos de puntuación que organizan el discurso.\n",
        "\n",
        "**3. Oraciones y genes**\n",
        "\n",
        "En el lenguaje natural, las oraciones son unidades complejas que transmiten ideas y conceptos más amplios.\n",
        "En el ADN, los genes son segmentos funcionales de la secuencia de ADN que codifican proteínas o ARN no codificante, y juegan un papel importante en la función celular.\n",
        "\n",
        "**4. Gramática y estructura de ADN**\n",
        "\n",
        "La gramática en el lenguaje natural define reglas para combinar palabras en oraciones significativas y correctamente formadas.\n",
        "En el ADN, las reglas de apareamiento de bases (adenina con timina, guanina con citosina) y la estructura de doble hélice contribuyen a la formación de la molécula de ADN y su estabilidad.\n",
        "A su vez, un error (mutación) en algún fragmento de la secuencia, puede provocar que la maquinaria celular no pueda interpretar el mensaje contenido en dichas secuencias.\n",
        "\n",
        "**5. Sintaxis y secuencias reguladoras**\n",
        "\n",
        "La sintaxis en el lenguaje natural define las reglas para organizar palabras en oraciones coherentes y significativas.\n",
        "En el ADN, las secuencias reguladoras (promotores, enhancers, silenciadores) influencian la expresión génica y la organización de la información genética en el genoma.\n",
        "\n",
        "**6. Semántica y función de las proteínas**\n",
        "La semántica en el lenguaje natural se ocupa del significado de las palabras y las oraciones en un contexto determinado.\n",
        "En el ADN, la información codificada en las secuencias de ADN se traduce en proteínas, que desempeñan funciones específicas en el contexto celular."
      ],
      "metadata": {
        "id": "wrqex4GrJbBe"
      }
    },
    {
      "cell_type": "markdown",
      "source": [
        "# Instalacion de librerias para utilizar bases de datos publicas"
      ],
      "metadata": {
        "id": "DAPycKjMXZPE"
      }
    },
    {
      "cell_type": "code",
      "source": [
        "# Instalación BioPython mediante pip\n",
        "!pip install biopython\n",
        "\n",
        "# Importar los módulos necesarios\n",
        "from Bio import Entrez, SeqIO"
      ],
      "metadata": {
        "id": "jzb0A8Icv2Pd",
        "colab": {
          "base_uri": "https://localhost:8080/"
        },
        "outputId": "c668f42f-4721-48df-cb4d-7cda50f55125"
      },
      "execution_count": null,
      "outputs": [
        {
          "output_type": "stream",
          "name": "stdout",
          "text": [
            "Requirement already satisfied: biopython in /usr/local/lib/python3.10/dist-packages (1.83)\n",
            "Requirement already satisfied: numpy in /usr/local/lib/python3.10/dist-packages (from biopython) (1.25.2)\n"
          ]
        }
      ]
    },
    {
      "cell_type": "markdown",
      "source": [
        "# Descarga del genoma desde base de datos publica, proveniente de GenBank"
      ],
      "metadata": {
        "id": "pRgplPY70Tll"
      }
    },
    {
      "cell_type": "code",
      "source": [
        "# Definir tu dirección de correo electrónico para Entrez\n",
        "Entrez.email = \"falcolv99@gmail.com\""
      ],
      "metadata": {
        "id": "KBJWMT2KYIS1"
      },
      "execution_count": null,
      "outputs": []
    },
    {
      "cell_type": "markdown",
      "source": [
        "Se selecciona la E.coli por ser un organismo altamente estudiado y que posee una cantidad similar de secuencias codificantes y no codificantes, lo cual sera necesario para posteriormente establecer las clases (codificante [0] y no codificante [1])\n",
        "\n",
        "(en un principio se iba a utilizar el genoma del bacteriofago lambda el cual posee una cantidad de bases mucho menor (348k el bacteriofago y 4kk la E.coli) lo cual haria mucho mas facil el manejo de la informacion, pero al tener las clases muy desbalanceadas, no seria posible posteriormente entrenar el modelo de manera eficaz.)"
      ],
      "metadata": {
        "id": "6epzGY4Q03TR"
      }
    },
    {
      "cell_type": "code",
      "source": [
        "# ID de acceso del genoma a descargar desde GenBank\n",
        "genome_id = \"U00096.3\""
      ],
      "metadata": {
        "id": "HDfkzHC1yACD"
      },
      "execution_count": null,
      "outputs": []
    },
    {
      "cell_type": "code",
      "source": [
        "# Descargar el genoma desde GenBank\n",
        "handle = Entrez.efetch(db=\"nuccore\", id=genome_id, rettype=\"gb\", retmode=\"text\")\n",
        "genome_record = SeqIO.read(handle, \"genbank\")"
      ],
      "metadata": {
        "id": "DLsUIxTjyH_O"
      },
      "execution_count": null,
      "outputs": []
    },
    {
      "cell_type": "code",
      "source": [
        "# Guardar el genoma en un archivo\n",
        "output_file = \"E.coli.gb\"\n",
        "SeqIO.write(genome_record, output_file, \"genbank\")\n",
        "\n",
        "# Mover el archivo al almacenamiento de Google Drive\n",
        "from google.colab import drive\n",
        "drive.mount('/content/drive')\n",
        "\n",
        "import shutil\n",
        "shutil.move(output_file, \"/content/drive/My Drive/\" + output_file)"
      ],
      "metadata": {
        "id": "c9GqTBRLyOVm",
        "colab": {
          "base_uri": "https://localhost:8080/",
          "height": 55
        },
        "outputId": "726ec8ce-2cdc-4907-d7ed-9c6acf958a53"
      },
      "execution_count": null,
      "outputs": [
        {
          "output_type": "stream",
          "name": "stdout",
          "text": [
            "Drive already mounted at /content/drive; to attempt to forcibly remount, call drive.mount(\"/content/drive\", force_remount=True).\n"
          ]
        },
        {
          "output_type": "execute_result",
          "data": {
            "text/plain": [
              "'/content/drive/My Drive/E.coli.gb'"
            ],
            "application/vnd.google.colaboratory.intrinsic+json": {
              "type": "string"
            }
          },
          "metadata": {},
          "execution_count": 33
        }
      ]
    },
    {
      "cell_type": "markdown",
      "source": [
        "Se visualizan los 100 primeros nucleotidos del genoma, el cual fue guardado en el Drive"
      ],
      "metadata": {
        "id": "ptjUA6kv0-rh"
      }
    },
    {
      "cell_type": "code",
      "source": [
        "from google.colab import drive\n",
        "import os\n",
        "from Bio import SeqIO\n",
        "\n",
        "# Montar Google Drive\n",
        "drive.mount('/content/drive')\n",
        "\n",
        "# Ruta al archivo del genoma en Google Drive\n",
        "genome_file_path = '/content/drive/My Drive/E.coli.gb'\n",
        "\n",
        "# Verificar si el archivo existe\n",
        "if os.path.exists(genome_file_path):\n",
        "    # Leer el archivo del genoma\n",
        "    with open(genome_file_path, 'r') as file:\n",
        "        genome_record = SeqIO.read(file, 'genbank')\n",
        "\n",
        "    # Visualizar el genoma\n",
        "    print(genome_record.seq[0:101])\n",
        "else:\n",
        "    print(\"El archivo del genoma no se encuentra en la ruta especificada.\")"
      ],
      "metadata": {
        "colab": {
          "base_uri": "https://localhost:8080/"
        },
        "id": "BMDZsVQl0Ii8",
        "outputId": "e0a5d76e-49ba-46c0-c8e9-3b6aaef68dbe"
      },
      "execution_count": null,
      "outputs": [
        {
          "output_type": "stream",
          "name": "stdout",
          "text": [
            "Drive already mounted at /content/drive; to attempt to forcibly remount, call drive.mount(\"/content/drive\", force_remount=True).\n",
            "AGCTTTTCATTCTGACTGCAACGGGCAATATGTCTCTGTGTGGATTAAAAAAAGAGTGTCTGATAGCAGCTTCTGAACTGGTTACCTGCCGTGAGTAAATT\n"
          ]
        }
      ]
    },
    {
      "cell_type": "code",
      "source": [
        "print(\"El genoma completo consta de\", len(genome_record.seq), \"nucleotidos\")"
      ],
      "metadata": {
        "colab": {
          "base_uri": "https://localhost:8080/"
        },
        "id": "GXAhQ37dfSjr",
        "outputId": "14db0550-86d4-4b0e-8542-25bb717c4f73"
      },
      "execution_count": null,
      "outputs": [
        {
          "output_type": "stream",
          "name": "stdout",
          "text": [
            "El genoma completo consta de 4641652 nucleotidos\n"
          ]
        }
      ]
    },
    {
      "cell_type": "markdown",
      "source": [
        "# Pre-procesado de los datos"
      ],
      "metadata": {
        "id": "eKNc5zT61cw7"
      }
    },
    {
      "cell_type": "markdown",
      "source": [
        "Identificacion de secuencias codificantes y no codificantes dentro del genoma.Separacion en dos listas distintas, a través de las anotaciones obtenidas de la base de datos oficial de GenBank"
      ],
      "metadata": {
        "id": "oEqnGhitXw8-"
      }
    },
    {
      "cell_type": "code",
      "source": [
        "from Bio import SeqIO\n",
        "\n",
        "# Ruta al archivo del genoma en tu Google Drive\n",
        "genome_file_path = '/content/drive/My Drive/E.coli.gb'\n",
        "\n",
        "# Verificar si el archivo existe\n",
        "if os.path.exists(genome_file_path):\n",
        "    # Leer el archivo del genoma\n",
        "    with open(genome_file_path, 'r') as file:\n",
        "        genome_record = SeqIO.read(file, 'genbank')\n",
        "\n",
        "\n",
        "    # Inicializar listas para cada región\n",
        "    codon_list = []\n",
        "    non_codon_list = []\n",
        "\n",
        "    # Recorre todas las características (features) del registro GenBank\n",
        "    for feature in genome_record.features:\n",
        "        if feature.type == \"CDS\":  # Si es una región codificante\n",
        "            start = int(feature.location.start.__index__())  # Obtiene la posición de inicio\n",
        "            end = int(feature.location.end.__index__())      # Obtiene la posición de fin\n",
        "            codon_list.append(str(genome_record.seq[start:end]))  # Añade la secuencia codificante a la lista de codones\n",
        "        else:  # Si no es una región codificante\n",
        "            start = int(feature.location.start.__index__())  # Obtiene la posición de inicio\n",
        "            end = int(feature.location.end.__index__())      # Obtiene la posición de fin\n",
        "            non_codon_list.append(str(genome_record.seq[start:end]))  # Añade la secuencia no codificante a la lista de no codones\n",
        "\n",
        "\n",
        "    # Imprime secuencias codificantes y no codificantes\n",
        "    print(\"Secuencia codificante:\")\n",
        "    print(codon_list[1])  # Imprime una secuencias codificante\n",
        "    print(\"\\nSecuencia no codificante:\")\n",
        "    print(non_codon_list[3])  # Imprime una secuencia no codificante\n",
        "else:\n",
        "    print(\"El archivo del genoma no se encuentra en la ruta especificada.\")"
      ],
      "metadata": {
        "id": "-DGvZ3GI_WAL",
        "colab": {
          "base_uri": "https://localhost:8080/"
        },
        "outputId": "b34f7115-daf6-4a35-82ce-7f5678e0aad8"
      },
      "execution_count": null,
      "outputs": [
        {
          "output_type": "stream",
          "name": "stdout",
          "text": [
            "Secuencia codificante:\n",
            "ATGCGAGTGTTGAAGTTCGGCGGTACATCAGTGGCAAATGCAGAACGTTTTCTGCGTGTTGCCGATATTCTGGAAAGCAATGCCAGGCAGGGGCAGGTGGCCACCGTCCTCTCTGCCCCCGCCAAAATCACCAACCACCTGGTGGCGATGATTGAAAAAACCATTAGCGGCCAGGATGCTTTACCCAATATCAGCGATGCCGAACGTATTTTTGCCGAACTTTTGACGGGACTCGCCGCCGCCCAGCCGGGGTTCCCGCTGGCGCAATTGAAAACTTTCGTCGATCAGGAATTTGCCCAAATAAAACATGTCCTGCATGGCATTAGTTTGTTGGGGCAGTGCCCGGATAGCATCAACGCTGCGCTGATTTGCCGTGGCGAGAAAATGTCGATCGCCATTATGGCCGGCGTATTAGAAGCGCGCGGTCACAACGTTACTGTTATCGATCCGGTCGAAAAACTGCTGGCAGTGGGGCATTACCTCGAATCTACCGTCGATATTGCTGAGTCCACCCGCCGTATTGCGGCAAGCCGCATTCCGGCTGATCACATGGTGCTGATGGCAGGTTTCACCGCCGGTAATGAAAAAGGCGAACTGGTGGTGCTTGGACGCAACGGTTCCGACTACTCTGCTGCGGTGCTGGCTGCCTGTTTACGCGCCGATTGTTGCGAGATTTGGACGGACGTTGACGGGGTCTATACCTGCGACCCGCGTCAGGTGCCCGATGCGAGGTTGTTGAAGTCGATGTCCTACCAGGAAGCGATGGAGCTTTCCTACTTCGGCGCTAAAGTTCTTCACCCCCGCACCATTACCCCCATCGCCCAGTTCCAGATCCCTTGCCTGATTAAAAATACCGGAAATCCTCAAGCACCAGGTACGCTCATTGGTGCCAGCCGTGATGAAGACGAATTACCGGTCAAGGGCATTTCCAATCTGAATAACATGGCAATGTTCAGCGTTTCTGGTCCGGGGATGAAAGGGATGGTCGGCATGGCGGCGCGCGTCTTTGCAGCGATGTCACGCGCCCGTATTTCCGTGGTGCTGATTACGCAATCATCTTCCGAATACAGCATCAGTTTCTGCGTTCCACAAAGCGACTGTGTGCGAGCTGAACGGGCAATGCAGGAAGAGTTCTACCTGGAACTGAAAGAAGGCTTACTGGAGCCGCTGGCAGTGACGGAACGGCTGGCCATTATCTCGGTGGTAGGTGATGGTATGCGCACCTTGCGTGGGATCTCGGCGAAATTCTTTGCCGCACTGGCCCGCGCCAATATCAACATTGTCGCCATTGCTCAGGGATCTTCTGAACGCTCAATCTCTGTCGTGGTAAATAACGATGATGCGACCACTGGCGTGCGCGTTACTCATCAGATGCTGTTCAATACCGATCAGGTTATCGAAGTGTTTGTGATTGGCGTCGGTGGCGTTGGCGGTGCGCTGCTGGAGCAACTGAAGCGTCAGCAAAGCTGGCTGAAGAATAAACATATCGACTTACGTGTCTGCGGTGTTGCCAACTCGAAGGCTCTGCTCACCAATGTACATGGCCTTAATCTGGAAAACTGGCAGGAAGAACTGGCGCAAGCCAAAGAGCCGTTTAATCTCGGGCGCTTAATTCGCCTCGTGAAAGAATATCATCTGCTGAACCCGGTCATTGTTGACTGCACTTCCAGCCAGGCAGTGGCGGATCAATATGCCGACTTCCTGCGCGAAGGTTTCCACGTTGTCACGCCGAACAAAAAGGCCAACACCTCGTCGATGGATTACTACCATCAGTTGCGTTATGCGGCGGAAAAATCGCGGCGTAAATTCCTCTATGACACCAACGTTGGGGCTGGATTACCGGTTATTGAGAACCTGCAAAATCTGCTCAATGCAGGTGATGAATTGATGAAGTTCTCCGGCATTCTTTCTGGTTCGCTTTCTTATATCTTCGGCAAGTTAGACGAAGGCATGAGTTTCTCCGAGGCGACCACGCTGGCGCGGGAAATGGGTTATACCGAACCGGACCCGCGAGATGATCTTTCTGGTATGGATGTGGCGCGTAAACTATTGATTCTCGCTCGTGAAACGGGACGTGAACTGGAGCTGGCGGATATTGAAATTGAACCTGTGCTGCCCGCAGAGTTTAACGCCGAGGGTGATGTTGCCGCTTTTATGGCGAATCTGTCACAACTCGACGATCTCTTTGCCGCGCGCGTGGCGAAGGCCCGTGATGAAGGAAAAGTTTTGCGCTATGTTGGCAATATTGATGAAGATGGCGTCTGCCGCGTGAAGATTGCCGAAGTGGATGGTAATGATCCGCTGTTCAAAGTGAAAAATGGCGAAAACGCCCTGGCCTTCTATAGCCACTATTATCAGCCGCTGCCGTTGGTACTGCGCGGATATGGTGCGGGCAATGACGTTACAGCTGCCGGTGTCTTTGCTGATCTGCTACGTACCCTCTCATGGAAGTTAGGAGTCTGA\n",
            "\n",
            "Secuencia no codificante:\n",
            "ATGGTTAAAGTTTATGCCCCGGCTTCCAGTGCCAATATGAGCGTCGGGTTTGATGTGCTCGGGGCGGCGGTGACACCTGTTGATGGTGCATTGCTCGGAGATGTAGTCACGGTTGAGGCGGCAGAGACATTCAGTCTCAACAACCTCGGACGCTTTGCCGATAAGCTGCCGTCAGAACCACGGGAAAATATCGTTTATCAGTGCTGGGAGCGTTTTTGCCAGGAACTGGGTAAGCAAATTCCAGTGGCGATGACCCTGGAAAAGAATATGCCGATCGGTTCGGGCTTAGGCTCCAGTGCCTGTTCGGTGGTCGCGGCGCTGATGGCGATGAATGAACACTGCGGCAAGCCGCTTAATGACACTCGTTTGCTGGCTTTGATGGGCGAGCTGGAAGGCCGTATCTCCGGCAGCATTCATTACGACAACGTGGCACCGTGTTTTCTCGGTGGTATGCAGTTGATGATCGAAGAAAACGACATCATCAGCCAGCAAGTGCCAGGGTTTGATGAGTGGCTGTGGGTGCTGGCGTATCCGGGGATTAAAGTCTCGACGGCAGAAGCCAGGGCTATTTTACCGGCGCAGTATCGCCGCCAGGATTGCATTGCGCACGGGCGACATCTGGCAGGCTTCATTCACGCCTGCTATTCCCGTCAGCCTGAGCTTGCCGCGAAGCTGATGAAAGATGTTATCGCTGAACCCTACCGTGAACGGTTACTGCCAGGCTTCCGGCAGGCGCGGCAGGCGGTCGCGGAAATCGGCGCGGTAGCGAGCGGTATCTCCGGCTCCGGCCCGACCTTGTTCGCTCTGTGTGACAAGCCGGAAACCGCCCAGCGCGTTGCCGACTGGTTGGGTAAGAACTACCTGCAAAATCAGGAAGGTTTTGTTCATATTTGCCGGCTGGATACGGCGGGCGCACGAGTACTGGAAAACTAA\n"
          ]
        }
      ]
    },
    {
      "cell_type": "code",
      "source": [
        "import pickle\n",
        "\n",
        "# Guardar las listas en archivos\n",
        "with open('codon_list.pkl', 'wb') as f:\n",
        "    pickle.dump(codon_list, f)\n",
        "\n",
        "with open('non_codon_list.pkl', 'wb') as f:\n",
        "    pickle.dump(non_codon_list, f)\n",
        "\n",
        "# Contar el número de secuencias codificantes\n",
        "num_codin_sequences = len(codon_list)\n",
        "\n",
        "# Contar el número de secuencias no codificantes\n",
        "num_non_codin_sequences = len(non_codon_list)\n",
        "\n",
        "# Imprimir los números de secuencias\n",
        "print(\"Número de secuencias codificantes:\", num_codin_sequences)\n",
        "print(\"Número de secuencias no codificantes:\", num_non_codin_sequences)\n",
        "\n",
        "# Posteriormente, para cargar las listas desde los archivos\n",
        "with open('codon_list.pkl', 'rb') as f:\n",
        "    codon_list = pickle.load(f)\n",
        "\n",
        "with open('non_codon_list.pkl', 'rb') as f:\n",
        "    non_codon_list = pickle.load(f)"
      ],
      "metadata": {
        "colab": {
          "base_uri": "https://localhost:8080/"
        },
        "id": "LTiuzmS8Q-u9",
        "outputId": "e9fe909d-a28e-4ddd-f355-ef100f5ba5f5"
      },
      "execution_count": null,
      "outputs": [
        {
          "output_type": "stream",
          "name": "stdout",
          "text": [
            "Número de secuencias codificantes: 4315\n",
            "Número de secuencias no codificantes: 4946\n"
          ]
        }
      ]
    },
    {
      "cell_type": "markdown",
      "source": [
        "Numero de secuencias codificantes y no codificantes en el genoma"
      ],
      "metadata": {
        "id": "w40wx1iZ2DmQ"
      }
    },
    {
      "cell_type": "code",
      "source": [
        "# Contar el número de secuencias codificantes\n",
        "num_codin_sequences = len(codon_list)\n",
        "\n",
        "# Contar el número de secuencias no codificantes\n",
        "num_non_codin_sequences = len(non_codon_list)\n",
        "\n",
        "# Imprimir los números de secuencias\n",
        "print(\"Número de secuencias codificantes:\", num_codin_sequences)\n",
        "print(\"Número de secuencias no codificantes:\", num_non_codin_sequences)"
      ],
      "metadata": {
        "colab": {
          "base_uri": "https://localhost:8080/"
        },
        "id": "8Vge_7IlAWLG",
        "outputId": "081a82fc-a865-41cf-985d-9c6c04199775"
      },
      "execution_count": null,
      "outputs": [
        {
          "output_type": "stream",
          "name": "stdout",
          "text": [
            "Número de secuencias codificantes: 4315\n",
            "Número de secuencias no codificantes: 4946\n"
          ]
        }
      ]
    },
    {
      "cell_type": "markdown",
      "source": [
        "A continuacion empezamos a transformar las secuencias de tal forma que puedan ser interpretadas por el modelo. Necesitamos pasar las letras a otro formato. La siguiente función convierte cada carácter de la secuencia de ADN en un número entero según un diccionario especificado (dna_dict = {'A': 0, 'C': 1, 'G': 2, 'T': 3}). La función recorre cada base en la secuencia de ADN y la reemplaza por el número correspondiente:"
      ],
      "metadata": {
        "id": "nx0LlNaQocLi"
      }
    },
    {
      "cell_type": "code",
      "source": [
        "def dna_to_numeric(sequence):\n",
        "    dna_dict = {\"A\": 1, \"C\": 2, \"G\": 3, \"T\": 4}\n",
        "    return np.array([dna_dict.get(base, -1) for base in sequence])"
      ],
      "metadata": {
        "id": "uqXwtJNbb5jg"
      },
      "execution_count": null,
      "outputs": []
    },
    {
      "cell_type": "markdown",
      "source": [
        "El siguiente código genera una lista de secuencias codificantes (codin_encoded) y otra de secuencias no codificantes (non_codin_encoded), ambas en forma numérica, con números enteros representando cada nucleótido."
      ],
      "metadata": {
        "id": "QmOoabRur8xK"
      }
    },
    {
      "cell_type": "code",
      "source": [
        "import numpy as np\n",
        "\n",
        "codin_encoded = list(map(dna_to_numeric, codon_list))\n",
        "non_codin_encoded = list(map(dna_to_numeric, non_codon_list))"
      ],
      "metadata": {
        "id": "EfUUknOReJkS"
      },
      "execution_count": null,
      "outputs": []
    },
    {
      "cell_type": "code",
      "source": [
        "print(\"Secuencia codificante en forma numerica:\")\n",
        "print(codin_encoded[0])  # Imprime una secuencias codificante en forma numerica\n",
        "print(\"\\nSecuencia no codificante en forma numerica:\")\n",
        "print(non_codin_encoded[1])  # Imprime una secuencia no codificante en forma numerica"
      ],
      "metadata": {
        "colab": {
          "base_uri": "https://localhost:8080/"
        },
        "id": "eNKdHQAdhst3",
        "outputId": "0a35408e-1e29-4342-f524-bb205fed86f7"
      },
      "execution_count": null,
      "outputs": [
        {
          "output_type": "stream",
          "name": "stdout",
          "text": [
            "Secuencia codificante en forma numerica:\n",
            "[1 4 3 1 1 1 2 3 2 1 4 4 1 3 2 1 2 2 1 2 2 1 4 4 1 2 2 1 2 2 1 2 2 1 4 2 1\n",
            " 2 2 1 4 4 1 2 2 1 2 1 3 3 4 1 1 2 3 3 4 3 2 3 3 3 2 4 3 1]\n",
            "\n",
            "Secuencia no codificante en forma numerica:\n",
            "[1 4 3 1 1 1 2 3 2 1 4 4 1 3 2 1 2 2 1 2 2 1 4 4 1 2 2 1 2 2 1 2 2 1 4 2 1\n",
            " 2 2 1 4 4 1 2 2 1 2 1 3 3 4 1 1 2 3 3 4 3 2 3 3 3 2 4 3 1]\n"
          ]
        }
      ]
    },
    {
      "cell_type": "markdown",
      "source": [
        "Busqueda de Outliers y adaptacion de longitud de secuencias"
      ],
      "metadata": {
        "id": "JBBiLVQu3U6b"
      }
    },
    {
      "cell_type": "code",
      "source": [
        "# Encuentra la longitud máxima de las secuencias codificadas\n",
        "longitud_maxima_codin = max(len(secuencia) for secuencia in codin_encoded)\n",
        "longitud_maxima_non_codin = max(len(secuencia) for secuencia in non_codin_encoded)\n",
        "\n",
        "print(\"Longitud máxima de secuencia codificante:\", longitud_maxima_codin)\n",
        "print(\"Longitud máxima de secuencia no codificante:\", longitud_maxima_non_codin)"
      ],
      "metadata": {
        "colab": {
          "base_uri": "https://localhost:8080/"
        },
        "id": "FW8tm2ta2YkB",
        "outputId": "003ccb05-197b-4025-b5b1-806b65f9b97f"
      },
      "execution_count": null,
      "outputs": [
        {
          "output_type": "stream",
          "name": "stdout",
          "text": [
            "Longitud máxima de secuencia codificante: 8622\n",
            "Longitud máxima de secuencia no codificante: 4641652\n"
          ]
        }
      ]
    },
    {
      "cell_type": "code",
      "source": [
        "\n",
        "max_length = 10000\n",
        "# Crea una lista de booleanos que indican si la longitud de cada secuencia supera la longitud máxima\n",
        "is_longer = [len(seq) > max_length for seq in non_codin_encoded]\n",
        "\n",
        "# Cuenta el número de secuencias que superen la longitud máxima\n",
        "num_sequences = sum(is_longer)\n",
        "\n",
        "# Imprime el número de secuencias\n",
        "print(\"Número de secuencias con longitud superior a 10,000:\", num_sequences)\n"
      ],
      "metadata": {
        "id": "rrggFf2F-E7H",
        "outputId": "2055aa36-7887-4c69-e5b5-a2381001a502",
        "colab": {
          "base_uri": "https://localhost:8080/"
        }
      },
      "execution_count": null,
      "outputs": [
        {
          "output_type": "stream",
          "name": "stdout",
          "text": [
            "Número de secuencias con longitud superior a 10,000: 9\n"
          ]
        }
      ]
    },
    {
      "cell_type": "markdown",
      "source": [
        "Vemos que hay 9 secuencias no codificantes que superan por mucho en longitud a las codificantes, lo que podria interferir en el funcionamiento del modelo posteriormente."
      ],
      "metadata": {
        "id": "-rq0rkx69uMR"
      }
    },
    {
      "cell_type": "code",
      "source": [
        "max_length = 10000\n",
        "# Recorre la lista de secuencias no codificantes en orden inverso\n",
        "for i in range(len(non_codin_encoded) - 1, -1, -1):\n",
        "    if len(non_codin_encoded[i]) > max_length:\n",
        "        del non_codin_encoded[i]\n",
        "\n",
        "longitud_maxima_non_codin = max(len(secuencia) for secuencia in non_codin_encoded)\n",
        "print(\"Longitud máxima de secuencia no codificante:\", longitud_maxima_non_codin)\n"
      ],
      "metadata": {
        "colab": {
          "base_uri": "https://localhost:8080/"
        },
        "id": "DCGR5tag8z3I",
        "outputId": "34cf9de0-efc3-4e0c-b896-f5ac295e8dd4"
      },
      "execution_count": null,
      "outputs": [
        {
          "output_type": "stream",
          "name": "stdout",
          "text": [
            "Longitud máxima de secuencia no codificante: 8622\n"
          ]
        }
      ]
    },
    {
      "cell_type": "markdown",
      "source": [
        "Comprobacion grafica de ambas clases en cuanto longitud de las secuencias."
      ],
      "metadata": {
        "id": "MEKt6b2Q3ih6"
      }
    },
    {
      "cell_type": "code",
      "source": [
        "import matplotlib.pyplot as plt\n",
        "\n",
        "# Calcula las longitudes de las secuencias codificadas y no codificadas\n",
        "longitudes_codin = [len(secuencia) for secuencia in codin_encoded]\n",
        "longitudes_non_codin = [len(secuencia) for secuencia in non_codin_encoded]\n",
        "\n",
        "# Crea el gráfico de barras para las secuencias codificadas\n",
        "plt.figure(figsize=(10, 5))\n",
        "plt.hist(longitudes_codin, bins=30, color='blue', alpha=0.7)\n",
        "plt.title('Distribución de Longitudes de Secuencias Codificantes')\n",
        "plt.xlabel('Longitud de Secuencia')\n",
        "plt.ylabel('Frecuencia')\n",
        "plt.grid(True)\n",
        "plt.show()\n",
        "\n",
        "# Crea el gráfico de barras para las secuencias no codificadas\n",
        "plt.figure(figsize=(10, 5))\n",
        "plt.hist(longitudes_non_codin, bins=30, color='red', alpha=0.7)\n",
        "plt.title('Distribución de Longitudes de Secuencias No Codificantes')\n",
        "plt.xlabel('Longitud de Secuencia')\n",
        "plt.ylabel('Frecuencia')\n",
        "plt.grid(True)\n",
        "plt.show()"
      ],
      "metadata": {
        "colab": {
          "base_uri": "https://localhost:8080/",
          "height": 959
        },
        "id": "i7gNWQrTl4sr",
        "outputId": "cd10176c-d555-4d83-c10f-d16b18227587"
      },
      "execution_count": null,
      "outputs": [
        {
          "output_type": "display_data",
          "data": {
            "text/plain": [
              "<Figure size 1000x500 with 1 Axes>"
            ],
            "image/png": "[encoded data removed]"
          },
          "metadata": {}
        },
        {
          "output_type": "display_data",
          "data": {
            "text/plain": [
              "<Figure size 1000x500 with 1 Axes>"
            ],
            "image/png": "[encoded data removed]"
          },
          "metadata": {}
        }
      ]
    },
    {
      "cell_type": "markdown",
      "source": [
        "Como aun hay pocas secuencias con una longitud mucho mayor que el resto, se filtran ambas listas, tomando como limite 4000 como longitud máxima y eliminando datos del modelo que distan demasiado de la distribución global y podrían interferir en el entrenamiento y aprendizaje del modelo"
      ],
      "metadata": {
        "id": "OTc47x_F37yf"
      }
    },
    {
      "cell_type": "code",
      "source": [
        "max_length = 4000\n",
        "# Recorre la lista de secuencias codificantes en orden inverso\n",
        "for i in range(len(codin_encoded) - 1, -1, -1):\n",
        "    if len(codin_encoded[i]) > max_length:\n",
        "        del codin_encoded[i]\n",
        "\n",
        "# Recorre la lista de secuencias no codificantes en orden inverso\n",
        "for i in range(len(non_codin_encoded) - 1, -1, -1):\n",
        "    if len(non_codin_encoded[i]) > max_length:\n",
        "        del non_codin_encoded[i]\n"
      ],
      "metadata": {
        "id": "yh5TPgJR_uau"
      },
      "execution_count": null,
      "outputs": []
    },
    {
      "cell_type": "markdown",
      "source": [
        "Se procede a analizar graficamente la distribucion de los datos"
      ],
      "metadata": {
        "id": "IW9h-STrAksA"
      }
    },
    {
      "cell_type": "code",
      "source": [
        "# Calcula las longitudes de las secuencias codificadas y no codificadas\n",
        "longitudes_codin = [len(secuencia) for secuencia in codin_encoded]\n",
        "longitudes_non_codin = [len(secuencia) for secuencia in non_codin_encoded]\n",
        "\n",
        "# Crea el gráfico de barras para las secuencias codificadas\n",
        "plt.figure(figsize=(10, 5))\n",
        "plt.hist(longitudes_codin, bins=30, color='blue', alpha=0.7)\n",
        "plt.title('Distribución de Longitudes de Secuencias Codificantes')\n",
        "plt.xlabel('Longitud de Secuencia')\n",
        "plt.ylabel('Frecuencia')\n",
        "plt.grid(True)\n",
        "plt.show()\n",
        "\n",
        "# Crea el gráfico de barras para las secuencias no codificadas\n",
        "plt.figure(figsize=(10, 5))\n",
        "plt.hist(longitudes_non_codin, bins=30, color='red', alpha=0.7)\n",
        "plt.title('Distribución de Longitudes de Secuencias No Codificantes')\n",
        "plt.xlabel('Longitud de Secuencia')\n",
        "plt.ylabel('Frecuencia')\n",
        "plt.grid(True)\n",
        "plt.show()"
      ],
      "metadata": {
        "colab": {
          "base_uri": "https://localhost:8080/",
          "height": 959
        },
        "id": "b-qS_sEaz2fO",
        "outputId": "b1cef04b-8824-466f-d87b-6de0b75580ac"
      },
      "execution_count": null,
      "outputs": [
        {
          "output_type": "display_data",
          "data": {
            "text/plain": [
              "<Figure size 1000x500 with 1 Axes>"
            ],
            "image/png": "[encoded data removed]"
          },
          "metadata": {}
        },
        {
          "output_type": "display_data",
          "data": {
            "text/plain": [
              "<Figure size 1000x500 with 1 Axes>"
            ],
            "image/png": "[encoded data removed]"
          },
          "metadata": {}
        }
      ]
    },
    {
      "cell_type": "code",
      "source": [
        "# Encuentra la longitud máxima de las secuencias codificadas\n",
        "longitud_maxima_codin = max(len(secuencia) for secuencia in codin_encoded)\n",
        "longitud_maxima_non_codin = max(len(secuencia) for secuencia in non_codin_encoded)\n",
        "\n",
        "print(\"Longitud máxima de secuencia codificante:\", longitud_maxima_codin)\n",
        "print(\"Longitud máxima de secuencia no codificante:\", longitud_maxima_non_codin)"
      ],
      "metadata": {
        "colab": {
          "base_uri": "https://localhost:8080/"
        },
        "id": "AJKhXqmnRGGm",
        "outputId": "551cae9e-beba-4182-9e40-46644fcfb511"
      },
      "execution_count": null,
      "outputs": [
        {
          "output_type": "stream",
          "name": "stdout",
          "text": [
            "Longitud máxima de secuencia codificante: 3990\n",
            "Longitud máxima de secuencia no codificante: 3990\n"
          ]
        }
      ]
    },
    {
      "cell_type": "markdown",
      "source": [
        "# Pre-procesamiento de las secuencias para ser utilizadas por el modelo"
      ],
      "metadata": {
        "id": "ovsOllhpTSDt"
      }
    },
    {
      "cell_type": "markdown",
      "source": [
        "Al poseer distintas longitudes cada secuencia, como posteriormente deberemos llevar los datos en forma de matriz homogenea de Numpy para alimentar el modelo de red neuronal, se aplica Padding a las secuencias, para completar los valores con ceros y que todas las secuencias tengan la misma longitud"
      ],
      "metadata": {
        "id": "9F14Dbr84d_v"
      }
    },
    {
      "cell_type": "code",
      "source": [
        "import numpy as np\n",
        "from tensorflow.keras.preprocessing.sequence import pad_sequences\n",
        "\n",
        "longitud_maxima = 4000\n",
        "\n",
        "# Aplica padding a las secuencias codificadas numéricamente\n",
        "x_codin_padded = pad_sequences(codin_encoded, maxlen=longitud_maxima, padding='post', truncating='post', value=0)\n",
        "x_non_codin_padded = pad_sequences(non_codin_encoded, maxlen=longitud_maxima, padding='post', truncating='post', value=0)\n",
        "\n",
        "# Convertir a arrays de NumPy\n",
        "x_codin_padded = np.array(x_codin_padded)\n",
        "x_non_codin_padded = np.array(x_non_codin_padded)\n"
      ],
      "metadata": {
        "id": "uoxtgCR0VuNv"
      },
      "execution_count": null,
      "outputs": []
    },
    {
      "cell_type": "markdown",
      "source": [
        "En este paso ya podemos obtener los datos y sus etiquetas. Tambien ya podemos dividir los datos que usaremos para entrenamiento y para prueba del modelo. Previamente se le realiza una normalización mediante StandarScaler(), de ScikitLearn."
      ],
      "metadata": {
        "id": "juKiN6pbRsqz"
      }
    },
    {
      "cell_type": "code",
      "source": [
        "from sklearn.preprocessing import StandardScaler\n",
        "import numpy as np\n",
        "\n",
        "# Normalizar los datos codificantes y no codificantes separadamente\n",
        "scaler_codin = StandardScaler()\n",
        "scaler_non_codin = StandardScaler()\n",
        "\n",
        "# Ajustar el escalado utilizando datos codificantes\n",
        "scaler_codin.fit(x_codin_padded)\n",
        "x_codin_padded_normalized = scaler_codin.transform(x_codin_padded)\n",
        "\n",
        "# Ajustar el escalado utilizando datos no codificantes\n",
        "scaler_non_codin.fit(x_non_codin_padded)\n",
        "x_non_codin_padded_normalized = scaler_non_codin.transform(x_non_codin_padded)\n",
        "\n",
        "# Concatenar las matrices normalizadas\n",
        "X_normalized = np.concatenate((x_codin_padded_normalized, x_non_codin_padded_normalized), axis=0)\n",
        "\n",
        "# Concatenar etiquetas\n",
        "y = np.concatenate((np.zeros(len(x_codin_padded)), np.ones(len(x_non_codin_padded))), axis=0)\n",
        "\n",
        "# Dividir los datos en conjunto de entrenamiento y de prueba\n",
        "from sklearn.model_selection import train_test_split\n",
        "X_train, X_test, y_train, y_test = train_test_split(X_normalized, y, test_size=0.2, random_state=42)"
      ],
      "metadata": {
        "id": "f-tw3SLR4zoY"
      },
      "execution_count": null,
      "outputs": []
    },
    {
      "cell_type": "markdown",
      "source": [
        "# Modelo elegido de red neuronal: CNN\n",
        "\n",
        "Una **red neuronal convolucional** (Convolutional Neural Network o CNN) es un tipo de red neuronal artificial inspirada en la estructura y el funcionamiento de la corteza visual en el cerebro humano.\n",
        "Las CNNs constan de varias capas de procesamiento, incluyendo:\n",
        "\n",
        "**Capa de convolución:** extrae características locales de la entrada a través de filtros de convolución.\n",
        "\n",
        "**Capa de agrupación:** reduce el tamaño de los datos y mantiene las características relevantes mediante funciones de agregación como la función máxima o media.\n",
        "\n",
        "**Capa de aplanamiento:** transforma las características extraídas en una sola representación vectorial.\n",
        "\n",
        "**Capas completas conectadas:** se encargan de la clasificación o regresión basándose en las características extraídas por las capas anteriores.\n",
        "\n",
        "\n",
        "\n",
        "# Fortalezas y debilidades\n",
        "\n",
        "**Fortalezas:** Son eficientes en términos de computación y\n",
        "parámetros y se pueden entrenar en grandes conjuntos de\n",
        "datos.\n",
        "Son útiles para la clasificación de texto y altamente eficientes en la extracción automática de características y la representación jerárquica de los datos.\n",
        "\n",
        "**Debilidades:** No pueden procesar secuencias de longitud variable y son\n",
        " menos adecuados para problemas de lenguaje natural\n",
        "donde el orden de las palabras es importante.\n",
        "Tienen dificultades para capturar dependencias temporales\n",
        "complejas.\n",
        "\n",
        "------------\n",
        "\n",
        "Conforme a las características expuestas, se elige una arquitectura de red neuronal convolucional, aprovechando su eficiencia computacional y solucionando el inconveniente de no poder procesar secuencias de distinto tamaño, aplicando padding a las secuencias para igualar su longitud y poder ser utilizadas posteriormente por el modelo.\n",
        "Si bien estás redes se utilizan frecuentemente para procesar imágenes, en este caso es utilizada mediante capas convolucionales 1D (unidimensionales), debido a la naturaleza de los datos utilizados (secuencias lineales de caracteres transformadas a secuencias numéricas en matrices).\n",
        "\n",
        "En su momento también se evaluó el utilizar una arquitectura de RNN de tipo LSTM, y si bien también se obtenían buenos resultados, el tiempo y costó computacional era superior, optando finalmente por el modelo CNN."
      ],
      "metadata": {
        "id": "8KvfVFGAA-QQ"
      }
    },
    {
      "cell_type": "code",
      "source": [
        "import numpy as np\n",
        "import tensorflow as tf\n",
        "from tensorflow.keras.models import Sequential\n",
        "from tensorflow.keras.layers import Dense, Embedding, GlobalAveragePooling1D, Dropout\n",
        "from tensorflow.keras.optimizers import Adam, RMSprop, Adagrad\n",
        "from tensorflow.keras.layers import Conv1D\n",
        "from tensorflow.keras.regularizers import l1, l2\n",
        "import matplotlib.pyplot as plt\n",
        "\n",
        "model = Sequential([\n",
        "    Embedding(input_dim=4, output_dim=64, input_length=4000), #  Se puede ajustar output_dim\n",
        "    Conv1D(filters=64, kernel_size=3, padding='same', activation='relu'),\n",
        "    Conv1D(filters=64, kernel_size=3, padding='same', activation='relu'),\n",
        "    GlobalAveragePooling1D(),\n",
        "    Dense(64, activation='tanh'), # Ajustar el número de neuronas\n",
        "    Dropout(0.1), # Ajustar la tasa de dropout\n",
        "    Dense(1, activation='sigmoid')\n",
        "])\n",
        "\n",
        "model.compile(optimizer=Adam(), # Ajustar el learning rate\n",
        "              loss='binary_crossentropy',\n",
        "              metrics=['accuracy'])"
      ],
      "metadata": {
        "id": "rRy-NfcLrHw6"
      },
      "execution_count": null,
      "outputs": []
    },
    {
      "cell_type": "code",
      "source": [
        "import matplotlib.pyplot as plt\n",
        "\n",
        "# Entrenar el modelo\n",
        "history = model.fit(X_train, y_train, epochs=50, batch_size=32, validation_data=(X_test, y_test))\n",
        "\n",
        "# Evaluar el modelo\n",
        "loss, accuracy = model.evaluate(X_test, y_test)\n",
        "print(\"Accuracy:\", accuracy)\n",
        "\n",
        "# Obtener las métricas durante el entrenamiento\n",
        "train_loss = history.history['loss']\n",
        "val_loss = history.history['val_loss']\n",
        "train_acc = history.history['accuracy']\n",
        "val_acc = history.history['val_accuracy']\n",
        "epochs = range(1, len(train_loss) + 1)\n",
        "\n",
        "# Graficar la pérdida\n",
        "plt.figure(figsize=(12, 4))\n",
        "plt.subplot(1, 2, 1)\n",
        "plt.plot(epochs, train_loss, label='Train Loss')\n",
        "plt.plot(epochs, val_loss, label='Validation Loss')\n",
        "plt.title('Loss')\n",
        "plt.xlabel('Epochs')\n",
        "plt.ylabel('Loss')\n",
        "plt.legend()\n",
        "\n",
        "# Graficar la precisión\n",
        "plt.subplot(1, 2, 2)\n",
        "plt.plot(epochs, train_acc, label='Train Accuracy')\n",
        "plt.plot(epochs, val_acc, label='Validation Accuracy')\n",
        "plt.title('Accuracy')\n",
        "plt.xlabel('Epochs')\n",
        "plt.ylabel('Accuracy')\n",
        "plt.legend()\n",
        "\n",
        "plt.show()"
      ],
      "metadata": {
        "colab": {
          "base_uri": "https://localhost:8080/",
          "height": 1000
        },
        "id": "Qbh10Ci9RYqc",
        "outputId": "4ddf8c57-c845-4ba8-ed2c-31ce9b7700e9"
      },
      "execution_count": null,
      "outputs": [
        {
          "output_type": "stream",
          "name": "stdout",
          "text": [
            "Epoch 1/50\n",
            "231/231 [==============================] - 14s 52ms/step - loss: 0.6911 - accuracy: 0.5346 - val_loss: 0.6915 - val_accuracy: 0.5298\n",
            "Epoch 2/50\n",
            "231/231 [==============================] - 5s 21ms/step - loss: 0.6918 - accuracy: 0.5330 - val_loss: 0.6911 - val_accuracy: 0.5298\n",
            "Epoch 3/50\n",
            "231/231 [==============================] - 5s 21ms/step - loss: 0.6900 - accuracy: 0.5363 - val_loss: 0.6904 - val_accuracy: 0.5298\n",
            "Epoch 4/50\n",
            "231/231 [==============================] - 5s 21ms/step - loss: 0.6865 - accuracy: 0.5444 - val_loss: 0.6849 - val_accuracy: 0.5423\n",
            "Epoch 5/50\n",
            "231/231 [==============================] - 5s 21ms/step - loss: 0.6742 - accuracy: 0.5702 - val_loss: 0.6659 - val_accuracy: 0.5656\n",
            "Epoch 6/50\n",
            "231/231 [==============================] - 4s 18ms/step - loss: 0.6485 - accuracy: 0.6080 - val_loss: 0.6180 - val_accuracy: 0.7077\n",
            "Epoch 7/50\n",
            "231/231 [==============================] - 4s 19ms/step - loss: 0.6121 - accuracy: 0.6755 - val_loss: 0.5728 - val_accuracy: 0.7413\n",
            "Epoch 8/50\n",
            "231/231 [==============================] - 5s 20ms/step - loss: 0.5581 - accuracy: 0.7365 - val_loss: 0.6309 - val_accuracy: 0.6264\n",
            "Epoch 9/50\n",
            "231/231 [==============================] - 4s 18ms/step - loss: 0.4378 - accuracy: 0.8279 - val_loss: 0.3239 - val_accuracy: 0.8877\n",
            "Epoch 10/50\n",
            "231/231 [==============================] - 4s 18ms/step - loss: 0.3015 - accuracy: 0.8956 - val_loss: 0.2527 - val_accuracy: 0.9149\n",
            "Epoch 11/50\n",
            "231/231 [==============================] - 4s 18ms/step - loss: 0.2640 - accuracy: 0.9124 - val_loss: 0.2416 - val_accuracy: 0.9165\n",
            "Epoch 12/50\n",
            "231/231 [==============================] - 4s 17ms/step - loss: 0.2331 - accuracy: 0.9222 - val_loss: 0.2053 - val_accuracy: 0.9355\n",
            "Epoch 13/50\n",
            "231/231 [==============================] - 4s 19ms/step - loss: 0.2149 - accuracy: 0.9265 - val_loss: 0.2068 - val_accuracy: 0.9273\n",
            "Epoch 14/50\n",
            "231/231 [==============================] - 4s 18ms/step - loss: 0.2000 - accuracy: 0.9327 - val_loss: 0.1659 - val_accuracy: 0.9496\n",
            "Epoch 15/50\n",
            "231/231 [==============================] - 5s 20ms/step - loss: 0.1878 - accuracy: 0.9352 - val_loss: 0.1761 - val_accuracy: 0.9376\n",
            "Epoch 16/50\n",
            "231/231 [==============================] - 4s 19ms/step - loss: 0.1742 - accuracy: 0.9397 - val_loss: 0.1610 - val_accuracy: 0.9490\n",
            "Epoch 17/50\n",
            "231/231 [==============================] - 5s 20ms/step - loss: 0.1541 - accuracy: 0.9470 - val_loss: 0.2163 - val_accuracy: 0.9214\n",
            "Epoch 18/50\n",
            "231/231 [==============================] - 4s 19ms/step - loss: 0.1471 - accuracy: 0.9467 - val_loss: 0.1505 - val_accuracy: 0.9523\n",
            "Epoch 19/50\n",
            "231/231 [==============================] - 4s 19ms/step - loss: 0.1399 - accuracy: 0.9500 - val_loss: 0.1331 - val_accuracy: 0.9572\n",
            "Epoch 20/50\n",
            "231/231 [==============================] - 4s 18ms/step - loss: 0.1357 - accuracy: 0.9527 - val_loss: 0.1423 - val_accuracy: 0.9452\n",
            "Epoch 21/50\n",
            "231/231 [==============================] - 4s 18ms/step - loss: 0.1249 - accuracy: 0.9569 - val_loss: 0.1234 - val_accuracy: 0.9517\n",
            "Epoch 22/50\n",
            "231/231 [==============================] - 4s 19ms/step - loss: 0.1293 - accuracy: 0.9546 - val_loss: 0.1045 - val_accuracy: 0.9648\n",
            "Epoch 23/50\n",
            "231/231 [==============================] - 4s 18ms/step - loss: 0.1111 - accuracy: 0.9604 - val_loss: 0.1095 - val_accuracy: 0.9588\n",
            "Epoch 24/50\n",
            "231/231 [==============================] - 4s 18ms/step - loss: 0.1128 - accuracy: 0.9596 - val_loss: 0.1136 - val_accuracy: 0.9561\n",
            "Epoch 25/50\n",
            "231/231 [==============================] - 4s 19ms/step - loss: 0.1085 - accuracy: 0.9596 - val_loss: 0.0891 - val_accuracy: 0.9658\n",
            "Epoch 26/50\n",
            "231/231 [==============================] - 4s 18ms/step - loss: 0.1062 - accuracy: 0.9616 - val_loss: 0.1246 - val_accuracy: 0.9496\n",
            "Epoch 27/50\n",
            "231/231 [==============================] - 4s 19ms/step - loss: 0.1064 - accuracy: 0.9630 - val_loss: 0.0868 - val_accuracy: 0.9691\n",
            "Epoch 28/50\n",
            "231/231 [==============================] - 4s 19ms/step - loss: 0.0928 - accuracy: 0.9683 - val_loss: 0.0821 - val_accuracy: 0.9734\n",
            "Epoch 29/50\n",
            "231/231 [==============================] - 5s 20ms/step - loss: 0.0915 - accuracy: 0.9672 - val_loss: 0.0771 - val_accuracy: 0.9685\n",
            "Epoch 30/50\n",
            "231/231 [==============================] - 4s 19ms/step - loss: 0.0862 - accuracy: 0.9692 - val_loss: 0.0814 - val_accuracy: 0.9729\n",
            "Epoch 31/50\n",
            "231/231 [==============================] - 4s 19ms/step - loss: 0.0848 - accuracy: 0.9694 - val_loss: 0.0708 - val_accuracy: 0.9756\n",
            "Epoch 32/50\n",
            "231/231 [==============================] - 5s 20ms/step - loss: 0.0760 - accuracy: 0.9729 - val_loss: 0.0623 - val_accuracy: 0.9772\n",
            "Epoch 33/50\n",
            "231/231 [==============================] - 4s 18ms/step - loss: 0.0769 - accuracy: 0.9730 - val_loss: 0.0663 - val_accuracy: 0.9767\n",
            "Epoch 34/50\n",
            "231/231 [==============================] - 4s 19ms/step - loss: 0.0728 - accuracy: 0.9734 - val_loss: 0.0601 - val_accuracy: 0.9789\n",
            "Epoch 35/50\n",
            "231/231 [==============================] - 4s 18ms/step - loss: 0.0742 - accuracy: 0.9725 - val_loss: 0.0580 - val_accuracy: 0.9805\n",
            "Epoch 36/50\n",
            "231/231 [==============================] - 4s 19ms/step - loss: 0.0736 - accuracy: 0.9723 - val_loss: 0.0549 - val_accuracy: 0.9816\n",
            "Epoch 37/50\n",
            "231/231 [==============================] - 4s 18ms/step - loss: 0.0706 - accuracy: 0.9748 - val_loss: 0.0646 - val_accuracy: 0.9794\n",
            "Epoch 38/50\n",
            "231/231 [==============================] - 4s 18ms/step - loss: 0.0663 - accuracy: 0.9753 - val_loss: 0.0480 - val_accuracy: 0.9816\n",
            "Epoch 39/50\n",
            "231/231 [==============================] - 4s 18ms/step - loss: 0.0598 - accuracy: 0.9782 - val_loss: 0.0480 - val_accuracy: 0.9826\n",
            "Epoch 40/50\n",
            "231/231 [==============================] - 4s 18ms/step - loss: 0.0621 - accuracy: 0.9774 - val_loss: 0.0502 - val_accuracy: 0.9848\n",
            "Epoch 41/50\n",
            "231/231 [==============================] - 5s 20ms/step - loss: 0.0609 - accuracy: 0.9756 - val_loss: 0.0481 - val_accuracy: 0.9843\n",
            "Epoch 42/50\n",
            "231/231 [==============================] - 4s 18ms/step - loss: 0.0684 - accuracy: 0.9745 - val_loss: 0.0555 - val_accuracy: 0.9816\n",
            "Epoch 43/50\n",
            "231/231 [==============================] - 4s 18ms/step - loss: 0.0685 - accuracy: 0.9737 - val_loss: 0.0458 - val_accuracy: 0.9859\n",
            "Epoch 44/50\n",
            "231/231 [==============================] - 5s 20ms/step - loss: 0.0577 - accuracy: 0.9782 - val_loss: 0.0484 - val_accuracy: 0.9870\n",
            "Epoch 45/50\n",
            "231/231 [==============================] - 4s 19ms/step - loss: 0.0546 - accuracy: 0.9813 - val_loss: 0.0852 - val_accuracy: 0.9615\n",
            "Epoch 46/50\n",
            "231/231 [==============================] - 4s 19ms/step - loss: 0.0595 - accuracy: 0.9780 - val_loss: 0.0769 - val_accuracy: 0.9680\n",
            "Epoch 47/50\n",
            "231/231 [==============================] - 5s 20ms/step - loss: 0.0571 - accuracy: 0.9786 - val_loss: 0.0430 - val_accuracy: 0.9864\n",
            "Epoch 48/50\n",
            "231/231 [==============================] - 4s 18ms/step - loss: 0.0548 - accuracy: 0.9803 - val_loss: 0.0694 - val_accuracy: 0.9713\n",
            "Epoch 49/50\n",
            "231/231 [==============================] - 4s 19ms/step - loss: 0.0635 - accuracy: 0.9757 - val_loss: 0.0434 - val_accuracy: 0.9826\n",
            "Epoch 50/50\n",
            "231/231 [==============================] - 5s 20ms/step - loss: 0.0563 - accuracy: 0.9780 - val_loss: 0.0480 - val_accuracy: 0.9854\n",
            "58/58 [==============================] - 0s 7ms/step - loss: 0.0480 - accuracy: 0.9854\n",
            "Accuracy: 0.985357940196991\n"
          ]
        },
        {
          "output_type": "display_data",
          "data": {
            "text/plain": [
              "<Figure size 1200x400 with 2 Axes>"
            ],
            "image/png": "[encoded data removed]"
          },
          "metadata": {}
        }
      ]
    },
    {
      "cell_type": "markdown",
      "source": [
        "Las curvas de entrenamiento y validación se mantienen cercanas y siguen mejorando a medida que avanza el entrenamiento, esto indica que el modelo está generalizando bien y no hay overfitting significativo al parecer.\n",
        "\n",
        "Ha comenzado a mejorar sustancialmente el entrenamiento del modelo al aplicar normalizacion mediante standarscaler luego de aplicar padding a los datos en el pre-procesamiento\n",
        "\n",
        "Posteriormente, se logra un accuracy de 93% al agregar una capa convolucional 1D extra luego de la capa de embedding.\n",
        "Se prueba agregando una nueva capa  convolusional 1D y el accuracy llega hasta 98%, sin embargo llama la atencion la oscilacion de la curva de validacion, lo que sugiere hacer revisiones extras."
      ],
      "metadata": {
        "id": "_oiSf0ibV2b9"
      }
    },
    {
      "cell_type": "markdown",
      "source": [
        "# Conclusiones\n",
        "\n",
        "Se ha podido llevar a cabo el objetivo inicial buscado: desarrollar una arquitectura de inteligencia artificial que pudiera procesar el genoma de un organismo y aprender a diferenciar sus secuencias codificantes y no codificantes.\n",
        "Esto puede suponer una invención útil en investigación científica, en el área de la bioinformática. La identificación de secuencias suele hacerse en laboratorios con un costo elevado. En caso de poder extrapolar el aprendizaje de un microorganismo como la E.coli en este caso, a otras variantes de la misma bacteria, podría utilizarse como herramienta para identificación de secuencias que pudieran ser genes con funciones importantes o valiosas para la investigación en el área."
      ],
      "metadata": {
        "id": "bN2_IokU9LcG"
      }
    }
  ]
}